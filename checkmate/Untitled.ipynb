{
 "cells": [
  {
   "cell_type": "markdown",
   "id": "fixed-sport",
   "metadata": {},
   "source": [
    "You need to find a chessboard on an image. Once you do you need to figure out where all the pieces are. After that you need to figure out if either king is in check. For maximum points figure out if that check is a checkmate."
   ]
  },
  {
   "cell_type": "code",
   "execution_count": 1,
   "id": "revised-norfolk",
   "metadata": {},
   "outputs": [
    {
     "ename": "SyntaxError",
     "evalue": "invalid syntax (<ipython-input-1-aea5c79cabc0>, line 1)",
     "output_type": "error",
     "traceback": [
      "\u001b[1;36m  File \u001b[1;32m\"<ipython-input-1-aea5c79cabc0>\"\u001b[1;36m, line \u001b[1;32m1\u001b[0m\n\u001b[1;33m    You are provided with a path to a folder in a form of <prefix>/<test_case_num> where <test_case_num> is the current test case. The folder's structure is as follows:\u001b[0m\n\u001b[1;37m        ^\u001b[0m\n\u001b[1;31mSyntaxError\u001b[0m\u001b[1;31m:\u001b[0m invalid syntax\n"
     ]
    }
   ],
   "source": [
    "You are provided with a path to a folder in a form of <prefix>/<test_case_num> where <test_case_num> is the current test case. The folder's structure is as follows:\n",
    "\n",
    "<test_case_num>:\n",
    "│   <test_case_num>.png\n",
    "│\n",
    "├───pieces\n",
    "│   ├───black\n",
    "│   │       bishop.png\n",
    "│   │       king.png\n",
    "│   │       knight.png\n",
    "│   │       pawn.png\n",
    "│   │       queen.png\n",
    "│   │       rook.png\n",
    "│   │\n",
    "│   └───white\n",
    "│           bishop.png\n",
    "│           king.png\n",
    "│           knight.png\n",
    "│           pawn.png\n",
    "│           queen.png\n",
    "│           rook.png\n",
    "│\n",
    "└───tiles\n",
    "        black.png\n",
    "        white.png"
   ]
  },
  {
   "cell_type": "markdown",
   "id": "guilty-drive",
   "metadata": {},
   "source": [
    "0,0 is at the top left corner of the larger picture. From this point if you move down you increase the first coordinate, and if you move to the right you increase the second coordinate."
   ]
  },
  {
   "cell_type": "code",
   "execution_count": 3,
   "id": "comfortable-generator",
   "metadata": {},
   "outputs": [
    {
     "name": "stdout",
     "output_type": "stream",
     "text": [
      "/home/bkoch/Desktop/machine_learning/petnica_ml7/checkmate\r\n"
     ]
    }
   ],
   "source": [
    "!pwd"
   ]
  },
  {
   "cell_type": "code",
   "execution_count": 1,
   "id": "miniature-humor",
   "metadata": {},
   "outputs": [],
   "source": [
    "import os\n",
    "import PIL\n",
    "from PIL import Image\n",
    "import numpy as np"
   ]
  },
  {
   "cell_type": "code",
   "execution_count": 2,
   "id": "musical-worse",
   "metadata": {},
   "outputs": [],
   "source": [
    "chessboard_dim=8\n",
    "black_tile_px_val=[180, 136, 102]\n",
    "white_tile_px_val=[240, 217, 183]\n",
    "nothing_px_val=[0,0,0]"
   ]
  },
  {
   "cell_type": "code",
   "execution_count": 3,
   "id": "fluid-terrorism",
   "metadata": {},
   "outputs": [],
   "source": [
    "test_case=0\n",
    "\n",
    "data_pth=os.path.join('data/public/set/',str(test_case))\n",
    "\n",
    "img_pths={}\n",
    "img_pths['input']=os.path.join(data_pth,str(test_case)+'.png')\n",
    "\n",
    "for root, dirs, files in os.walk(data_pth, topdown=False):\n",
    "    for name in files:\n",
    "        if not name.split('.')[0].isnumeric():\n",
    "            desc=os.path.normpath(root).split(os.path.sep)[-1]\n",
    "            dict_key_name=desc+'_'+name.split('.')[0]\n",
    "            img_pths[dict_key_name]=os.path.join(root,name)\n"
   ]
  },
  {
   "cell_type": "code",
   "execution_count": 4,
   "id": "based-likelihood",
   "metadata": {},
   "outputs": [
    {
     "data": {
      "text/plain": [
       "{'input': 'data/public/set/0/0.png',\n",
       " 'black_knight': 'data/public/set/0/pieces/black/knight.png',\n",
       " 'black_pawn': 'data/public/set/0/pieces/black/pawn.png',\n",
       " 'black_rook': 'data/public/set/0/pieces/black/rook.png',\n",
       " 'black_king': 'data/public/set/0/pieces/black/king.png',\n",
       " 'black_queen': 'data/public/set/0/pieces/black/queen.png',\n",
       " 'black_bishop': 'data/public/set/0/pieces/black/bishop.png',\n",
       " 'white_knight': 'data/public/set/0/pieces/white/knight.png',\n",
       " 'white_pawn': 'data/public/set/0/pieces/white/pawn.png',\n",
       " 'white_rook': 'data/public/set/0/pieces/white/rook.png',\n",
       " 'white_king': 'data/public/set/0/pieces/white/king.png',\n",
       " 'white_queen': 'data/public/set/0/pieces/white/queen.png',\n",
       " 'white_bishop': 'data/public/set/0/pieces/white/bishop.png',\n",
       " 'tiles_black': 'data/public/set/0/tiles/black.png',\n",
       " 'tiles_white': 'data/public/set/0/tiles/white.png'}"
      ]
     },
     "execution_count": 4,
     "metadata": {},
     "output_type": "execute_result"
    }
   ],
   "source": [
    "img_pths"
   ]
  },
  {
   "cell_type": "code",
   "execution_count": 5,
   "id": "agricultural-lottery",
   "metadata": {},
   "outputs": [],
   "source": [
    "a=np.asarray(Image.open(img_pths['input']))"
   ]
  },
  {
   "cell_type": "code",
   "execution_count": 6,
   "id": "certified-worship",
   "metadata": {},
   "outputs": [
    {
     "data": {
      "text/plain": [
       "array([[[0, 0, 0],\n",
       "        [0, 0, 0],\n",
       "        [0, 0, 0],\n",
       "        ...,\n",
       "        [0, 0, 0],\n",
       "        [0, 0, 0],\n",
       "        [0, 0, 0]],\n",
       "\n",
       "       [[0, 0, 0],\n",
       "        [0, 0, 0],\n",
       "        [0, 0, 0],\n",
       "        ...,\n",
       "        [0, 0, 0],\n",
       "        [0, 0, 0],\n",
       "        [0, 0, 0]],\n",
       "\n",
       "       [[0, 0, 0],\n",
       "        [0, 0, 0],\n",
       "        [0, 0, 0],\n",
       "        ...,\n",
       "        [0, 0, 0],\n",
       "        [0, 0, 0],\n",
       "        [0, 0, 0]],\n",
       "\n",
       "       ...,\n",
       "\n",
       "       [[0, 0, 0],\n",
       "        [0, 0, 0],\n",
       "        [0, 0, 0],\n",
       "        ...,\n",
       "        [0, 0, 0],\n",
       "        [0, 0, 0],\n",
       "        [0, 0, 0]],\n",
       "\n",
       "       [[0, 0, 0],\n",
       "        [0, 0, 0],\n",
       "        [0, 0, 0],\n",
       "        ...,\n",
       "        [0, 0, 0],\n",
       "        [0, 0, 0],\n",
       "        [0, 0, 0]],\n",
       "\n",
       "       [[0, 0, 0],\n",
       "        [0, 0, 0],\n",
       "        [0, 0, 0],\n",
       "        ...,\n",
       "        [0, 0, 0],\n",
       "        [0, 0, 0],\n",
       "        [0, 0, 0]]], dtype=uint8)"
      ]
     },
     "execution_count": 6,
     "metadata": {},
     "output_type": "execute_result"
    }
   ],
   "source": [
    "a"
   ]
  },
  {
   "cell_type": "code",
   "execution_count": 7,
   "id": "seven-newport",
   "metadata": {},
   "outputs": [
    {
     "data": {
      "text/plain": [
       "(514, 425, 3)"
      ]
     },
     "execution_count": 7,
     "metadata": {},
     "output_type": "execute_result"
    }
   ],
   "source": [
    "a.shape"
   ]
  },
  {
   "cell_type": "code",
   "execution_count": 8,
   "id": "adequate-thursday",
   "metadata": {},
   "outputs": [
    {
     "name": "stdout",
     "output_type": "stream",
     "text": [
      "(array([140,  62]), 30)\n"
     ]
    }
   ],
   "source": [
    "def find_beggining(img):\n",
    "    beggining_found=False\n",
    "    beggining_position=None\n",
    "    offset=None\n",
    "    for row_px in range(img.shape[0]):\n",
    "        for col_px in range(img.shape[1]):\n",
    "            position_px_val=img[row_px,col_px,:]\n",
    "            if np.array_equal(position_px_val,white_tile_px_val) and not beggining_found:\n",
    "                beggining_position=np.array([row_px,col_px])\n",
    "                beggining_found=True\n",
    "            \n",
    "            if np.array_equal(position_px_val,black_tile_px_val):\n",
    "                offset=(np.array([row_px,col_px])-beggining_position)[1]\n",
    "                break\n",
    "        if beggining_found:\n",
    "            break\n",
    "    \n",
    "#     print(','.join(map(str,beggining_position)))\n",
    "    return beggining_position, offset\n",
    "    \n",
    "img=np.asarray(Image.open(img_pths['input']))\n",
    "print(find_beggining(img))"
   ]
  },
  {
   "cell_type": "code",
   "execution_count": 9,
   "id": "pregnant-bradley",
   "metadata": {},
   "outputs": [],
   "source": [
    "def cut_chessboard(img, begging_position, offset):\n",
    "    return img[begging_position[0]:begging_position[0]+8*offset,\n",
    "              begging_position[1]:begging_position[1]+8*offset,\n",
    "              :]"
   ]
  },
  {
   "cell_type": "code",
   "execution_count": 10,
   "id": "raised-problem",
   "metadata": {},
   "outputs": [
    {
     "data": {
      "image/png": "[encoded data removed]",
      "text/plain": [
       "<PIL.Image.Image image mode=RGB size=240x240 at 0x7FD00C3D39E8>"
      ]
     },
     "execution_count": 10,
     "metadata": {},
     "output_type": "execute_result"
    }
   ],
   "source": [
    "im=Image.fromarray(cut_chessboard(img, [140,62], 30))\n",
    "im"
   ]
  },
  {
   "cell_type": "code",
   "execution_count": 11,
   "id": "local-hands",
   "metadata": {},
   "outputs": [],
   "source": [
    "fig_to_int={\n",
    "    'bishop':1,\n",
    "    'king':2,\n",
    "    'knight':3,\n",
    "    'pawn':4,\n",
    "    'queen':5,\n",
    "    'rook':6\n",
    "           }\n",
    "\n",
    "def get_tiles(img, offset):\n",
    "    \n",
    "    crops=[]\n",
    "    for i in range(0,offset*8, offset):\n",
    "        for j in range(0,offset*8, offset):\n",
    "            crop=img[i:i+offset,j:j+offset]\n",
    "            crops.append(crop)\n",
    "#             display(Image.fromarray(crop))\n",
    "    return crops\n",
    "crops=get_tiles(cut_chessboard(img,[140,62],30),30)"
   ]
  },
  {
   "cell_type": "code",
   "execution_count": 12,
   "id": "million-chemistry",
   "metadata": {},
   "outputs": [],
   "source": [
    "def get_figure_array(img_pth):\n",
    "    return np.asarray((Image.open(img_pth).convert('RGB').resize((30,30))))"
   ]
  },
  {
   "cell_type": "code",
   "execution_count": 13,
   "id": "obvious-occasions",
   "metadata": {},
   "outputs": [],
   "source": [
    "def get_background_masks(img_pths):\n",
    "    # in order to neutralize background from image we set the backgroud mask of that figure to 0\n",
    "    \n",
    "    background_masks={}\n",
    "    \n",
    "    #for background mask extraction color doesnt matter\n",
    "    background_masks['king']=get_figure_array(img_pths['white_king'])==0\n",
    "    background_masks['knight']=get_figure_array(img_pths['white_knight'])==0\n",
    "    background_masks['pawn']=get_figure_array(img_pths['white_pawn'])==0\n",
    "    background_masks['queen']=get_figure_array(img_pths['white_queen'])==0\n",
    "    background_masks['rook']=get_figure_array(img_pths['white_rook'])==0         \n",
    "    background_masks['bishop']=get_figure_array(img_pths['white_bishop'])==0\n",
    "    return background_masks\n",
    "\n",
    "background_masks=get_background_masks(img_pths)"
   ]
  },
  {
   "cell_type": "code",
   "execution_count": 14,
   "id": "elementary-level",
   "metadata": {},
   "outputs": [
    {
     "data": {
      "image/png": "[encoded data removed]",
      "text/plain": [
       "<PIL.Image.Image image mode=RGB size=30x30 at 0x7FD00C3ED5F8>"
      ]
     },
     "metadata": {},
     "output_type": "display_data"
    },
    {
     "data": {
      "image/png": "[encoded data removed]",
      "text/plain": [
       "<PIL.Image.Image image mode=RGB size=30x30 at 0x7FD00C3ED518>"
      ]
     },
     "metadata": {},
     "output_type": "display_data"
    },
    {
     "data": {
      "image/png": "[encoded data removed]",
      "text/plain": [
       "<PIL.Image.Image image mode=RGB size=30x30 at 0x7FD00C3ED588>"
      ]
     },
     "metadata": {},
     "output_type": "display_data"
    }
   ],
   "source": [
    "# Unit test\n",
    "white_queen=get_figure_array(img_pths['white_queen'])\n",
    "white_queen_on_black=crops[1]\n",
    "display(Image.fromarray(white_queen))\n",
    "display(Image.fromarray(white_queen_on_black))\n",
    "\n",
    "queen_background_mask=background_masks['queen']\n",
    "\n",
    "white_queen_on_black_no_background=white_queen_on_black.copy()\n",
    "white_queen_on_black_no_background[queen_background_mask]=0\n",
    "display(Image.fromarray(white_queen_on_black_no_background))"
   ]
  },
  {
   "cell_type": "code",
   "execution_count": 15,
   "id": "moderate-engineer",
   "metadata": {},
   "outputs": [
    {
     "name": "stdout",
     "output_type": "stream",
     "text": [
      "30\n",
      "30\n",
      "30\n",
      "30\n",
      "30\n",
      "30\n",
      "30\n",
      "30\n",
      "30\n",
      "30\n",
      "30\n",
      "30\n",
      "30\n",
      "30\n",
      "30\n",
      "30\n",
      "30\n",
      "30\n",
      "30\n",
      "30\n",
      "30\n",
      "30\n",
      "30\n",
      "30\n",
      "30\n"
     ]
    }
   ],
   "source": [
    "# doesnt work that good\n",
    "unique_vals_white=[]\n",
    "unique_vals_black=[]\n",
    "for i in range(0,25,1):\n",
    "    name=f\"{i}\"\n",
    "\n",
    "    pth=f\"data/public/set/{name}/{name}.png\"\n",
    "    img=np.asarray(Image.open(pth))\n",
    "    beggining_position, offset= find_beggining(img)\n",
    "    chessboard=cut_chessboard(img, beggining_position, offset)\n",
    "    tiles=get_tiles(chessboard, offset)\n",
    "    \n",
    "    for tile in tiles:\n",
    "        if np.array_equal(tile[0][0],np.array(black_tile_px_val)):\n",
    "            px_count=np.prod(tile.shape)\n",
    "            background_px_count=np.sum((tile==black_tile_px_val))\n",
    "            ratio=background_px_count/px_count\n",
    "            if ratio not in unique_vals_black:\n",
    "                display(Image.fromarray(tile))\n",
    "\n",
    "                unique_vals_black.append(ratio)\n",
    "                print(ratio)\n",
    "            \n",
    "        else:\n",
    "            px_count=np.prod(tile.shape)\n",
    "            background_px_count=np.sum(tile==white_tile_px_val)\n",
    "            ratio=background_px_count/px_count\n",
    "            if ratio not in unique_vals_white:\n",
    "                display(Image.fromarray(tile))\n",
    "                print(ratio)\n",
    "\n",
    "                unique_vals_white.append(ratio)\n",
    "print(unique_vals_black)\n",
    "print(unique_vals_white)\n",
    "    "
   ]
  },
  {
   "cell_type": "code",
   "execution_count": 40,
   "id": "arranged-bearing",
   "metadata": {},
   "outputs": [
    {
     "name": "stdout",
     "output_type": "stream",
     "text": [
      "white_tile\n"
     ]
    },
    {
     "data": {
      "image/png": "[encoded data removed]",
      "text/plain": [
       "<PIL.Image.Image image mode=RGB size=30x30 at 0x7FD00B910630>"
      ]
     },
     "metadata": {},
     "output_type": "display_data"
    },
    {
     "name": "stdout",
     "output_type": "stream",
     "text": [
      "white_queen\n"
     ]
    },
    {
     "data": {
      "image/png": "[encoded data removed]",
      "text/plain": [
       "<PIL.Image.Image image mode=RGB size=30x30 at 0x7FD00B9106A0>"
      ]
     },
     "metadata": {},
     "output_type": "display_data"
    },
    {
     "name": "stdout",
     "output_type": "stream",
     "text": [
      "black_tile\n"
     ]
    },
    {
     "data": {
      "image/png": "[encoded data removed]",
      "text/plain": [
       "<PIL.Image.Image image mode=RGB size=30x30 at 0x7FD00B910710>"
      ]
     },
     "metadata": {},
     "output_type": "display_data"
    },
    {
     "name": "stdout",
     "output_type": "stream",
     "text": [
      "black_king\n"
     ]
    },
    {
     "data": {
      "image/png": "[encoded data removed]",
      "text/plain": [
       "<PIL.Image.Image image mode=RGB size=30x30 at 0x7FD00B910668>"
      ]
     },
     "metadata": {},
     "output_type": "display_data"
    },
    {
     "name": "stdout",
     "output_type": "stream",
     "text": [
      "white_king\n"
     ]
    },
    {
     "data": {
      "image/png": "[encoded data removed]",
      "text/plain": [
       "<PIL.Image.Image image mode=RGB size=30x30 at 0x7FD00B910780>"
      ]
     },
     "metadata": {},
     "output_type": "display_data"
    },
    {
     "name": "stdout",
     "output_type": "stream",
     "text": [
      "white_king\n"
     ]
    },
    {
     "data": {
      "image/png": "[encoded data removed]",
      "text/plain": [
       "<PIL.Image.Image image mode=RGB size=30x30 at 0x7FD00B910668>"
      ]
     },
     "metadata": {},
     "output_type": "display_data"
    },
    {
     "name": "stdout",
     "output_type": "stream",
     "text": [
      "black_knight\n"
     ]
    },
    {
     "data": {
      "image/png": "[encoded data removed]",
      "text/plain": [
       "<PIL.Image.Image image mode=RGB size=30x30 at 0x7FD00B910588>"
      ]
     },
     "metadata": {},
     "output_type": "display_data"
    },
    {
     "name": "stdout",
     "output_type": "stream",
     "text": [
      "black_knight\n"
     ]
    },
    {
     "data": {
      "image/png": "[encoded data removed]",
      "text/plain": [
       "<PIL.Image.Image image mode=RGB size=30x30 at 0x7FD00B910668>"
      ]
     },
     "metadata": {},
     "output_type": "display_data"
    },
    {
     "name": "stdout",
     "output_type": "stream",
     "text": [
      "black_king\n"
     ]
    },
    {
     "data": {
      "image/png": "[encoded data removed]",
      "text/plain": [
       "<PIL.Image.Image image mode=RGB size=30x30 at 0x7FD00B910588>"
      ]
     },
     "metadata": {},
     "output_type": "display_data"
    },
    {
     "name": "stdout",
     "output_type": "stream",
     "text": [
      "white_pawn\n"
     ]
    },
    {
     "data": {
      "image/png": "[encoded data removed]",
      "text/plain": [
       "<PIL.Image.Image image mode=RGB size=30x30 at 0x7FD00B910630>"
      ]
     },
     "metadata": {},
     "output_type": "display_data"
    },
    {
     "name": "stdout",
     "output_type": "stream",
     "text": [
      "white_pawn\n"
     ]
    },
    {
     "data": {
      "image/png": "[encoded data removed]",
      "text/plain": [
       "<PIL.Image.Image image mode=RGB size=30x30 at 0x7FD00B910588>"
      ]
     },
     "metadata": {},
     "output_type": "display_data"
    },
    {
     "name": "stdout",
     "output_type": "stream",
     "text": [
      "black_pawn\n"
     ]
    },
    {
     "data": {
      "image/png": "[encoded data removed]",
      "text/plain": [
       "<PIL.Image.Image image mode=RGB size=30x30 at 0x7FD00B910630>"
      ]
     },
     "metadata": {},
     "output_type": "display_data"
    },
    {
     "name": "stdout",
     "output_type": "stream",
     "text": [
      "black_pawn\n"
     ]
    },
    {
     "data": {
      "image/png": "[encoded data removed]",
      "text/plain": [
       "<PIL.Image.Image image mode=RGB size=30x30 at 0x7FD00B9107F0>"
      ]
     },
     "metadata": {},
     "output_type": "display_data"
    },
    {
     "name": "stdout",
     "output_type": "stream",
     "text": [
      "white_rook\n"
     ]
    },
    {
     "data": {
      "image/png": "[encoded data removed]",
      "text/plain": [
       "<PIL.Image.Image image mode=RGB size=30x30 at 0x7FD00B9105F8>"
      ]
     },
     "metadata": {},
     "output_type": "display_data"
    },
    {
     "name": "stdout",
     "output_type": "stream",
     "text": [
      "white_knight\n"
     ]
    },
    {
     "data": {
      "image/png": "[encoded data removed]",
      "text/plain": [
       "<PIL.Image.Image image mode=RGB size=30x30 at 0x7FD00B9106A0>"
      ]
     },
     "metadata": {},
     "output_type": "display_data"
    },
    {
     "name": "stdout",
     "output_type": "stream",
     "text": [
      "white_bishop\n"
     ]
    },
    {
     "data": {
      "image/png": "[encoded data removed]",
      "text/plain": [
       "<PIL.Image.Image image mode=RGB size=30x30 at 0x7FD00B910748>"
      ]
     },
     "metadata": {},
     "output_type": "display_data"
    },
    {
     "name": "stdout",
     "output_type": "stream",
     "text": [
      "white_bishop\n"
     ]
    },
    {
     "data": {
      "image/png": "[encoded data removed]",
      "text/plain": [
       "<PIL.Image.Image image mode=RGB size=30x30 at 0x7FD00B910668>"
      ]
     },
     "metadata": {},
     "output_type": "display_data"
    },
    {
     "name": "stdout",
     "output_type": "stream",
     "text": [
      "white_queen\n"
     ]
    },
    {
     "data": {
      "image/png": "[encoded data removed]",
      "text/plain": [
       "<PIL.Image.Image image mode=RGB size=30x30 at 0x7FD00B910710>"
      ]
     },
     "metadata": {},
     "output_type": "display_data"
    },
    {
     "name": "stdout",
     "output_type": "stream",
     "text": [
      "black_queen\n"
     ]
    },
    {
     "data": {
      "image/png": "[encoded data removed]",
      "text/plain": [
       "<PIL.Image.Image image mode=RGB size=30x30 at 0x7FD00B9106D8>"
      ]
     },
     "metadata": {},
     "output_type": "display_data"
    },
    {
     "name": "stdout",
     "output_type": "stream",
     "text": [
      "black_bishop\n"
     ]
    },
    {
     "data": {
      "image/png": "[encoded data removed]",
      "text/plain": [
       "<PIL.Image.Image image mode=RGB size=30x30 at 0x7FD00B9107F0>"
      ]
     },
     "metadata": {},
     "output_type": "display_data"
    },
    {
     "name": "stdout",
     "output_type": "stream",
     "text": [
      "white_rook\n"
     ]
    },
    {
     "data": {
      "image/png": "[encoded data removed]",
      "text/plain": [
       "<PIL.Image.Image image mode=RGB size=30x30 at 0x7FD00B910630>"
      ]
     },
     "metadata": {},
     "output_type": "display_data"
    },
    {
     "name": "stdout",
     "output_type": "stream",
     "text": [
      "black_rook\n"
     ]
    },
    {
     "data": {
      "image/png": "[encoded data removed]",
      "text/plain": [
       "<PIL.Image.Image image mode=RGB size=30x30 at 0x7FD00B9106D8>"
      ]
     },
     "metadata": {},
     "output_type": "display_data"
    },
    {
     "name": "stdout",
     "output_type": "stream",
     "text": [
      "white_knight\n"
     ]
    },
    {
     "data": {
      "image/png": "[encoded data removed]",
      "text/plain": [
       "<PIL.Image.Image image mode=RGB size=30x30 at 0x7FD00B910588>"
      ]
     },
     "metadata": {},
     "output_type": "display_data"
    },
    {
     "name": "stdout",
     "output_type": "stream",
     "text": [
      "black_rook\n"
     ]
    },
    {
     "data": {
      "image/png": "[encoded data removed]",
      "text/plain": [
       "<PIL.Image.Image image mode=RGB size=30x30 at 0x7FD00B910748>"
      ]
     },
     "metadata": {},
     "output_type": "display_data"
    },
    {
     "name": "stdout",
     "output_type": "stream",
     "text": [
      "black_queen\n"
     ]
    },
    {
     "data": {
      "image/png": "[encoded data removed]",
      "text/plain": [
       "<PIL.Image.Image image mode=RGB size=30x30 at 0x7FD00B9105F8>"
      ]
     },
     "metadata": {},
     "output_type": "display_data"
    },
    {
     "name": "stdout",
     "output_type": "stream",
     "text": [
      "black_bishop\n"
     ]
    },
    {
     "data": {
      "image/png": "[encoded data removed]",
      "text/plain": [
       "<PIL.Image.Image image mode=RGB size=30x30 at 0x7FD00B9106A0>"
      ]
     },
     "metadata": {},
     "output_type": "display_data"
    }
   ],
   "source": [
    "# doesnt work that good\n",
    "unique_tiles=[]\n",
    "for i in range(0,25,1):\n",
    "    name=f\"{i}\"\n",
    "\n",
    "    pth=f\"data/public/set/{name}/{name}.png\"\n",
    "    img=np.asarray(Image.open(pth))\n",
    "    beggining_position, offset= find_beggining(img)\n",
    "    chessboard=cut_chessboard(img, beggining_position, offset)\n",
    "    tiles=get_tiles(chessboard, offset)\n",
    "    \n",
    "    for tile in tiles:\n",
    "            bool_in=False\n",
    "            for unique in unique_tiles:\n",
    "                if np.array_equal(unique,tile):\n",
    "                    bool_in=True\n",
    "            \n",
    "            if not bool_in:\n",
    "                figname=px_sum_to_figname[np.sum(tile)]\n",
    "                print(figname)\n",
    "                display(Image.fromarray(tile))\n",
    "                unique_tiles.append(tile)\n",
    "    "
   ]
  },
  {
   "cell_type": "code",
   "execution_count": 23,
   "id": "moving-entity",
   "metadata": {},
   "outputs": [
    {
     "data": {
      "image/png": "[encoded data removed]",
      "text/plain": [
       "<PIL.Image.Image image mode=RGB size=30x30 at 0x7FD00C3ED4A8>"
      ]
     },
     "metadata": {},
     "output_type": "display_data"
    },
    {
     "data": {
      "image/png": "[encoded data removed]",
      "text/plain": [
       "<PIL.Image.Image image mode=RGB size=30x30 at 0x7FD00C3EDA20>"
      ]
     },
     "metadata": {},
     "output_type": "display_data"
    },
    {
     "data": {
      "image/png": "[encoded data removed]",
      "text/plain": [
       "<PIL.Image.Image image mode=RGB size=30x30 at 0x7FD00C3ED4A8>"
      ]
     },
     "metadata": {},
     "output_type": "display_data"
    },
    {
     "data": {
      "image/png": "[encoded data removed]",
      "text/plain": [
       "<PIL.Image.Image image mode=RGB size=30x30 at 0x7FD00C3EDA20>"
      ]
     },
     "metadata": {},
     "output_type": "display_data"
    },
    {
     "data": {
      "image/png": "[encoded data removed]",
      "text/plain": [
       "<PIL.Image.Image image mode=RGB size=30x30 at 0x7FD00C3ED4A8>"
      ]
     },
     "metadata": {},
     "output_type": "display_data"
    },
    {
     "data": {
      "image/png": "[encoded data removed]",
      "text/plain": [
       "<PIL.Image.Image image mode=RGB size=30x30 at 0x7FD00C3EDA20>"
      ]
     },
     "metadata": {},
     "output_type": "display_data"
    },
    {
     "data": {
      "image/png": "[encoded data removed]",
      "text/plain": [
       "<PIL.Image.Image image mode=RGB size=30x30 at 0x7FD00C3ED4A8>"
      ]
     },
     "metadata": {},
     "output_type": "display_data"
    },
    {
     "data": {
      "image/png": "[encoded data removed]",
      "text/plain": [
       "<PIL.Image.Image image mode=RGB size=30x30 at 0x7FD00C3EDA20>"
      ]
     },
     "metadata": {},
     "output_type": "display_data"
    },
    {
     "data": {
      "image/png": "[encoded data removed]",
      "text/plain": [
       "<PIL.Image.Image image mode=RGB size=30x30 at 0x7FD00C3ED4A8>"
      ]
     },
     "metadata": {},
     "output_type": "display_data"
    },
    {
     "data": {
      "image/png": "[encoded data removed]",
      "text/plain": [
       "<PIL.Image.Image image mode=RGB size=30x30 at 0x7FD00C3EDA20>"
      ]
     },
     "metadata": {},
     "output_type": "display_data"
    },
    {
     "data": {
      "image/png": "[encoded data removed]",
      "text/plain": [
       "<PIL.Image.Image image mode=RGB size=30x30 at 0x7FD00C3ED4A8>"
      ]
     },
     "metadata": {},
     "output_type": "display_data"
    },
    {
     "data": {
      "image/png": "[encoded data removed]",
      "text/plain": [
       "<PIL.Image.Image image mode=RGB size=30x30 at 0x7FD00C3EDA20>"
      ]
     },
     "metadata": {},
     "output_type": "display_data"
    },
    {
     "data": {
      "image/png": "[encoded data removed]",
      "text/plain": [
       "<PIL.Image.Image image mode=RGB size=30x30 at 0x7FD00C3ED4A8>"
      ]
     },
     "metadata": {},
     "output_type": "display_data"
    },
    {
     "data": {
      "image/png": "[encoded data removed]",
      "text/plain": [
       "<PIL.Image.Image image mode=RGB size=30x30 at 0x7FD00C3EDA20>"
      ]
     },
     "metadata": {},
     "output_type": "display_data"
    },
    {
     "data": {
      "image/png": "[encoded data removed]",
      "text/plain": [
       "<PIL.Image.Image image mode=RGB size=30x30 at 0x7FD00C3ED4A8>"
      ]
     },
     "metadata": {},
     "output_type": "display_data"
    },
    {
     "data": {
      "image/png": "[encoded data removed]",
      "text/plain": [
       "<PIL.Image.Image image mode=RGB size=30x30 at 0x7FD00C3EDA20>"
      ]
     },
     "metadata": {},
     "output_type": "display_data"
    },
    {
     "data": {
      "image/png": "[encoded data removed]",
      "text/plain": [
       "<PIL.Image.Image image mode=RGB size=30x30 at 0x7FD00C3ED4A8>"
      ]
     },
     "metadata": {},
     "output_type": "display_data"
    },
    {
     "data": {
      "image/png": "[encoded data removed]",
      "text/plain": [
       "<PIL.Image.Image image mode=RGB size=30x30 at 0x7FD00C3EDA20>"
      ]
     },
     "metadata": {},
     "output_type": "display_data"
    },
    {
     "data": {
      "image/png": "[encoded data removed]",
      "text/plain": [
       "<PIL.Image.Image image mode=RGB size=30x30 at 0x7FD00C3ED4A8>"
      ]
     },
     "metadata": {},
     "output_type": "display_data"
    },
    {
     "data": {
      "image/png": "[encoded data removed]",
      "text/plain": [
       "<PIL.Image.Image image mode=RGB size=30x30 at 0x7FD00C3EDA20>"
      ]
     },
     "metadata": {},
     "output_type": "display_data"
    },
    {
     "data": {
      "image/png": "[encoded data removed]",
      "text/plain": [
       "<PIL.Image.Image image mode=RGB size=30x30 at 0x7FD00C3ED4A8>"
      ]
     },
     "metadata": {},
     "output_type": "display_data"
    },
    {
     "data": {
      "image/png": "[encoded data removed]",
      "text/plain": [
       "<PIL.Image.Image image mode=RGB size=30x30 at 0x7FD00C3ED9B0>"
      ]
     },
     "metadata": {},
     "output_type": "display_data"
    },
    {
     "data": {
      "image/png": "[encoded data removed]",
      "text/plain": [
       "<PIL.Image.Image image mode=RGB size=30x30 at 0x7FD00C3EDA20>"
      ]
     },
     "metadata": {},
     "output_type": "display_data"
    },
    {
     "data": {
      "image/png": "[encoded data removed]",
      "text/plain": [
       "<PIL.Image.Image image mode=RGB size=30x30 at 0x7FD00C3EDB38>"
      ]
     },
     "metadata": {},
     "output_type": "display_data"
    },
    {
     "data": {
      "image/png": "[encoded data removed]",
      "text/plain": [
       "<PIL.Image.Image image mode=RGB size=30x30 at 0x7FD00C3ED9B0>"
      ]
     },
     "metadata": {},
     "output_type": "display_data"
    },
    {
     "data": {
      "image/png": "[encoded data removed]",
      "text/plain": [
       "<PIL.Image.Image image mode=RGB size=30x30 at 0x7FD00C3EDB38>"
      ]
     },
     "metadata": {},
     "output_type": "display_data"
    }
   ],
   "source": [
    "for item in unique_tiles:\n",
    "    display(Image.fromarray(item))"
   ]
  },
  {
   "cell_type": "code",
   "execution_count": 38,
   "id": "brief-hours",
   "metadata": {},
   "outputs": [],
   "source": [
    "px_sum_to_figname={\n",
    "    576000:'white_tile',\n",
    "    341724:'white_queen',\n",
    "    376200:'black_tile',\n",
    "    314357:'black_king',\n",
    "    518109:'white_king',\n",
    "    386936:'white_king',\n",
    "    384771:'black_knight',\n",
    "    261591:'black_knight',\n",
    "    445530:'black_king',\n",
    "    555722:'white_pawn',\n",
    "    405205:'white_pawn',\n",
    "    433925:'black_pawn',\n",
    "    283408:'black_pawn',\n",
    "    512160:'white_rook',\n",
    "    537129:'white_knight',\n",
    "    365691:'white_bishop',\n",
    "    512395:'white_bishop',\n",
    "    466042:'white_queen',\n",
    "    278589:'black_queen',\n",
    "    295386:'black_bishop',\n",
    "    377478:'white_rook',\n",
    "    285648:'black_rook',\n",
    "    413949:'white_knight',\n",
    "    420330:'black_rook',\n",
    "    401317:'black_queen',\n",
    "    442090:'black_bishop'\n",
    "}"
   ]
  },
  {
   "cell_type": "code",
   "execution_count": 24,
   "id": "consistent-wallace",
   "metadata": {},
   "outputs": [
    {
     "data": {
      "text/plain": [
       "26"
      ]
     },
     "execution_count": 24,
     "metadata": {},
     "output_type": "execute_result"
    }
   ],
   "source": [
    "len(unique_tiles)"
   ]
  },
  {
   "cell_type": "code",
   "execution_count": 39,
   "id": "honest-magnitude",
   "metadata": {},
   "outputs": [],
   "source": [
    "sums=[np.sum(matrix) for matrix in unique_tiles]"
   ]
  },
  {
   "cell_type": "code",
   "execution_count": null,
   "id": "welsh-landscape",
   "metadata": {},
   "outputs": [],
   "source": []
  },
  {
   "cell_type": "code",
   "execution_count": null,
   "id": "assumed-interaction",
   "metadata": {},
   "outputs": [],
   "source": []
  },
  {
   "cell_type": "code",
   "execution_count": null,
   "id": "determined-fighter",
   "metadata": {},
   "outputs": [],
   "source": []
  },
  {
   "cell_type": "code",
   "execution_count": 186,
   "id": "potential-error",
   "metadata": {},
   "outputs": [
    {
     "data": {
      "image/png": "[encoded data removed]",
      "text/plain": [
       "<PIL.Image.Image image mode=RGB size=30x30 at 0x7FDC5F0605F8>"
      ]
     },
     "metadata": {},
     "output_type": "display_data"
    },
    {
     "data": {
      "image/png": "[encoded data removed]",
      "text/plain": [
       "<PIL.Image.Image image mode=RGB size=30x30 at 0x7FDC5F060400>"
      ]
     },
     "metadata": {},
     "output_type": "display_data"
    }
   ],
   "source": [
    "#elimnate background\n",
    "crop1_cp=crops[1].copy()\n",
    "crop7_cp=crops[7].copy()\n",
    "crop1_cp[crop1_cp==black_tile_px_val]=0\n",
    "crop7_cp[crop7_cp==black_tile_px_val]=0\n",
    "white_queen=crop1_cp\n",
    "black_king=crop7_cp\n",
    "display(Image.fromarray(white_queen))\n",
    "display(Image.fromarray(black_king))"
   ]
  },
  {
   "cell_type": "code",
   "execution_count": 203,
   "id": "advisory-subcommittee",
   "metadata": {},
   "outputs": [
    {
     "data": {
      "image/png": "[encoded data removed]",
      "text/plain": [
       "<PIL.Image.Image image mode=RGB size=30x30 at 0x7FDC5F060F98>"
      ]
     },
     "metadata": {},
     "output_type": "display_data"
    },
    {
     "data": {
      "image/png": "[encoded data removed]",
      "text/plain": [
       "<PIL.Image.Image image mode=RGB size=30x30 at 0x7FDC5F0607B8>"
      ]
     },
     "metadata": {},
     "output_type": "display_data"
    }
   ],
   "source": [
    "white_queen_s=get_figure_array(img_pths['white_queen'])\n",
    "black_king_s=get_figure_array(img_pths['black_king'])\n",
    "display(Image.fromarray(white_queen_s))\n",
    "display(Image.fromarray(black_king_s))\n"
   ]
  },
  {
   "cell_type": "code",
   "execution_count": 204,
   "id": "isolated-beauty",
   "metadata": {},
   "outputs": [
    {
     "data": {
      "text/plain": [
       "269.82216365599027"
      ]
     },
     "execution_count": 204,
     "metadata": {},
     "output_type": "execute_result"
    }
   ],
   "source": [
    "np.sqrt(np.sum((black_king-black_king_s)**2))"
   ]
  },
  {
   "cell_type": "code",
   "execution_count": 205,
   "id": "greatest-producer",
   "metadata": {},
   "outputs": [
    {
     "data": {
      "text/plain": [
       "269.82216365599027"
      ]
     },
     "execution_count": 205,
     "metadata": {},
     "output_type": "execute_result"
    }
   ],
   "source": [
    "np.sqrt(np.sum((black_king-black_king_s)**2))"
   ]
  },
  {
   "cell_type": "code",
   "execution_count": null,
   "id": "bored-madonna",
   "metadata": {},
   "outputs": [],
   "source": []
  },
  {
   "cell_type": "code",
   "execution_count": 199,
   "id": "activated-dimension",
   "metadata": {},
   "outputs": [
    {
     "name": "stdout",
     "output_type": "stream",
     "text": [
      "black_pawn\n"
     ]
    },
    {
     "data": {
      "image/png": "[encoded data removed]",
      "text/plain": [
       "<PIL.Image.Image image mode=RGB size=30x30 at 0x7FDC5F080B00>"
      ]
     },
     "metadata": {},
     "output_type": "display_data"
    },
    {
     "name": "stdout",
     "output_type": "stream",
     "text": [
      "black_pawn\n"
     ]
    },
    {
     "data": {
      "image/png": "[encoded data removed]",
      "text/plain": [
       "<PIL.Image.Image image mode=RGB size=30x30 at 0x7FDC5F080B00>"
      ]
     },
     "metadata": {},
     "output_type": "display_data"
    },
    {
     "name": "stdout",
     "output_type": "stream",
     "text": [
      "black_pawn\n"
     ]
    },
    {
     "data": {
      "image/png": "[encoded data removed]",
      "text/plain": [
       "<PIL.Image.Image image mode=RGB size=30x30 at 0x7FDC5F080B38>"
      ]
     },
     "metadata": {},
     "output_type": "display_data"
    },
    {
     "name": "stdout",
     "output_type": "stream",
     "text": [
      "black_pawn\n"
     ]
    },
    {
     "data": {
      "image/png": "[encoded data removed]",
      "text/plain": [
       "<PIL.Image.Image image mode=RGB size=30x30 at 0x7FDC5F080B38>"
      ]
     },
     "metadata": {},
     "output_type": "display_data"
    },
    {
     "name": "stdout",
     "output_type": "stream",
     "text": [
      "black_pawn\n"
     ]
    },
    {
     "data": {
      "image/png": "[encoded data removed]",
      "text/plain": [
       "<PIL.Image.Image image mode=RGB size=30x30 at 0x7FDC5F080B38>"
      ]
     },
     "metadata": {},
     "output_type": "display_data"
    },
    {
     "name": "stdout",
     "output_type": "stream",
     "text": [
      "black_pawn\n"
     ]
    },
    {
     "data": {
      "image/png": "[encoded data removed]",
      "text/plain": [
       "<PIL.Image.Image image mode=RGB size=30x30 at 0x7FDC5F0C5B38>"
      ]
     },
     "metadata": {},
     "output_type": "display_data"
    },
    {
     "name": "stdout",
     "output_type": "stream",
     "text": [
      "black_pawn\n"
     ]
    },
    {
     "data": {
      "image/png": "[encoded data removed]",
      "text/plain": [
       "<PIL.Image.Image image mode=RGB size=30x30 at 0x7FDC5F08A9B0>"
      ]
     },
     "metadata": {},
     "output_type": "display_data"
    },
    {
     "name": "stdout",
     "output_type": "stream",
     "text": [
      "black_pawn\n"
     ]
    },
    {
     "data": {
      "image/png": "[encoded data removed]",
      "text/plain": [
       "<PIL.Image.Image image mode=RGB size=30x30 at 0x7FDC5F0CBE80>"
      ]
     },
     "metadata": {},
     "output_type": "display_data"
    },
    {
     "name": "stdout",
     "output_type": "stream",
     "text": [
      "black_pawn\n"
     ]
    },
    {
     "data": {
      "image/png": "[encoded data removed]",
      "text/plain": [
       "<PIL.Image.Image image mode=RGB size=30x30 at 0x7FDC5F0CBF28>"
      ]
     },
     "metadata": {},
     "output_type": "display_data"
    },
    {
     "name": "stdout",
     "output_type": "stream",
     "text": [
      "black_pawn\n"
     ]
    },
    {
     "data": {
      "image/png": "[encoded data removed]",
      "text/plain": [
       "<PIL.Image.Image image mode=RGB size=30x30 at 0x7FDC5F5B7A58>"
      ]
     },
     "metadata": {},
     "output_type": "display_data"
    },
    {
     "name": "stdout",
     "output_type": "stream",
     "text": [
      "black_pawn\n"
     ]
    },
    {
     "data": {
      "image/png": "[encoded data removed]",
      "text/plain": [
       "<PIL.Image.Image image mode=RGB size=30x30 at 0x7FDC5F0CBE80>"
      ]
     },
     "metadata": {},
     "output_type": "display_data"
    },
    {
     "name": "stdout",
     "output_type": "stream",
     "text": [
      "black_pawn\n"
     ]
    },
    {
     "data": {
      "image/png": "[encoded data removed]",
      "text/plain": [
       "<PIL.Image.Image image mode=RGB size=30x30 at 0x7FDC5F0CBF28>"
      ]
     },
     "metadata": {},
     "output_type": "display_data"
    },
    {
     "name": "stdout",
     "output_type": "stream",
     "text": [
      "black_pawn\n"
     ]
    },
    {
     "data": {
      "image/png": "[encoded data removed]",
      "text/plain": [
       "<PIL.Image.Image image mode=RGB size=30x30 at 0x7FDC5F5B7A58>"
      ]
     },
     "metadata": {},
     "output_type": "display_data"
    },
    {
     "name": "stdout",
     "output_type": "stream",
     "text": [
      "black_pawn\n"
     ]
    },
    {
     "data": {
      "image/png": "[encoded data removed]",
      "text/plain": [
       "<PIL.Image.Image image mode=RGB size=30x30 at 0x7FDC5F0CBE80>"
      ]
     },
     "metadata": {},
     "output_type": "display_data"
    },
    {
     "name": "stdout",
     "output_type": "stream",
     "text": [
      "black_pawn\n"
     ]
    },
    {
     "data": {
      "image/png": "[encoded data removed]",
      "text/plain": [
       "<PIL.Image.Image image mode=RGB size=30x30 at 0x7FDC5F0CBF28>"
      ]
     },
     "metadata": {},
     "output_type": "display_data"
    },
    {
     "name": "stdout",
     "output_type": "stream",
     "text": [
      "black_pawn\n"
     ]
    },
    {
     "data": {
      "image/png": "[encoded data removed]",
      "text/plain": [
       "<PIL.Image.Image image mode=RGB size=30x30 at 0x7FDC5F0CBE80>"
      ]
     },
     "metadata": {},
     "output_type": "display_data"
    },
    {
     "name": "stdout",
     "output_type": "stream",
     "text": [
      "black_pawn\n"
     ]
    },
    {
     "data": {
      "image/png": "[encoded data removed]",
      "text/plain": [
       "<PIL.Image.Image image mode=RGB size=30x30 at 0x7FDC5F0CBF28>"
      ]
     },
     "metadata": {},
     "output_type": "display_data"
    },
    {
     "name": "stdout",
     "output_type": "stream",
     "text": [
      "black_pawn\n"
     ]
    },
    {
     "data": {
      "image/png": "[encoded data removed]",
      "text/plain": [
       "<PIL.Image.Image image mode=RGB size=30x30 at 0x7FDC5F060748>"
      ]
     },
     "metadata": {},
     "output_type": "display_data"
    },
    {
     "name": "stdout",
     "output_type": "stream",
     "text": [
      "black_pawn\n"
     ]
    },
    {
     "data": {
      "image/png": "[encoded data removed]",
      "text/plain": [
       "<PIL.Image.Image image mode=RGB size=30x30 at 0x7FDC5F0CBE80>"
      ]
     },
     "metadata": {},
     "output_type": "display_data"
    },
    {
     "name": "stdout",
     "output_type": "stream",
     "text": [
      "black_pawn\n"
     ]
    },
    {
     "data": {
      "image/png": "[encoded data removed]",
      "text/plain": [
       "<PIL.Image.Image image mode=RGB size=30x30 at 0x7FDC5F0CBF28>"
      ]
     },
     "metadata": {},
     "output_type": "display_data"
    },
    {
     "name": "stdout",
     "output_type": "stream",
     "text": [
      "black_pawn\n"
     ]
    },
    {
     "data": {
      "image/png": "[encoded data removed]",
      "text/plain": [
       "<PIL.Image.Image image mode=RGB size=30x30 at 0x7FDC5F0CBE80>"
      ]
     },
     "metadata": {},
     "output_type": "display_data"
    },
    {
     "name": "stdout",
     "output_type": "stream",
     "text": [
      "black_pawn\n"
     ]
    },
    {
     "data": {
      "image/png": "[encoded data removed]",
      "text/plain": [
       "<PIL.Image.Image image mode=RGB size=30x30 at 0x7FDC5F0CBF28>"
      ]
     },
     "metadata": {},
     "output_type": "display_data"
    },
    {
     "name": "stdout",
     "output_type": "stream",
     "text": [
      "black_pawn\n"
     ]
    },
    {
     "data": {
      "image/png": "[encoded data removed]",
      "text/plain": [
       "<PIL.Image.Image image mode=RGB size=30x30 at 0x7FDC5F0CBE80>"
      ]
     },
     "metadata": {},
     "output_type": "display_data"
    },
    {
     "name": "stdout",
     "output_type": "stream",
     "text": [
      "black_pawn\n"
     ]
    },
    {
     "data": {
      "image/png": "[encoded data removed]",
      "text/plain": [
       "<PIL.Image.Image image mode=RGB size=30x30 at 0x7FDC5F060748>"
      ]
     },
     "metadata": {},
     "output_type": "display_data"
    },
    {
     "name": "stdout",
     "output_type": "stream",
     "text": [
      "black_pawn\n"
     ]
    },
    {
     "data": {
      "image/png": "[encoded data removed]",
      "text/plain": [
       "<PIL.Image.Image image mode=RGB size=30x30 at 0x7FDC5F5B7A58>"
      ]
     },
     "metadata": {},
     "output_type": "display_data"
    },
    {
     "name": "stdout",
     "output_type": "stream",
     "text": [
      "black_pawn\n"
     ]
    },
    {
     "data": {
      "image/png": "[encoded data removed]",
      "text/plain": [
       "<PIL.Image.Image image mode=RGB size=30x30 at 0x7FDC5F0CBF28>"
      ]
     },
     "metadata": {},
     "output_type": "display_data"
    },
    {
     "name": "stdout",
     "output_type": "stream",
     "text": [
      "black_pawn\n"
     ]
    },
    {
     "data": {
      "image/png": "[encoded data removed]",
      "text/plain": [
       "<PIL.Image.Image image mode=RGB size=30x30 at 0x7FDC5F08A9B0>"
      ]
     },
     "metadata": {},
     "output_type": "display_data"
    },
    {
     "name": "stdout",
     "output_type": "stream",
     "text": [
      "black_pawn\n"
     ]
    },
    {
     "data": {
      "image/png": "[encoded data removed]",
      "text/plain": [
       "<PIL.Image.Image image mode=RGB size=30x30 at 0x7FDC5F0CBF28>"
      ]
     },
     "metadata": {},
     "output_type": "display_data"
    },
    {
     "name": "stdout",
     "output_type": "stream",
     "text": [
      "black_pawn\n"
     ]
    },
    {
     "data": {
      "image/png": "[encoded data removed]",
      "text/plain": [
       "<PIL.Image.Image image mode=RGB size=30x30 at 0x7FDC5F0CBE80>"
      ]
     },
     "metadata": {},
     "output_type": "display_data"
    },
    {
     "name": "stdout",
     "output_type": "stream",
     "text": [
      "black_pawn\n"
     ]
    },
    {
     "data": {
      "image/png": "[encoded data removed]",
      "text/plain": [
       "<PIL.Image.Image image mode=RGB size=30x30 at 0x7FDC5F0CBF28>"
      ]
     },
     "metadata": {},
     "output_type": "display_data"
    },
    {
     "name": "stdout",
     "output_type": "stream",
     "text": [
      "black_pawn\n"
     ]
    },
    {
     "data": {
      "image/png": "[encoded data removed]",
      "text/plain": [
       "<PIL.Image.Image image mode=RGB size=30x30 at 0x7FDC5F0CBE80>"
      ]
     },
     "metadata": {},
     "output_type": "display_data"
    },
    {
     "name": "stdout",
     "output_type": "stream",
     "text": [
      "black_pawn\n"
     ]
    },
    {
     "data": {
      "image/png": "[encoded data removed]",
      "text/plain": [
       "<PIL.Image.Image image mode=RGB size=30x30 at 0x7FDC5F0CBF28>"
      ]
     },
     "metadata": {},
     "output_type": "display_data"
    },
    {
     "name": "stdout",
     "output_type": "stream",
     "text": [
      "black_pawn\n"
     ]
    },
    {
     "data": {
      "image/png": "[encoded data removed]",
      "text/plain": [
       "<PIL.Image.Image image mode=RGB size=30x30 at 0x7FDC5F0CBE80>"
      ]
     },
     "metadata": {},
     "output_type": "display_data"
    },
    {
     "name": "stdout",
     "output_type": "stream",
     "text": [
      "black_pawn\n"
     ]
    },
    {
     "data": {
      "image/png": "[encoded data removed]",
      "text/plain": [
       "<PIL.Image.Image image mode=RGB size=30x30 at 0x7FDC5F0CBF28>"
      ]
     },
     "metadata": {},
     "output_type": "display_data"
    },
    {
     "name": "stdout",
     "output_type": "stream",
     "text": [
      "black_pawn\n"
     ]
    },
    {
     "data": {
      "image/png": "[encoded data removed]",
      "text/plain": [
       "<PIL.Image.Image image mode=RGB size=30x30 at 0x7FDC5F0CBE80>"
      ]
     },
     "metadata": {},
     "output_type": "display_data"
    },
    {
     "name": "stdout",
     "output_type": "stream",
     "text": [
      "black_pawn\n"
     ]
    },
    {
     "data": {
      "image/png": "[encoded data removed]",
      "text/plain": [
       "<PIL.Image.Image image mode=RGB size=30x30 at 0x7FDC5F08A9B0>"
      ]
     },
     "metadata": {},
     "output_type": "display_data"
    },
    {
     "name": "stdout",
     "output_type": "stream",
     "text": [
      "black_pawn\n"
     ]
    },
    {
     "data": {
      "image/png": "[encoded data removed]",
      "text/plain": [
       "<PIL.Image.Image image mode=RGB size=30x30 at 0x7FDC5F0CBF28>"
      ]
     },
     "metadata": {},
     "output_type": "display_data"
    },
    {
     "name": "stdout",
     "output_type": "stream",
     "text": [
      "black_pawn\n"
     ]
    },
    {
     "data": {
      "image/png": "[encoded data removed]",
      "text/plain": [
       "<PIL.Image.Image image mode=RGB size=30x30 at 0x7FDC5F0CBE80>"
      ]
     },
     "metadata": {},
     "output_type": "display_data"
    },
    {
     "name": "stdout",
     "output_type": "stream",
     "text": [
      "black_pawn\n"
     ]
    },
    {
     "data": {
      "image/png": "[encoded data removed]",
      "text/plain": [
       "<PIL.Image.Image image mode=RGB size=30x30 at 0x7FDC5F08A9B0>"
      ]
     },
     "metadata": {},
     "output_type": "display_data"
    },
    {
     "name": "stdout",
     "output_type": "stream",
     "text": [
      "black_pawn\n"
     ]
    },
    {
     "data": {
      "image/png": "[encoded data removed]",
      "text/plain": [
       "<PIL.Image.Image image mode=RGB size=30x30 at 0x7FDC5F0CBF28>"
      ]
     },
     "metadata": {},
     "output_type": "display_data"
    },
    {
     "name": "stdout",
     "output_type": "stream",
     "text": [
      "black_pawn\n"
     ]
    },
    {
     "data": {
      "image/png": "[encoded data removed]",
      "text/plain": [
       "<PIL.Image.Image image mode=RGB size=30x30 at 0x7FDC5F08A9B0>"
      ]
     },
     "metadata": {},
     "output_type": "display_data"
    },
    {
     "name": "stdout",
     "output_type": "stream",
     "text": [
      "black_pawn\n"
     ]
    },
    {
     "data": {
      "image/png": "[encoded data removed]",
      "text/plain": [
       "<PIL.Image.Image image mode=RGB size=30x30 at 0x7FDC5F060748>"
      ]
     },
     "metadata": {},
     "output_type": "display_data"
    },
    {
     "name": "stdout",
     "output_type": "stream",
     "text": [
      "black_pawn\n"
     ]
    },
    {
     "data": {
      "image/png": "[encoded data removed]",
      "text/plain": [
       "<PIL.Image.Image image mode=RGB size=30x30 at 0x7FDC5F0CBF28>"
      ]
     },
     "metadata": {},
     "output_type": "display_data"
    },
    {
     "name": "stdout",
     "output_type": "stream",
     "text": [
      "black_pawn\n"
     ]
    },
    {
     "data": {
      "image/png": "[encoded data removed]",
      "text/plain": [
       "<PIL.Image.Image image mode=RGB size=30x30 at 0x7FDC5F0CBE80>"
      ]
     },
     "metadata": {},
     "output_type": "display_data"
    },
    {
     "name": "stdout",
     "output_type": "stream",
     "text": [
      "black_pawn\n"
     ]
    },
    {
     "data": {
      "image/png": "[encoded data removed]",
      "text/plain": [
       "<PIL.Image.Image image mode=RGB size=30x30 at 0x7FDC5F0CBF28>"
      ]
     },
     "metadata": {},
     "output_type": "display_data"
    },
    {
     "name": "stdout",
     "output_type": "stream",
     "text": [
      "black_pawn\n"
     ]
    },
    {
     "data": {
      "image/png": "[encoded data removed]",
      "text/plain": [
       "<PIL.Image.Image image mode=RGB size=30x30 at 0x7FDC5F0CBE80>"
      ]
     },
     "metadata": {},
     "output_type": "display_data"
    },
    {
     "name": "stdout",
     "output_type": "stream",
     "text": [
      "black_pawn\n"
     ]
    },
    {
     "data": {
      "image/png": "[encoded data removed]",
      "text/plain": [
       "<PIL.Image.Image image mode=RGB size=30x30 at 0x7FDC5F0CBF28>"
      ]
     },
     "metadata": {},
     "output_type": "display_data"
    },
    {
     "name": "stdout",
     "output_type": "stream",
     "text": [
      "black_pawn\n"
     ]
    },
    {
     "data": {
      "image/png": "[encoded data removed]",
      "text/plain": [
       "<PIL.Image.Image image mode=RGB size=30x30 at 0x7FDC5F060748>"
      ]
     },
     "metadata": {},
     "output_type": "display_data"
    },
    {
     "name": "stdout",
     "output_type": "stream",
     "text": [
      "black_pawn\n"
     ]
    },
    {
     "data": {
      "image/png": "[encoded data removed]",
      "text/plain": [
       "<PIL.Image.Image image mode=RGB size=30x30 at 0x7FDC5F5B7A58>"
      ]
     },
     "metadata": {},
     "output_type": "display_data"
    },
    {
     "name": "stdout",
     "output_type": "stream",
     "text": [
      "black_pawn\n"
     ]
    },
    {
     "data": {
      "image/png": "[encoded data removed]",
      "text/plain": [
       "<PIL.Image.Image image mode=RGB size=30x30 at 0x7FDC5F5B7A58>"
      ]
     },
     "metadata": {},
     "output_type": "display_data"
    },
    {
     "name": "stdout",
     "output_type": "stream",
     "text": [
      "black_pawn\n"
     ]
    },
    {
     "data": {
      "image/png": "[encoded data removed]",
      "text/plain": [
       "<PIL.Image.Image image mode=RGB size=30x30 at 0x7FDC5F08A9B0>"
      ]
     },
     "metadata": {},
     "output_type": "display_data"
    },
    {
     "name": "stdout",
     "output_type": "stream",
     "text": [
      "black_pawn\n"
     ]
    },
    {
     "data": {
      "image/png": "[encoded data removed]",
      "text/plain": [
       "<PIL.Image.Image image mode=RGB size=30x30 at 0x7FDC5F0CBE80>"
      ]
     },
     "metadata": {},
     "output_type": "display_data"
    },
    {
     "name": "stdout",
     "output_type": "stream",
     "text": [
      "black_pawn\n"
     ]
    },
    {
     "data": {
      "image/png": "[encoded data removed]",
      "text/plain": [
       "<PIL.Image.Image image mode=RGB size=30x30 at 0x7FDC5F0CBF28>"
      ]
     },
     "metadata": {},
     "output_type": "display_data"
    },
    {
     "name": "stdout",
     "output_type": "stream",
     "text": [
      "black_pawn\n"
     ]
    },
    {
     "data": {
      "image/png": "[encoded data removed]",
      "text/plain": [
       "<PIL.Image.Image image mode=RGB size=30x30 at 0x7FDC5F0CBE80>"
      ]
     },
     "metadata": {},
     "output_type": "display_data"
    },
    {
     "name": "stdout",
     "output_type": "stream",
     "text": [
      "black_pawn\n"
     ]
    },
    {
     "data": {
      "image/png": "[encoded data removed]",
      "text/plain": [
       "<PIL.Image.Image image mode=RGB size=30x30 at 0x7FDC5F0CBF28>"
      ]
     },
     "metadata": {},
     "output_type": "display_data"
    },
    {
     "name": "stdout",
     "output_type": "stream",
     "text": [
      "black_pawn\n"
     ]
    },
    {
     "data": {
      "image/png": "[encoded data removed]",
      "text/plain": [
       "<PIL.Image.Image image mode=RGB size=30x30 at 0x7FDC5F060748>"
      ]
     },
     "metadata": {},
     "output_type": "display_data"
    },
    {
     "name": "stdout",
     "output_type": "stream",
     "text": [
      "black_pawn\n"
     ]
    },
    {
     "data": {
      "image/png": "[encoded data removed]",
      "text/plain": [
       "<PIL.Image.Image image mode=RGB size=30x30 at 0x7FDC5F0CBE80>"
      ]
     },
     "metadata": {},
     "output_type": "display_data"
    },
    {
     "name": "stdout",
     "output_type": "stream",
     "text": [
      "black_pawn\n"
     ]
    },
    {
     "data": {
      "image/png": "[encoded data removed]",
      "text/plain": [
       "<PIL.Image.Image image mode=RGB size=30x30 at 0x7FDC5F0CBF28>"
      ]
     },
     "metadata": {},
     "output_type": "display_data"
    },
    {
     "name": "stdout",
     "output_type": "stream",
     "text": [
      "black_pawn\n"
     ]
    },
    {
     "data": {
      "image/png": "[encoded data removed]",
      "text/plain": [
       "<PIL.Image.Image image mode=RGB size=30x30 at 0x7FDC5F0CBE80>"
      ]
     },
     "metadata": {},
     "output_type": "display_data"
    },
    {
     "name": "stdout",
     "output_type": "stream",
     "text": [
      "black_pawn\n"
     ]
    },
    {
     "data": {
      "image/png": "[encoded data removed]",
      "text/plain": [
       "<PIL.Image.Image image mode=RGB size=30x30 at 0x7FDC5F0CBF28>"
      ]
     },
     "metadata": {},
     "output_type": "display_data"
    },
    {
     "name": "stdout",
     "output_type": "stream",
     "text": [
      "black_pawn\n"
     ]
    },
    {
     "data": {
      "image/png": "[encoded data removed]",
      "text/plain": [
       "<PIL.Image.Image image mode=RGB size=30x30 at 0x7FDC5F0CBE80>"
      ]
     },
     "metadata": {},
     "output_type": "display_data"
    },
    {
     "name": "stdout",
     "output_type": "stream",
     "text": [
      "black_pawn\n"
     ]
    },
    {
     "data": {
      "image/png": "[encoded data removed]",
      "text/plain": [
       "<PIL.Image.Image image mode=RGB size=30x30 at 0x7FDC5F5B7A58>"
      ]
     },
     "metadata": {},
     "output_type": "display_data"
    },
    {
     "name": "stdout",
     "output_type": "stream",
     "text": [
      "black_pawn\n"
     ]
    },
    {
     "data": {
      "image/png": "[encoded data removed]",
      "text/plain": [
       "<PIL.Image.Image image mode=RGB size=30x30 at 0x7FDC5F0CBF28>"
      ]
     },
     "metadata": {},
     "output_type": "display_data"
    },
    {
     "name": "stdout",
     "output_type": "stream",
     "text": [
      "black_pawn\n"
     ]
    },
    {
     "data": {
      "image/png": "[encoded data removed]",
      "text/plain": [
       "<PIL.Image.Image image mode=RGB size=30x30 at 0x7FDC5F0CBE80>"
      ]
     },
     "metadata": {},
     "output_type": "display_data"
    },
    {
     "name": "stdout",
     "output_type": "stream",
     "text": [
      "black_pawn\n"
     ]
    },
    {
     "data": {
      "image/png": "[encoded data removed]",
      "text/plain": [
       "<PIL.Image.Image image mode=RGB size=30x30 at 0x7FDC5F0C5B38>"
      ]
     },
     "metadata": {},
     "output_type": "display_data"
    },
    {
     "name": "stdout",
     "output_type": "stream",
     "text": [
      "black_pawn\n"
     ]
    },
    {
     "data": {
      "image/png": "[encoded data removed]",
      "text/plain": [
       "<PIL.Image.Image image mode=RGB size=30x30 at 0x7FDC5F0C5B38>"
      ]
     },
     "metadata": {},
     "output_type": "display_data"
    },
    {
     "name": "stdout",
     "output_type": "stream",
     "text": [
      "black_pawn\n"
     ]
    },
    {
     "data": {
      "image/png": "[encoded data removed]",
      "text/plain": [
       "<PIL.Image.Image image mode=RGB size=30x30 at 0x7FDC5F0C5B38>"
      ]
     },
     "metadata": {},
     "output_type": "display_data"
    },
    {
     "name": "stdout",
     "output_type": "stream",
     "text": [
      "black_pawn\n"
     ]
    },
    {
     "data": {
      "image/png": "[encoded data removed]",
      "text/plain": [
       "<PIL.Image.Image image mode=RGB size=30x30 at 0x7FDC5F0C5B38>"
      ]
     },
     "metadata": {},
     "output_type": "display_data"
    },
    {
     "name": "stdout",
     "output_type": "stream",
     "text": [
      "black_pawn\n"
     ]
    },
    {
     "data": {
      "image/png": "[encoded data removed]",
      "text/plain": [
       "<PIL.Image.Image image mode=RGB size=30x30 at 0x7FDC5F0C5B38>"
      ]
     },
     "metadata": {},
     "output_type": "display_data"
    },
    {
     "name": "stdout",
     "output_type": "stream",
     "text": [
      "black_pawn\n"
     ]
    },
    {
     "data": {
      "image/png": "[encoded data removed]",
      "text/plain": [
       "<PIL.Image.Image image mode=RGB size=30x30 at 0x7FDC5F0C5B38>"
      ]
     },
     "metadata": {},
     "output_type": "display_data"
    },
    {
     "name": "stdout",
     "output_type": "stream",
     "text": [
      "black_pawn\n"
     ]
    },
    {
     "data": {
      "image/png": "[encoded data removed]",
      "text/plain": [
       "<PIL.Image.Image image mode=RGB size=30x30 at 0x7FDC5F0C5B38>"
      ]
     },
     "metadata": {},
     "output_type": "display_data"
    },
    {
     "name": "stdout",
     "output_type": "stream",
     "text": [
      "black_pawn\n"
     ]
    },
    {
     "data": {
      "image/png": "[encoded data removed]",
      "text/plain": [
       "<PIL.Image.Image image mode=RGB size=30x30 at 0x7FDC5F0C5B38>"
      ]
     },
     "metadata": {},
     "output_type": "display_data"
    },
    {
     "name": "stdout",
     "output_type": "stream",
     "text": [
      "black_pawn\n"
     ]
    },
    {
     "data": {
      "image/png": "[encoded data removed]",
      "text/plain": [
       "<PIL.Image.Image image mode=RGB size=30x30 at 0x7FDC5F0C5B38>"
      ]
     },
     "metadata": {},
     "output_type": "display_data"
    },
    {
     "name": "stdout",
     "output_type": "stream",
     "text": [
      "black_pawn\n"
     ]
    },
    {
     "data": {
      "image/png": "[encoded data removed]",
      "text/plain": [
       "<PIL.Image.Image image mode=RGB size=30x30 at 0x7FDC5F0C5B38>"
      ]
     },
     "metadata": {},
     "output_type": "display_data"
    },
    {
     "name": "stdout",
     "output_type": "stream",
     "text": [
      "black_pawn\n"
     ]
    },
    {
     "data": {
      "image/png": "[encoded data removed]",
      "text/plain": [
       "<PIL.Image.Image image mode=RGB size=30x30 at 0x7FDC5F0C5B38>"
      ]
     },
     "metadata": {},
     "output_type": "display_data"
    },
    {
     "name": "stdout",
     "output_type": "stream",
     "text": [
      "black_pawn\n"
     ]
    },
    {
     "data": {
      "image/png": "[encoded data removed]",
      "text/plain": [
       "<PIL.Image.Image image mode=RGB size=30x30 at 0x7FDC5F0C5B38>"
      ]
     },
     "metadata": {},
     "output_type": "display_data"
    },
    {
     "name": "stdout",
     "output_type": "stream",
     "text": [
      "black_pawn\n"
     ]
    },
    {
     "data": {
      "image/png": "[encoded data removed]",
      "text/plain": [
       "<PIL.Image.Image image mode=RGB size=30x30 at 0x7FDC5F0C5B38>"
      ]
     },
     "metadata": {},
     "output_type": "display_data"
    },
    {
     "name": "stdout",
     "output_type": "stream",
     "text": [
      "black_pawn\n"
     ]
    },
    {
     "data": {
      "image/png": "[encoded data removed]",
      "text/plain": [
       "<PIL.Image.Image image mode=RGB size=30x30 at 0x7FDC5F0C5400>"
      ]
     },
     "metadata": {},
     "output_type": "display_data"
    },
    {
     "name": "stdout",
     "output_type": "stream",
     "text": [
      "black_pawn\n"
     ]
    },
    {
     "data": {
      "image/png": "[encoded data removed]",
      "text/plain": [
       "<PIL.Image.Image image mode=RGB size=30x30 at 0x7FDC5F0C5400>"
      ]
     },
     "metadata": {},
     "output_type": "display_data"
    },
    {
     "name": "stdout",
     "output_type": "stream",
     "text": [
      "black_pawn\n"
     ]
    },
    {
     "data": {
      "image/png": "[encoded data removed]",
      "text/plain": [
       "<PIL.Image.Image image mode=RGB size=30x30 at 0x7FDC5F0C5400>"
      ]
     },
     "metadata": {},
     "output_type": "display_data"
    },
    {
     "name": "stdout",
     "output_type": "stream",
     "text": [
      "black_pawn\n"
     ]
    },
    {
     "data": {
      "image/png": "[encoded data removed]",
      "text/plain": [
       "<PIL.Image.Image image mode=RGB size=30x30 at 0x7FDC5F0C5400>"
      ]
     },
     "metadata": {},
     "output_type": "display_data"
    },
    {
     "name": "stdout",
     "output_type": "stream",
     "text": [
      "black_pawn\n"
     ]
    },
    {
     "data": {
      "image/png": "[encoded data removed]",
      "text/plain": [
       "<PIL.Image.Image image mode=RGB size=30x30 at 0x7FDC5F0C5208>"
      ]
     },
     "metadata": {},
     "output_type": "display_data"
    },
    {
     "name": "stdout",
     "output_type": "stream",
     "text": [
      "black_pawn\n"
     ]
    },
    {
     "data": {
      "image/png": "[encoded data removed]",
      "text/plain": [
       "<PIL.Image.Image image mode=RGB size=30x30 at 0x7FDC5F0C5208>"
      ]
     },
     "metadata": {},
     "output_type": "display_data"
    },
    {
     "name": "stdout",
     "output_type": "stream",
     "text": [
      "black_pawn\n"
     ]
    },
    {
     "data": {
      "image/png": "[encoded data removed]",
      "text/plain": [
       "<PIL.Image.Image image mode=RGB size=30x30 at 0x7FDC5F0C5208>"
      ]
     },
     "metadata": {},
     "output_type": "display_data"
    },
    {
     "name": "stdout",
     "output_type": "stream",
     "text": [
      "black_pawn\n"
     ]
    },
    {
     "data": {
      "image/png": "[encoded data removed]",
      "text/plain": [
       "<PIL.Image.Image image mode=RGB size=30x30 at 0x7FDC5F0C5208>"
      ]
     },
     "metadata": {},
     "output_type": "display_data"
    },
    {
     "name": "stdout",
     "output_type": "stream",
     "text": [
      "black_pawn\n"
     ]
    },
    {
     "data": {
      "image/png": "[encoded data removed]",
      "text/plain": [
       "<PIL.Image.Image image mode=RGB size=30x30 at 0x7FDC5F0C5208>"
      ]
     },
     "metadata": {},
     "output_type": "display_data"
    },
    {
     "name": "stdout",
     "output_type": "stream",
     "text": [
      "black_pawn\n"
     ]
    },
    {
     "data": {
      "image/png": "[encoded data removed]",
      "text/plain": [
       "<PIL.Image.Image image mode=RGB size=30x30 at 0x7FDC5F0C5208>"
      ]
     },
     "metadata": {},
     "output_type": "display_data"
    },
    {
     "name": "stdout",
     "output_type": "stream",
     "text": [
      "black_pawn\n"
     ]
    },
    {
     "data": {
      "image/png": "[encoded data removed]",
      "text/plain": [
       "<PIL.Image.Image image mode=RGB size=30x30 at 0x7FDC5F0C5208>"
      ]
     },
     "metadata": {},
     "output_type": "display_data"
    },
    {
     "name": "stdout",
     "output_type": "stream",
     "text": [
      "black_pawn\n"
     ]
    },
    {
     "data": {
      "image/png": "[encoded data removed]",
      "text/plain": [
       "<PIL.Image.Image image mode=RGB size=30x30 at 0x7FDC5F0C5B38>"
      ]
     },
     "metadata": {},
     "output_type": "display_data"
    },
    {
     "name": "stdout",
     "output_type": "stream",
     "text": [
      "black_pawn\n"
     ]
    },
    {
     "data": {
      "image/png": "[encoded data removed]",
      "text/plain": [
       "<PIL.Image.Image image mode=RGB size=30x30 at 0x7FDC5F0C5400>"
      ]
     },
     "metadata": {},
     "output_type": "display_data"
    },
    {
     "name": "stdout",
     "output_type": "stream",
     "text": [
      "black_pawn\n"
     ]
    },
    {
     "data": {
      "image/png": "[encoded data removed]",
      "text/plain": [
       "<PIL.Image.Image image mode=RGB size=30x30 at 0x7FDC5F0C5400>"
      ]
     },
     "metadata": {},
     "output_type": "display_data"
    },
    {
     "name": "stdout",
     "output_type": "stream",
     "text": [
      "black_pawn\n"
     ]
    },
    {
     "data": {
      "image/png": "[encoded data removed]",
      "text/plain": [
       "<PIL.Image.Image image mode=RGB size=30x30 at 0x7FDC5F0C5400>"
      ]
     },
     "metadata": {},
     "output_type": "display_data"
    },
    {
     "name": "stdout",
     "output_type": "stream",
     "text": [
      "black_pawn\n"
     ]
    },
    {
     "data": {
      "image/png": "[encoded data removed]",
      "text/plain": [
       "<PIL.Image.Image image mode=RGB size=30x30 at 0x7FDC5F0C5400>"
      ]
     },
     "metadata": {},
     "output_type": "display_data"
    },
    {
     "name": "stdout",
     "output_type": "stream",
     "text": [
      "black_pawn\n"
     ]
    },
    {
     "data": {
      "image/png": "[encoded data removed]",
      "text/plain": [
       "<PIL.Image.Image image mode=RGB size=30x30 at 0x7FDC5F0C5400>"
      ]
     },
     "metadata": {},
     "output_type": "display_data"
    },
    {
     "name": "stdout",
     "output_type": "stream",
     "text": [
      "black_pawn\n"
     ]
    },
    {
     "data": {
      "image/png": "[encoded data removed]",
      "text/plain": [
       "<PIL.Image.Image image mode=RGB size=30x30 at 0x7FDC5F0C5400>"
      ]
     },
     "metadata": {},
     "output_type": "display_data"
    },
    {
     "name": "stdout",
     "output_type": "stream",
     "text": [
      "black_pawn\n"
     ]
    },
    {
     "data": {
      "image/png": "[encoded data removed]",
      "text/plain": [
       "<PIL.Image.Image image mode=RGB size=30x30 at 0x7FDC5F0C5400>"
      ]
     },
     "metadata": {},
     "output_type": "display_data"
    },
    {
     "name": "stdout",
     "output_type": "stream",
     "text": [
      "black_pawn\n"
     ]
    },
    {
     "data": {
      "image/png": "[encoded data removed]",
      "text/plain": [
       "<PIL.Image.Image image mode=RGB size=30x30 at 0x7FDC5F0C5400>"
      ]
     },
     "metadata": {},
     "output_type": "display_data"
    },
    {
     "name": "stdout",
     "output_type": "stream",
     "text": [
      "black_pawn\n"
     ]
    },
    {
     "data": {
      "image/png": "[encoded data removed]",
      "text/plain": [
       "<PIL.Image.Image image mode=RGB size=30x30 at 0x7FDC5F0C5400>"
      ]
     },
     "metadata": {},
     "output_type": "display_data"
    },
    {
     "name": "stdout",
     "output_type": "stream",
     "text": [
      "black_pawn\n"
     ]
    },
    {
     "data": {
      "image/png": "[encoded data removed]",
      "text/plain": [
       "<PIL.Image.Image image mode=RGB size=30x30 at 0x7FDC5F0C5400>"
      ]
     },
     "metadata": {},
     "output_type": "display_data"
    },
    {
     "name": "stdout",
     "output_type": "stream",
     "text": [
      "black_pawn\n"
     ]
    },
    {
     "data": {
      "image/png": "[encoded data removed]",
      "text/plain": [
       "<PIL.Image.Image image mode=RGB size=30x30 at 0x7FDC5F0C5400>"
      ]
     },
     "metadata": {},
     "output_type": "display_data"
    },
    {
     "name": "stdout",
     "output_type": "stream",
     "text": [
      "black_pawn\n"
     ]
    },
    {
     "data": {
      "image/png": "[encoded data removed]",
      "text/plain": [
       "<PIL.Image.Image image mode=RGB size=30x30 at 0x7FDC5F0C5400>"
      ]
     },
     "metadata": {},
     "output_type": "display_data"
    },
    {
     "name": "stdout",
     "output_type": "stream",
     "text": [
      "black_pawn\n"
     ]
    },
    {
     "data": {
      "image/png": "[encoded data removed]",
      "text/plain": [
       "<PIL.Image.Image image mode=RGB size=30x30 at 0x7FDC5F0C5400>"
      ]
     },
     "metadata": {},
     "output_type": "display_data"
    },
    {
     "name": "stdout",
     "output_type": "stream",
     "text": [
      "black_pawn\n"
     ]
    },
    {
     "data": {
      "image/png": "[encoded data removed]",
      "text/plain": [
       "<PIL.Image.Image image mode=RGB size=30x30 at 0x7FDC5F0C5400>"
      ]
     },
     "metadata": {},
     "output_type": "display_data"
    },
    {
     "name": "stdout",
     "output_type": "stream",
     "text": [
      "black_pawn\n"
     ]
    },
    {
     "data": {
      "image/png": "[encoded data removed]",
      "text/plain": [
       "<PIL.Image.Image image mode=RGB size=30x30 at 0x7FDC5F0C5400>"
      ]
     },
     "metadata": {},
     "output_type": "display_data"
    },
    {
     "name": "stdout",
     "output_type": "stream",
     "text": [
      "black_pawn\n"
     ]
    },
    {
     "data": {
      "image/png": "[encoded data removed]",
      "text/plain": [
       "<PIL.Image.Image image mode=RGB size=30x30 at 0x7FDC5F0C5400>"
      ]
     },
     "metadata": {},
     "output_type": "display_data"
    },
    {
     "name": "stdout",
     "output_type": "stream",
     "text": [
      "black_pawn\n"
     ]
    },
    {
     "data": {
      "image/png": "[encoded data removed]",
      "text/plain": [
       "<PIL.Image.Image image mode=RGB size=30x30 at 0x7FDC5F0C5400>"
      ]
     },
     "metadata": {},
     "output_type": "display_data"
    },
    {
     "name": "stdout",
     "output_type": "stream",
     "text": [
      "black_pawn\n"
     ]
    },
    {
     "data": {
      "image/png": "[encoded data removed]",
      "text/plain": [
       "<PIL.Image.Image image mode=RGB size=30x30 at 0x7FDC5F0C5400>"
      ]
     },
     "metadata": {},
     "output_type": "display_data"
    },
    {
     "name": "stdout",
     "output_type": "stream",
     "text": [
      "black_pawn\n"
     ]
    },
    {
     "data": {
      "image/png": "[encoded data removed]",
      "text/plain": [
       "<PIL.Image.Image image mode=RGB size=30x30 at 0x7FDC5F0C5400>"
      ]
     },
     "metadata": {},
     "output_type": "display_data"
    },
    {
     "name": "stdout",
     "output_type": "stream",
     "text": [
      "black_pawn\n"
     ]
    },
    {
     "data": {
      "image/png": "[encoded data removed]",
      "text/plain": [
       "<PIL.Image.Image image mode=RGB size=30x30 at 0x7FDC5F0C5400>"
      ]
     },
     "metadata": {},
     "output_type": "display_data"
    },
    {
     "name": "stdout",
     "output_type": "stream",
     "text": [
      "black_pawn\n"
     ]
    },
    {
     "data": {
      "image/png": "[encoded data removed]",
      "text/plain": [
       "<PIL.Image.Image image mode=RGB size=30x30 at 0x7FDC5F0C5400>"
      ]
     },
     "metadata": {},
     "output_type": "display_data"
    },
    {
     "name": "stdout",
     "output_type": "stream",
     "text": [
      "black_pawn\n"
     ]
    },
    {
     "data": {
      "image/png": "[encoded data removed]",
      "text/plain": [
       "<PIL.Image.Image image mode=RGB size=30x30 at 0x7FDC5F0C5400>"
      ]
     },
     "metadata": {},
     "output_type": "display_data"
    },
    {
     "name": "stdout",
     "output_type": "stream",
     "text": [
      "black_pawn\n"
     ]
    },
    {
     "data": {
      "image/png": "[encoded data removed]",
      "text/plain": [
       "<PIL.Image.Image image mode=RGB size=30x30 at 0x7FDC5F0C5400>"
      ]
     },
     "metadata": {},
     "output_type": "display_data"
    },
    {
     "name": "stdout",
     "output_type": "stream",
     "text": [
      "black_pawn\n"
     ]
    },
    {
     "data": {
      "image/png": "[encoded data removed]",
      "text/plain": [
       "<PIL.Image.Image image mode=RGB size=30x30 at 0x7FDC5F0C5208>"
      ]
     },
     "metadata": {},
     "output_type": "display_data"
    },
    {
     "name": "stdout",
     "output_type": "stream",
     "text": [
      "black_pawn\n"
     ]
    },
    {
     "data": {
      "image/png": "[encoded data removed]",
      "text/plain": [
       "<PIL.Image.Image image mode=RGB size=30x30 at 0x7FDC5F0C5208>"
      ]
     },
     "metadata": {},
     "output_type": "display_data"
    },
    {
     "name": "stdout",
     "output_type": "stream",
     "text": [
      "black_pawn\n"
     ]
    },
    {
     "data": {
      "image/png": "[encoded data removed]",
      "text/plain": [
       "<PIL.Image.Image image mode=RGB size=30x30 at 0x7FDC5F0C5208>"
      ]
     },
     "metadata": {},
     "output_type": "display_data"
    },
    {
     "name": "stdout",
     "output_type": "stream",
     "text": [
      "black_pawn\n"
     ]
    },
    {
     "data": {
      "image/png": "[encoded data removed]",
      "text/plain": [
       "<PIL.Image.Image image mode=RGB size=30x30 at 0x7FDC5F0C5208>"
      ]
     },
     "metadata": {},
     "output_type": "display_data"
    },
    {
     "name": "stdout",
     "output_type": "stream",
     "text": [
      "black_pawn\n"
     ]
    },
    {
     "data": {
      "image/png": "[encoded data removed]",
      "text/plain": [
       "<PIL.Image.Image image mode=RGB size=30x30 at 0x7FDC5F0C5208>"
      ]
     },
     "metadata": {},
     "output_type": "display_data"
    },
    {
     "name": "stdout",
     "output_type": "stream",
     "text": [
      "black_pawn\n"
     ]
    },
    {
     "data": {
      "image/png": "[encoded data removed]",
      "text/plain": [
       "<PIL.Image.Image image mode=RGB size=30x30 at 0x7FDC5F0C5208>"
      ]
     },
     "metadata": {},
     "output_type": "display_data"
    },
    {
     "name": "stdout",
     "output_type": "stream",
     "text": [
      "black_pawn\n"
     ]
    },
    {
     "data": {
      "image/png": "[encoded data removed]",
      "text/plain": [
       "<PIL.Image.Image image mode=RGB size=30x30 at 0x7FDC5F0C5208>"
      ]
     },
     "metadata": {},
     "output_type": "display_data"
    },
    {
     "name": "stdout",
     "output_type": "stream",
     "text": [
      "black_pawn\n"
     ]
    },
    {
     "data": {
      "image/png": "[encoded data removed]",
      "text/plain": [
       "<PIL.Image.Image image mode=RGB size=30x30 at 0x7FDC5F0C5208>"
      ]
     },
     "metadata": {},
     "output_type": "display_data"
    },
    {
     "name": "stdout",
     "output_type": "stream",
     "text": [
      "black_pawn\n"
     ]
    },
    {
     "data": {
      "image/png": "[encoded data removed]",
      "text/plain": [
       "<PIL.Image.Image image mode=RGB size=30x30 at 0x7FDC5F0C5208>"
      ]
     },
     "metadata": {},
     "output_type": "display_data"
    },
    {
     "name": "stdout",
     "output_type": "stream",
     "text": [
      "black_pawn\n"
     ]
    },
    {
     "data": {
      "image/png": "[encoded data removed]",
      "text/plain": [
       "<PIL.Image.Image image mode=RGB size=30x30 at 0x7FDC5F0C5208>"
      ]
     },
     "metadata": {},
     "output_type": "display_data"
    },
    {
     "name": "stdout",
     "output_type": "stream",
     "text": [
      "black_pawn\n"
     ]
    },
    {
     "data": {
      "image/png": "[encoded data removed]",
      "text/plain": [
       "<PIL.Image.Image image mode=RGB size=30x30 at 0x7FDC5F0C5208>"
      ]
     },
     "metadata": {},
     "output_type": "display_data"
    },
    {
     "name": "stdout",
     "output_type": "stream",
     "text": [
      "black_pawn\n"
     ]
    },
    {
     "data": {
      "image/png": "[encoded data removed]",
      "text/plain": [
       "<PIL.Image.Image image mode=RGB size=30x30 at 0x7FDC5F0C5208>"
      ]
     },
     "metadata": {},
     "output_type": "display_data"
    },
    {
     "name": "stdout",
     "output_type": "stream",
     "text": [
      "black_pawn\n"
     ]
    },
    {
     "data": {
      "image/png": "[encoded data removed]",
      "text/plain": [
       "<PIL.Image.Image image mode=RGB size=30x30 at 0x7FDC5F0C5208>"
      ]
     },
     "metadata": {},
     "output_type": "display_data"
    },
    {
     "name": "stdout",
     "output_type": "stream",
     "text": [
      "black_pawn\n"
     ]
    },
    {
     "data": {
      "image/png": "[encoded data removed]",
      "text/plain": [
       "<PIL.Image.Image image mode=RGB size=30x30 at 0x7FDC5F0C5208>"
      ]
     },
     "metadata": {},
     "output_type": "display_data"
    },
    {
     "name": "stdout",
     "output_type": "stream",
     "text": [
      "black_pawn\n"
     ]
    },
    {
     "data": {
      "image/png": "[encoded data removed]",
      "text/plain": [
       "<PIL.Image.Image image mode=RGB size=30x30 at 0x7FDC5F0C5208>"
      ]
     },
     "metadata": {},
     "output_type": "display_data"
    },
    {
     "name": "stdout",
     "output_type": "stream",
     "text": [
      "black_pawn\n"
     ]
    },
    {
     "data": {
      "image/png": "[encoded data removed]",
      "text/plain": [
       "<PIL.Image.Image image mode=RGB size=30x30 at 0x7FDC5F0C5208>"
      ]
     },
     "metadata": {},
     "output_type": "display_data"
    },
    {
     "ename": "KeyboardInterrupt",
     "evalue": "",
     "output_type": "error",
     "traceback": [
      "\u001b[0;31m---------------------------------------------------------------------------\u001b[0m",
      "\u001b[0;31mKeyboardInterrupt\u001b[0m                         Traceback (most recent call last)",
      "\u001b[0;32m<ipython-input-199-0ef9f7590ac1>\u001b[0m in \u001b[0;36m<module>\u001b[0;34m\u001b[0m\n\u001b[1;32m      4\u001b[0m     \u001b[0mpth\u001b[0m\u001b[0;34m=\u001b[0m\u001b[0;34mf\"data/public/set/{name}/{name}.png\"\u001b[0m\u001b[0;34m\u001b[0m\u001b[0;34m\u001b[0m\u001b[0m\n\u001b[1;32m      5\u001b[0m     \u001b[0mimg\u001b[0m\u001b[0;34m=\u001b[0m\u001b[0mnp\u001b[0m\u001b[0;34m.\u001b[0m\u001b[0masarray\u001b[0m\u001b[0;34m(\u001b[0m\u001b[0mImage\u001b[0m\u001b[0;34m.\u001b[0m\u001b[0mopen\u001b[0m\u001b[0;34m(\u001b[0m\u001b[0mpth\u001b[0m\u001b[0;34m)\u001b[0m\u001b[0;34m)\u001b[0m\u001b[0;34m\u001b[0m\u001b[0;34m\u001b[0m\u001b[0m\n\u001b[0;32m----> 6\u001b[0;31m     \u001b[0mbeggining_position\u001b[0m\u001b[0;34m,\u001b[0m \u001b[0moffset\u001b[0m\u001b[0;34m=\u001b[0m \u001b[0mfind_beggining\u001b[0m\u001b[0;34m(\u001b[0m\u001b[0mimg\u001b[0m\u001b[0;34m)\u001b[0m\u001b[0;34m\u001b[0m\u001b[0;34m\u001b[0m\u001b[0m\n\u001b[0m\u001b[1;32m      7\u001b[0m     \u001b[0mchessboard\u001b[0m\u001b[0;34m=\u001b[0m\u001b[0mcut_chessboard\u001b[0m\u001b[0;34m(\u001b[0m\u001b[0mimg\u001b[0m\u001b[0;34m,\u001b[0m \u001b[0mbeggining_position\u001b[0m\u001b[0;34m,\u001b[0m \u001b[0moffset\u001b[0m\u001b[0;34m)\u001b[0m\u001b[0;34m\u001b[0m\u001b[0;34m\u001b[0m\u001b[0m\n\u001b[1;32m      8\u001b[0m     \u001b[0mtiles\u001b[0m\u001b[0;34m=\u001b[0m\u001b[0mget_tiles\u001b[0m\u001b[0;34m(\u001b[0m\u001b[0mchessboard\u001b[0m\u001b[0;34m,\u001b[0m \u001b[0moffset\u001b[0m\u001b[0;34m)\u001b[0m\u001b[0;34m\u001b[0m\u001b[0;34m\u001b[0m\u001b[0m\n",
      "\u001b[0;32m<ipython-input-26-feaa84eec212>\u001b[0m in \u001b[0;36mfind_beggining\u001b[0;34m(img)\u001b[0m\n\u001b[1;32m     10\u001b[0m                 \u001b[0mbeggining_found\u001b[0m\u001b[0;34m=\u001b[0m\u001b[0;32mTrue\u001b[0m\u001b[0;34m\u001b[0m\u001b[0;34m\u001b[0m\u001b[0m\n\u001b[1;32m     11\u001b[0m \u001b[0;34m\u001b[0m\u001b[0m\n\u001b[0;32m---> 12\u001b[0;31m             \u001b[0;32mif\u001b[0m \u001b[0mnp\u001b[0m\u001b[0;34m.\u001b[0m\u001b[0marray_equal\u001b[0m\u001b[0;34m(\u001b[0m\u001b[0mposition_px_val\u001b[0m\u001b[0;34m,\u001b[0m\u001b[0mblack_tile_px_val\u001b[0m\u001b[0;34m)\u001b[0m\u001b[0;34m:\u001b[0m\u001b[0;34m\u001b[0m\u001b[0;34m\u001b[0m\u001b[0m\n\u001b[0m\u001b[1;32m     13\u001b[0m                 \u001b[0moffset\u001b[0m\u001b[0;34m=\u001b[0m\u001b[0;34m(\u001b[0m\u001b[0mnp\u001b[0m\u001b[0;34m.\u001b[0m\u001b[0marray\u001b[0m\u001b[0;34m(\u001b[0m\u001b[0;34m[\u001b[0m\u001b[0mrow_px\u001b[0m\u001b[0;34m,\u001b[0m\u001b[0mcol_px\u001b[0m\u001b[0;34m]\u001b[0m\u001b[0;34m)\u001b[0m\u001b[0;34m-\u001b[0m\u001b[0mbeggining_position\u001b[0m\u001b[0;34m)\u001b[0m\u001b[0;34m[\u001b[0m\u001b[0;36m1\u001b[0m\u001b[0;34m]\u001b[0m\u001b[0;34m\u001b[0m\u001b[0;34m\u001b[0m\u001b[0m\n\u001b[1;32m     14\u001b[0m                 \u001b[0;32mbreak\u001b[0m\u001b[0;34m\u001b[0m\u001b[0;34m\u001b[0m\u001b[0m\n",
      "\u001b[0;32m<__array_function__ internals>\u001b[0m in \u001b[0;36marray_equal\u001b[0;34m(*args, **kwargs)\u001b[0m\n",
      "\u001b[0;32m~/anaconda3/envs/nlp/lib/python3.6/site-packages/numpy/core/numeric.py\u001b[0m in \u001b[0;36marray_equal\u001b[0;34m(a1, a2, equal_nan)\u001b[0m\n\u001b[1;32m   2376\u001b[0m         \u001b[0;32mreturn\u001b[0m \u001b[0;32mFalse\u001b[0m\u001b[0;34m\u001b[0m\u001b[0;34m\u001b[0m\u001b[0m\n\u001b[1;32m   2377\u001b[0m     \u001b[0;32mif\u001b[0m \u001b[0;32mnot\u001b[0m \u001b[0mequal_nan\u001b[0m\u001b[0;34m:\u001b[0m\u001b[0;34m\u001b[0m\u001b[0;34m\u001b[0m\u001b[0m\n\u001b[0;32m-> 2378\u001b[0;31m         \u001b[0;32mreturn\u001b[0m \u001b[0mbool\u001b[0m\u001b[0;34m(\u001b[0m\u001b[0masarray\u001b[0m\u001b[0;34m(\u001b[0m\u001b[0ma1\u001b[0m \u001b[0;34m==\u001b[0m \u001b[0ma2\u001b[0m\u001b[0;34m)\u001b[0m\u001b[0;34m.\u001b[0m\u001b[0mall\u001b[0m\u001b[0;34m(\u001b[0m\u001b[0;34m)\u001b[0m\u001b[0;34m)\u001b[0m\u001b[0;34m\u001b[0m\u001b[0;34m\u001b[0m\u001b[0m\n\u001b[0m\u001b[1;32m   2379\u001b[0m     \u001b[0;31m# Handling NaN values if equal_nan is True\u001b[0m\u001b[0;34m\u001b[0m\u001b[0;34m\u001b[0m\u001b[0;34m\u001b[0m\u001b[0m\n\u001b[1;32m   2380\u001b[0m     \u001b[0ma1nan\u001b[0m\u001b[0;34m,\u001b[0m \u001b[0ma2nan\u001b[0m \u001b[0;34m=\u001b[0m \u001b[0misnan\u001b[0m\u001b[0;34m(\u001b[0m\u001b[0ma1\u001b[0m\u001b[0;34m)\u001b[0m\u001b[0;34m,\u001b[0m \u001b[0misnan\u001b[0m\u001b[0;34m(\u001b[0m\u001b[0ma2\u001b[0m\u001b[0;34m)\u001b[0m\u001b[0;34m\u001b[0m\u001b[0;34m\u001b[0m\u001b[0m\n",
      "\u001b[0;32m~/anaconda3/envs/nlp/lib/python3.6/site-packages/numpy/core/_methods.py\u001b[0m in \u001b[0;36m_all\u001b[0;34m(a, axis, dtype, out, keepdims)\u001b[0m\n\u001b[1;32m     55\u001b[0m \u001b[0;34m\u001b[0m\u001b[0m\n\u001b[1;32m     56\u001b[0m \u001b[0;32mdef\u001b[0m \u001b[0m_all\u001b[0m\u001b[0;34m(\u001b[0m\u001b[0ma\u001b[0m\u001b[0;34m,\u001b[0m \u001b[0maxis\u001b[0m\u001b[0;34m=\u001b[0m\u001b[0;32mNone\u001b[0m\u001b[0;34m,\u001b[0m \u001b[0mdtype\u001b[0m\u001b[0;34m=\u001b[0m\u001b[0;32mNone\u001b[0m\u001b[0;34m,\u001b[0m \u001b[0mout\u001b[0m\u001b[0;34m=\u001b[0m\u001b[0;32mNone\u001b[0m\u001b[0;34m,\u001b[0m \u001b[0mkeepdims\u001b[0m\u001b[0;34m=\u001b[0m\u001b[0;32mFalse\u001b[0m\u001b[0;34m)\u001b[0m\u001b[0;34m:\u001b[0m\u001b[0;34m\u001b[0m\u001b[0;34m\u001b[0m\u001b[0m\n\u001b[0;32m---> 57\u001b[0;31m     \u001b[0;32mreturn\u001b[0m \u001b[0mumr_all\u001b[0m\u001b[0;34m(\u001b[0m\u001b[0ma\u001b[0m\u001b[0;34m,\u001b[0m \u001b[0maxis\u001b[0m\u001b[0;34m,\u001b[0m \u001b[0mdtype\u001b[0m\u001b[0;34m,\u001b[0m \u001b[0mout\u001b[0m\u001b[0;34m,\u001b[0m \u001b[0mkeepdims\u001b[0m\u001b[0;34m)\u001b[0m\u001b[0;34m\u001b[0m\u001b[0;34m\u001b[0m\u001b[0m\n\u001b[0m\u001b[1;32m     58\u001b[0m \u001b[0;34m\u001b[0m\u001b[0m\n\u001b[1;32m     59\u001b[0m \u001b[0;32mdef\u001b[0m \u001b[0m_count_reduce_items\u001b[0m\u001b[0;34m(\u001b[0m\u001b[0marr\u001b[0m\u001b[0;34m,\u001b[0m \u001b[0maxis\u001b[0m\u001b[0;34m)\u001b[0m\u001b[0;34m:\u001b[0m\u001b[0;34m\u001b[0m\u001b[0;34m\u001b[0m\u001b[0m\n",
      "\u001b[0;31mKeyboardInterrupt\u001b[0m: "
     ]
    }
   ],
   "source": [
    "\n",
    "for i in range(0,25,1):\n",
    "    name=f\"{i}\"\n",
    "\n",
    "    pth=f\"data/public/set/{name}/{name}.png\"\n",
    "    img=np.asarray(Image.open(pth))\n",
    "    beggining_position, offset= find_beggining(img)\n",
    "    chessboard=cut_chessboard(img, beggining_position, offset)\n",
    "    tiles=get_tiles(chessboard, offset)\n",
    "    \n",
    "    for tile in tiles:\n",
    "        if np.array_equal(tile[0][0],np.array(black_tile_px_val)):\n",
    "            figure=tile.copy()\n",
    "            figure[figure==black_tile_px_val]=0\n",
    "            \n",
    "            min_loss=10000\n",
    "            fig_match=None\n",
    "            \n",
    "            for key, value in img_pths.items():\n",
    "                compare_figure=get_figure_array(value)\n",
    "                loss=np.sqrt(np.sum((figure-compare_figure)**2))\n",
    "                if loss< min_loss:\n",
    "                    min_loss=loss\n",
    "                    fig_match=key\n",
    "                    \n",
    "            print(fig_match)\n",
    "            display(Image.fromarray(tile))\n",
    "            \n",
    "        else:\n",
    "            figure=tile.copy()\n",
    "            figure[figure==white_tile_px_val]=0\n",
    "            \n",
    "            min_loss=10000\n",
    "            fig_match=None\n",
    "            \n",
    "            for key, value in img_pths.items():\n",
    "                compare_figure=get_figure_array(value)\n",
    "                loss=np.sqrt(np.sum((figure-compare_figure)**2))\n",
    "                if loss< min_loss:\n",
    "                    min_loss=loss\n",
    "                    fig_match=key\n",
    "            \n",
    "            print(fig_match)\n",
    "            display(Image.fromarray(tile))\n",
    "\n"
   ]
  },
  {
   "cell_type": "code",
   "execution_count": null,
   "id": "floral-growing",
   "metadata": {},
   "outputs": [],
   "source": []
  },
  {
   "cell_type": "code",
   "execution_count": null,
   "id": "advanced-graduation",
   "metadata": {},
   "outputs": [],
   "source": []
  },
  {
   "cell_type": "code",
   "execution_count": null,
   "id": "transparent-thirty",
   "metadata": {},
   "outputs": [],
   "source": []
  },
  {
   "cell_type": "code",
   "execution_count": null,
   "id": "dutch-netscape",
   "metadata": {},
   "outputs": [],
   "source": []
  },
  {
   "cell_type": "code",
   "execution_count": null,
   "id": "royal-lewis",
   "metadata": {},
   "outputs": [],
   "source": []
  },
  {
   "cell_type": "code",
   "execution_count": null,
   "id": "gentle-tiffany",
   "metadata": {},
   "outputs": [],
   "source": []
  },
  {
   "cell_type": "code",
   "execution_count": null,
   "id": "gorgeous-headquarters",
   "metadata": {},
   "outputs": [],
   "source": []
  },
  {
   "cell_type": "code",
   "execution_count": null,
   "id": "confidential-error",
   "metadata": {},
   "outputs": [],
   "source": []
  },
  {
   "cell_type": "code",
   "execution_count": null,
   "id": "sacred-expense",
   "metadata": {},
   "outputs": [],
   "source": []
  },
  {
   "cell_type": "code",
   "execution_count": null,
   "id": "unable-danger",
   "metadata": {},
   "outputs": [],
   "source": []
  },
  {
   "cell_type": "code",
   "execution_count": 46,
   "id": "reserved-secretariat",
   "metadata": {},
   "outputs": [
    {
     "data": {
      "text/plain": [
       "'k'"
      ]
     },
     "execution_count": 46,
     "metadata": {},
     "output_type": "execute_result"
    }
   ],
   "source": [
    "px_sum_to_figname={\n",
    "    576000:'1',\n",
    "    341724:'Q',\n",
    "    376200:'1',\n",
    "    314357:'k',\n",
    "    518109:'K',\n",
    "    386936:'K',\n",
    "    384771:'n',\n",
    "    261591:'n',\n",
    "    445530:'k',\n",
    "    555722:'P',\n",
    "    405205:'P',\n",
    "    433925:'p',\n",
    "    283408:'p',\n",
    "    512160:'R',\n",
    "    537129:'N',\n",
    "    365691:'B',\n",
    "    512395:'B',\n",
    "    466042:'Q',\n",
    "    278589:'q',\n",
    "    295386:'b',\n",
    "    377478:'R',\n",
    "    285648:'r',\n",
    "    413949:'N',\n",
    "    420330:'r',\n",
    "    401317:'q',\n",
    "    442090:'b'\n",
    "}\n",
    "\n",
    "def recognize_figure(tile):\n",
    "    px_sum=np.sum(tile)\n",
    "    figure_name=px_sum_to_figname[px_sum]\n",
    "                \n",
    "    return figure_name\n",
    "\n",
    "recognize_figure(crops[7])\n",
    "        \n",
    "\n",
    "                \n",
    "\n"
   ]
  },
  {
   "cell_type": "code",
   "execution_count": 130,
   "id": "phantom-aurora",
   "metadata": {},
   "outputs": [],
   "source": [
    "def update_danger_matrix(figure, position, figure_matrix, danger_matrix):\n",
    "    i,j=position\n",
    "    \n",
    "    \n",
    "    if figure=='P':\n",
    "        #checking down right diagonal\n",
    "        i_cp,j_cp=position\n",
    "        i_cp+=1\n",
    "        j_cp+=1\n",
    "        while(i_cp<8 and j_cp<8):\n",
    "\n",
    "            if figure_matrix[i_cp][j_cp] in 'pnbrqkPNBRQK':\n",
    "                if danger_matrix[i_cp][j_cp]==2:\n",
    "                    danger_matrix[i_cp][j_cp]=3\n",
    "                else:\n",
    "                    danger_matrix[i_cp][j_cp]=1\n",
    "                break\n",
    "            else:\n",
    "                if danger_matrix[i_cp][j_cp]==2:\n",
    "                    danger_matrix[i_cp][j_cp]=3\n",
    "                else:\n",
    "                    danger_matrix[i_cp][j_cp]=1\n",
    "                    \n",
    "            i_cp+=1\n",
    "            j_cp+=1\n",
    "        \n",
    "        #checking up left diagonal\n",
    "        i_cp,j_cp=position\n",
    "        i_cp-=1\n",
    "        j_cp-=1\n",
    "        while(i_cp>-1 and j_cp>-1):\n",
    "\n",
    "            if figure_matrix[i_cp][j_cp] in 'pnbrqkPNBRQK':\n",
    "                if danger_matrix[i_cp][j_cp]==2:\n",
    "                    danger_matrix[i_cp][j_cp]=3\n",
    "                else:\n",
    "                    danger_matrix[i_cp][j_cp]=1\n",
    "                break\n",
    "            else:\n",
    "                if danger_matrix[i_cp][j_cp]==2:\n",
    "                    danger_matrix[i_cp][j_cp]=3\n",
    "                else:\n",
    "                    danger_matrix[i_cp][j_cp]=1\n",
    "                    \n",
    "            i_cp-=1\n",
    "            j_cp-=1 \n",
    "            \n",
    "        #checking up right diagonal\n",
    "        i_cp,j_cp=position\n",
    "        i_cp-=1\n",
    "        j_cp+=1\n",
    "        while(i_cp>-1 and j_cp<8):\n",
    "\n",
    "            if figure_matrix[i_cp][j_cp] in 'pnbrqkPNBRQK':\n",
    "                if danger_matrix[i_cp][j_cp]==2:\n",
    "                    danger_matrix[i_cp][j_cp]=3\n",
    "                else:\n",
    "                    danger_matrix[i_cp][j_cp]=1\n",
    "                break\n",
    "            else:\n",
    "                if danger_matrix[i_cp][j_cp]==2:\n",
    "                    danger_matrix[i_cp][j_cp]=3\n",
    "                else:\n",
    "                    danger_matrix[i_cp][j_cp]=1\n",
    "                    \n",
    "            i_cp-=1\n",
    "            j_cp+=1\n",
    "            \n",
    "        #checking up right diagonal\n",
    "        i_cp,j_cp=position\n",
    "        i_cp+=1\n",
    "        j_cp-=1\n",
    "        while(i_cp<8 and j_cp>-1):\n",
    "\n",
    "            if figure_matrix[i_cp][j_cp] in 'pnbrqkPNBRQK':\n",
    "                if danger_matrix[i_cp][j_cp]==2:\n",
    "                    danger_matrix[i_cp][j_cp]=3\n",
    "                else:\n",
    "                    danger_matrix[i_cp][j_cp]=1\n",
    "                break\n",
    "            else:\n",
    "                if danger_matrix[i_cp][j_cp]==2:\n",
    "                    danger_matrix[i_cp][j_cp]=3\n",
    "                else:\n",
    "                    danger_matrix[i_cp][j_cp]=1\n",
    "                    \n",
    "            i_cp+=1\n",
    "            j_cp-=1\n",
    "        \n",
    "    if figure=='N':\n",
    "        pass\n",
    "    if figure=='B':\n",
    "        pass\n",
    "    if figure=='R':\n",
    "        pass\n",
    "    if figure=='Q':\n",
    "        pass\n",
    "    if figure=='K':\n",
    "        pass\n",
    "    \n",
    "    if figure=='p':\n",
    "        #checking down right diagonal\n",
    "        i_cp,j_cp=position\n",
    "        i_cp+=1\n",
    "        j_cp+=1\n",
    "        while(i_cp<8 and j_cp<8):\n",
    "\n",
    "            if figure_matrix[i_cp][j_cp] in 'pnbrqkPNBRQK':\n",
    "                if danger_matrix[i_cp][j_cp]==1:\n",
    "                    danger_matrix[i_cp][j_cp]=3\n",
    "                else:\n",
    "                    danger_matrix[i_cp][j_cp]=2\n",
    "                break\n",
    "            else:\n",
    "                if danger_matrix[i_cp][j_cp]==1:\n",
    "                    danger_matrix[i_cp][j_cp]=3\n",
    "                else:\n",
    "                    danger_matrix[i_cp][j_cp]=2\n",
    "                    \n",
    "            i_cp+=1\n",
    "            j_cp+=1\n",
    "        \n",
    "        #checking up left diagonal\n",
    "        i_cp,j_cp=position\n",
    "        i_cp-=1\n",
    "        j_cp-=1\n",
    "        while(i_cp>-1 and j_cp>-1):\n",
    "\n",
    "            if figure_matrix[i_cp][j_cp] in 'pnbrqkPNBRQK':\n",
    "                if danger_matrix[i_cp][j_cp]==1:\n",
    "                    danger_matrix[i_cp][j_cp]=3\n",
    "                else:\n",
    "                    danger_matrix[i_cp][j_cp]=2\n",
    "                break\n",
    "            else:\n",
    "                if danger_matrix[i_cp][j_cp]==1:\n",
    "                    danger_matrix[i_cp][j_cp]=3\n",
    "                else:\n",
    "                    danger_matrix[i_cp][j_cp]=2\n",
    "                    \n",
    "            i_cp-=1\n",
    "            j_cp-=1 \n",
    "            \n",
    "        #checking up right diagonal\n",
    "        i_cp,j_cp=position\n",
    "        i_cp-=1\n",
    "        j_cp+=1\n",
    "        while(i_cp>-1 and j_cp<8):\n",
    "\n",
    "            if figure_matrix[i_cp][j_cp] in 'pnbrqkPNBRQK':\n",
    "                if danger_matrix[i_cp][j_cp]==1:\n",
    "                    danger_matrix[i_cp][j_cp]=3\n",
    "                else:\n",
    "                    danger_matrix[i_cp][j_cp]=2\n",
    "                break\n",
    "            else:\n",
    "                if danger_matrix[i_cp][j_cp]==1:\n",
    "                    danger_matrix[i_cp][j_cp]=3\n",
    "                else:\n",
    "                    danger_matrix[i_cp][j_cp]=2\n",
    "                    \n",
    "            i_cp-=1\n",
    "            j_cp+=1\n",
    "            \n",
    "        #checking up right diagonal\n",
    "        i_cp,j_cp=position\n",
    "        i_cp+=1\n",
    "        j_cp-=1\n",
    "        while(i_cp<8 and j_cp>-1):\n",
    "\n",
    "            if figure_matrix[i_cp][j_cp] in 'pnbrqkPNBRQK':\n",
    "                if danger_matrix[i_cp][j_cp]==1:\n",
    "                    danger_matrix[i_cp][j_cp]=3\n",
    "                else:\n",
    "                    danger_matrix[i_cp][j_cp]=2\n",
    "                break\n",
    "            else:\n",
    "                if danger_matrix[i_cp][j_cp]==1:\n",
    "                    danger_matrix[i_cp][j_cp]=3\n",
    "                else:\n",
    "                    danger_matrix[i_cp][j_cp]=2\n",
    "                    \n",
    "            i_cp+=1\n",
    "            j_cp-=1\n",
    "        \n",
    "#     if figure=='n':\n",
    "#         pass\n",
    "#     if figure=='b':\n",
    "#         pass\n",
    "#     if figure=='r':\n",
    "#         pass\n",
    "#     if figure=='q':\n",
    "#         pass\n",
    "#     if figure=='k':\n",
    "#         pass\n",
    "    \n",
    "    \n",
    "    \n",
    "    return danger_matrix"
   ]
  },
  {
   "cell_type": "code",
   "execution_count": 132,
   "id": "becoming-benjamin",
   "metadata": {},
   "outputs": [
    {
     "name": "stdout",
     "output_type": "stream",
     "text": [
      "[0. 3. 0. 2. 0. 0. 0. 0.]\n",
      "[0. 0. 1. 0. 0. 0. 0. 0.]\n",
      "[0. 2. 0. 3. 0. 0. 0. 0.]\n",
      "[2. 0. 0. 0. 3. 0. 0. 0.]\n",
      "[0. 0. 0. 0. 0. 3. 0. 1.]\n",
      "[0. 0. 0. 0. 0. 0. 2. 0.]\n",
      "[0. 0. 0. 0. 0. 1. 0. 3.]\n",
      "[0. 0. 0. 0. 1. 0. 0. 0.]\n"
     ]
    }
   ],
   "source": [
    "mtx=[['1', '1', '1', '1', '1', '1', '1', 'k'],\n",
    "['1', '1', '1', '1', '1', '1', '1', '1'],\n",
    "['1', '1', '1', '1', '1', '1', 'K', '1'],\n",
    "['1', '1', '1', '1', '1', '1', '1', '1'],\n",
    "['1', '1', '1', '1', '1', '1', '1', '1'],\n",
    "['1', '1', '1', '1', '1', '1', '1', '1'],\n",
    "['1', '1', '1', '1', '1', '1', '1', '1'],\n",
    "['1', '1', '1', '1', '1', '1', '1', '1'],]\n",
    "\n",
    "dng_mtx=np.zeros((8,8))\n",
    "\n",
    "dng_mtx=update_danger_matrix('p', (1,2), mtx, dng_mtx)\n",
    "dng_mtx=update_danger_matrix('P', (5,6), mtx, dng_mtx)\n",
    "\n",
    "\n",
    "for i in dng_mtx:\n",
    "    print(i)"
   ]
  },
  {
   "cell_type": "code",
   "execution_count": null,
   "id": "cubic-immigration",
   "metadata": {},
   "outputs": [],
   "source": []
  },
  {
   "cell_type": "code",
   "execution_count": null,
   "id": "capital-productivity",
   "metadata": {},
   "outputs": [],
   "source": []
  },
  {
   "cell_type": "code",
   "execution_count": null,
   "id": "color-simulation",
   "metadata": {},
   "outputs": [],
   "source": []
  },
  {
   "cell_type": "code",
   "execution_count": null,
   "id": "refined-multiple",
   "metadata": {},
   "outputs": [],
   "source": []
  },
  {
   "cell_type": "code",
   "execution_count": null,
   "id": "ultimate-familiar",
   "metadata": {},
   "outputs": [],
   "source": []
  },
  {
   "cell_type": "code",
   "execution_count": null,
   "id": "athletic-teacher",
   "metadata": {},
   "outputs": [],
   "source": [
    "def is_anybody_giving_check()"
   ]
  },
  {
   "cell_type": "code",
   "execution_count": 90,
   "id": "constant-announcement",
   "metadata": {},
   "outputs": [
    {
     "name": "stdout",
     "output_type": "stream",
     "text": [
      "140,62\n",
      "1Q5k/8/6K1/8/8/8/8/8\n",
      "['1', 'Q', '1', '1', '1', '1', '1', 'k']\n",
      "['1', '1', '1', '1', '1', '1', '1', '1']\n",
      "['1', '1', '1', '1', '1', '1', 'K', '1']\n",
      "['1', '1', '1', '1', '1', '1', '1', '1']\n",
      "['1', '1', '1', '1', '1', '1', '1', '1']\n",
      "['1', '1', '1', '1', '1', '1', '1', '1']\n",
      "['1', '1', '1', '1', '1', '1', '1', '1']\n",
      "['1', '1', '1', '1', '1', '1', '1', '1']\n"
     ]
    }
   ],
   "source": [
    "def numericalize_chessboard(img, img_pths):\n",
    "    \n",
    "    # task 1\n",
    "    beggining_position, offset= find_beggining(img)\n",
    "    print(','.join([str(x) for x in beggining_position]))\n",
    "    \n",
    "    # task 2\n",
    "    chessboard=cut_chessboard(img, beggining_position, offset)\n",
    "    tiles=get_tiles(chessboard, offset)\n",
    "    background_masks=get_background_masks(img_pths)\n",
    "    \n",
    "    chessboard_num=np.zeros((8,8))\n",
    "\n",
    "    fen_notation=''\n",
    "    blank_field_cum=0\n",
    "    for idx,tile in enumerate(tiles):   \n",
    "        figure_name=recognize_figure(tile)\n",
    "        if figure_name in 'pnbrqkPNBRQK':\n",
    "            if blank_field_cum>0:\n",
    "                fen_notation+=str(blank_field_cum)\n",
    "                blank_field_cum=0\n",
    "            fen_notation+=figure_name\n",
    "        else: \n",
    "            blank_field_cum+=1\n",
    "            \n",
    "        if (idx+1)%8==0:\n",
    "            if blank_field_cum>0:\n",
    "                fen_notation+=str(blank_field_cum)\n",
    "                blank_field_cum=0\n",
    "                \n",
    "            # dont write last slash\n",
    "            if (idx+1)%64!=0:\n",
    "                fen_notation+='/'\n",
    "                \n",
    "    print(fen_notation)\n",
    "    \n",
    "    # task 3\n",
    "    \n",
    "    figure_matrix=[\n",
    "                    ['','','','','','','',''],\n",
    "                    ['','','','','','','',''],\n",
    "                    ['','','','','','','',''],\n",
    "                    ['','','','','','','',''],\n",
    "                    ['','','','','','','',''],\n",
    "                    ['','','','','','','',''],\n",
    "                    ['','','','','','','',''],\n",
    "                    ['','','','','','','',''],\n",
    "                ]\n",
    "    # tells where figures can reach for an attack\n",
    "    # 0 if cant reach, 1 if white can reach, 2 if black can reach, 3 if both can reach\n",
    "    danger_matrix=np.zeros((10,10))\n",
    "    \n",
    "    for idx,tile in enumerate(tiles):\n",
    "        figure_name=recognize_figure(tile)\n",
    "        \n",
    "        pos_2d=((idx)//8, (idx)%8)\n",
    "        figure_matrix[pos_2d[0]][pos_2d[1]]=figure_name\n",
    "        \n",
    "    for i in range(8):\n",
    "        for j in range(8):\n",
    "            figure=figure_matrix[i][j]\n",
    "            if figure in 'pnbrqkPNBRQK':\n",
    "                update_danger_matrix(figure, (i,j) , danger_matrix)\n",
    "    \n",
    "    \n",
    "    \n",
    "    # pprint\n",
    "    for i in range(8):\n",
    "        print(figure_matrix[i])\n",
    "    \n",
    "    \n",
    "\n",
    "\n",
    "\n",
    "img=np.asarray(Image.open(img_pths['input']))\n",
    "numericalize_chessboard(img, img_pths)"
   ]
  },
  {
   "cell_type": "code",
   "execution_count": 80,
   "id": "democratic-passion",
   "metadata": {},
   "outputs": [
    {
     "data": {
      "text/plain": [
       "1"
      ]
     },
     "execution_count": 80,
     "metadata": {},
     "output_type": "execute_result"
    }
   ],
   "source": [
    "9%8"
   ]
  },
  {
   "cell_type": "code",
   "execution_count": 81,
   "id": "economic-crawford",
   "metadata": {},
   "outputs": [
    {
     "data": {
      "text/plain": [
       "1"
      ]
     },
     "execution_count": 81,
     "metadata": {},
     "output_type": "execute_result"
    }
   ],
   "source": [
    "9//8"
   ]
  },
  {
   "cell_type": "code",
   "execution_count": 76,
   "id": "imported-mortality",
   "metadata": {},
   "outputs": [
    {
     "data": {
      "text/plain": [
       "False"
      ]
     },
     "execution_count": 76,
     "metadata": {},
     "output_type": "execute_result"
    }
   ],
   "source": [
    "(64)%8==0 and (64)%64!=0"
   ]
  },
  {
   "cell_type": "code",
   "execution_count": null,
   "id": "dynamic-wrong",
   "metadata": {},
   "outputs": [],
   "source": [
    "        figure_name=recognize_figure(tile)\n",
    "        if figure_name in 'pnbrqkPNBRQK':\n",
    "            fen_notation.append(figure_name)\n",
    "        if (idx+1)%8==0:\n",
    "            fen_notation.append('/')"
   ]
  },
  {
   "cell_type": "code",
   "execution_count": null,
   "id": "criminal-foster",
   "metadata": {},
   "outputs": [],
   "source": []
  },
  {
   "cell_type": "code",
   "execution_count": null,
   "id": "present-southeast",
   "metadata": {},
   "outputs": [],
   "source": []
  },
  {
   "cell_type": "code",
   "execution_count": null,
   "id": "designing-headline",
   "metadata": {},
   "outputs": [],
   "source": []
  },
  {
   "cell_type": "code",
   "execution_count": null,
   "id": "therapeutic-trade",
   "metadata": {},
   "outputs": [],
   "source": []
  },
  {
   "cell_type": "code",
   "execution_count": null,
   "id": "numerous-bosnia",
   "metadata": {},
   "outputs": [],
   "source": []
  },
  {
   "cell_type": "code",
   "execution_count": null,
   "id": "statutory-textbook",
   "metadata": {},
   "outputs": [],
   "source": []
  },
  {
   "cell_type": "code",
   "execution_count": null,
   "id": "wicked-lease",
   "metadata": {},
   "outputs": [],
   "source": []
  },
  {
   "cell_type": "code",
   "execution_count": null,
   "id": "southwest-military",
   "metadata": {},
   "outputs": [],
   "source": []
  },
  {
   "cell_type": "code",
   "execution_count": null,
   "id": "unlimited-packet",
   "metadata": {},
   "outputs": [],
   "source": []
  },
  {
   "cell_type": "code",
   "execution_count": null,
   "id": "frozen-multiple",
   "metadata": {},
   "outputs": [],
   "source": []
  }
 ],
 "metadata": {
  "kernelspec": {
   "display_name": "Python 3",
   "language": "python",
   "name": "python3"
  },
  "language_info": {
   "codemirror_mode": {
    "name": "ipython",
    "version": 3
   },
   "file_extension": ".py",
   "mimetype": "text/x-python",
   "name": "python",
   "nbconvert_exporter": "python",
   "pygments_lexer": "ipython3",
   "version": "3.6.13"
  }
 },
 "nbformat": 4,
 "nbformat_minor": 5
}
