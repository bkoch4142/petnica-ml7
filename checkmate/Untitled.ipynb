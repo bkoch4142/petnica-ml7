{
 "cells": [
  {
   "cell_type": "markdown",
   "id": "fixed-sport",
   "metadata": {},
   "source": [
    "You need to find a chessboard on an image. Once you do you need to figure out where all the pieces are. After that you need to figure out if either king is in check. For maximum points figure out if that check is a checkmate."
   ]
  },
  {
   "cell_type": "code",
   "execution_count": 1,
   "id": "revised-norfolk",
   "metadata": {},
   "outputs": [
    {
     "ename": "SyntaxError",
     "evalue": "invalid syntax (<ipython-input-1-aea5c79cabc0>, line 1)",
     "output_type": "error",
     "traceback": [
      "\u001b[1;36m  File \u001b[1;32m\"<ipython-input-1-aea5c79cabc0>\"\u001b[1;36m, line \u001b[1;32m1\u001b[0m\n\u001b[1;33m    You are provided with a path to a folder in a form of <prefix>/<test_case_num> where <test_case_num> is the current test case. The folder's structure is as follows:\u001b[0m\n\u001b[1;37m        ^\u001b[0m\n\u001b[1;31mSyntaxError\u001b[0m\u001b[1;31m:\u001b[0m invalid syntax\n"
     ]
    }
   ],
   "source": [
    "You are provided with a path to a folder in a form of <prefix>/<test_case_num> where <test_case_num> is the current test case. The folder's structure is as follows:\n",
    "\n",
    "<test_case_num>:\n",
    "│   <test_case_num>.png\n",
    "│\n",
    "├───pieces\n",
    "│   ├───black\n",
    "│   │       bishop.png\n",
    "│   │       king.png\n",
    "│   │       knight.png\n",
    "│   │       pawn.png\n",
    "│   │       queen.png\n",
    "│   │       rook.png\n",
    "│   │\n",
    "│   └───white\n",
    "│           bishop.png\n",
    "│           king.png\n",
    "│           knight.png\n",
    "│           pawn.png\n",
    "│           queen.png\n",
    "│           rook.png\n",
    "│\n",
    "└───tiles\n",
    "        black.png\n",
    "        white.png"
   ]
  },
  {
   "cell_type": "markdown",
   "id": "guilty-drive",
   "metadata": {},
   "source": [
    "0,0 is at the top left corner of the larger picture. From this point if you move down you increase the first coordinate, and if you move to the right you increase the second coordinate."
   ]
  },
  {
   "cell_type": "code",
   "execution_count": 3,
   "id": "comfortable-generator",
   "metadata": {},
   "outputs": [
    {
     "name": "stdout",
     "output_type": "stream",
     "text": [
      "/e/machine_learning/projects/petnica-ml7/checkmate\n"
     ]
    }
   ],
   "source": [
    "!pwd"
   ]
  },
  {
   "cell_type": "code",
   "execution_count": 5,
   "id": "miniature-humor",
   "metadata": {},
   "outputs": [],
   "source": [
    "import os\n",
    "import PIL\n",
    "from PIL import Image\n",
    "import numpy as np"
   ]
  },
  {
   "cell_type": "code",
   "execution_count": 6,
   "id": "musical-worse",
   "metadata": {},
   "outputs": [],
   "source": [
    "chessboard_dim=8\n",
    "black_tile_px_val=[180, 136, 102]\n",
    "white_tile_px_val=[240, 217, 183]\n",
    "nothing_px_val=[0,0,0]"
   ]
  },
  {
   "cell_type": "code",
   "execution_count": 7,
   "id": "fluid-terrorism",
   "metadata": {},
   "outputs": [],
   "source": [
    "test_case=0\n",
    "\n",
    "data_pth=os.path.join('data\\\\public\\set\\\\',str(test_case))\n",
    "\n",
    "img_pths={}\n",
    "img_pths['input']=os.path.join(data_pth,str(test_case)+'.png')\n",
    "\n",
    "for root, dirs, files in os.walk(data_pth, topdown=False):\n",
    "    for name in files:\n",
    "        if not name.split('.')[0].isnumeric():\n",
    "            desc=os.path.normpath(root).split(os.path.sep)[-1]\n",
    "            dict_key_name=desc+'_'+name.split('.')[0]\n",
    "            img_pths[dict_key_name]=os.path.join(root,name)\n"
   ]
  },
  {
   "cell_type": "code",
   "execution_count": 8,
   "id": "based-likelihood",
   "metadata": {},
   "outputs": [
    {
     "data": {
      "text/plain": [
       "{'input': 'data\\\\public\\\\set\\\\0\\\\0.png',\n",
       " 'black_bishop': 'data\\\\public\\\\set\\\\0\\\\pieces\\\\black\\\\bishop.png',\n",
       " 'black_king': 'data\\\\public\\\\set\\\\0\\\\pieces\\\\black\\\\king.png',\n",
       " 'black_knight': 'data\\\\public\\\\set\\\\0\\\\pieces\\\\black\\\\knight.png',\n",
       " 'black_pawn': 'data\\\\public\\\\set\\\\0\\\\pieces\\\\black\\\\pawn.png',\n",
       " 'black_queen': 'data\\\\public\\\\set\\\\0\\\\pieces\\\\black\\\\queen.png',\n",
       " 'black_rook': 'data\\\\public\\\\set\\\\0\\\\pieces\\\\black\\\\rook.png',\n",
       " 'white_bishop': 'data\\\\public\\\\set\\\\0\\\\pieces\\\\white\\\\bishop.png',\n",
       " 'white_king': 'data\\\\public\\\\set\\\\0\\\\pieces\\\\white\\\\king.png',\n",
       " 'white_knight': 'data\\\\public\\\\set\\\\0\\\\pieces\\\\white\\\\knight.png',\n",
       " 'white_pawn': 'data\\\\public\\\\set\\\\0\\\\pieces\\\\white\\\\pawn.png',\n",
       " 'white_queen': 'data\\\\public\\\\set\\\\0\\\\pieces\\\\white\\\\queen.png',\n",
       " 'white_rook': 'data\\\\public\\\\set\\\\0\\\\pieces\\\\white\\\\rook.png',\n",
       " 'tiles_black': 'data\\\\public\\\\set\\\\0\\\\tiles\\\\black.png',\n",
       " 'tiles_white': 'data\\\\public\\\\set\\\\0\\\\tiles\\\\white.png'}"
      ]
     },
     "execution_count": 8,
     "metadata": {},
     "output_type": "execute_result"
    }
   ],
   "source": [
    "img_pths"
   ]
  },
  {
   "cell_type": "code",
   "execution_count": 9,
   "id": "agricultural-lottery",
   "metadata": {},
   "outputs": [],
   "source": [
    "a=np.asarray(Image.open(img_pths['input']))"
   ]
  },
  {
   "cell_type": "code",
   "execution_count": 74,
   "id": "certified-worship",
   "metadata": {},
   "outputs": [
    {
     "data": {
      "text/plain": [
       "array([[[0, 0, 0],\n",
       "        [0, 0, 0],\n",
       "        [0, 0, 0],\n",
       "        ...,\n",
       "        [0, 0, 0],\n",
       "        [0, 0, 0],\n",
       "        [0, 0, 0]],\n",
       "\n",
       "       [[0, 0, 0],\n",
       "        [0, 0, 0],\n",
       "        [0, 0, 0],\n",
       "        ...,\n",
       "        [0, 0, 0],\n",
       "        [0, 0, 0],\n",
       "        [0, 0, 0]],\n",
       "\n",
       "       [[0, 0, 0],\n",
       "        [0, 0, 0],\n",
       "        [0, 0, 0],\n",
       "        ...,\n",
       "        [0, 0, 0],\n",
       "        [0, 0, 0],\n",
       "        [0, 0, 0]],\n",
       "\n",
       "       ...,\n",
       "\n",
       "       [[0, 0, 0],\n",
       "        [0, 0, 0],\n",
       "        [0, 0, 0],\n",
       "        ...,\n",
       "        [0, 0, 0],\n",
       "        [0, 0, 0],\n",
       "        [0, 0, 0]],\n",
       "\n",
       "       [[0, 0, 0],\n",
       "        [0, 0, 0],\n",
       "        [0, 0, 0],\n",
       "        ...,\n",
       "        [0, 0, 0],\n",
       "        [0, 0, 0],\n",
       "        [0, 0, 0]],\n",
       "\n",
       "       [[0, 0, 0],\n",
       "        [0, 0, 0],\n",
       "        [0, 0, 0],\n",
       "        ...,\n",
       "        [0, 0, 0],\n",
       "        [0, 0, 0],\n",
       "        [0, 0, 0]]], dtype=uint8)"
      ]
     },
     "execution_count": 74,
     "metadata": {},
     "output_type": "execute_result"
    }
   ],
   "source": [
    "a"
   ]
  },
  {
   "cell_type": "code",
   "execution_count": 11,
   "id": "seven-newport",
   "metadata": {},
   "outputs": [
    {
     "data": {
      "text/plain": [
       "(514, 425, 3)"
      ]
     },
     "execution_count": 11,
     "metadata": {},
     "output_type": "execute_result"
    }
   ],
   "source": [
    "a.shape"
   ]
  },
  {
   "cell_type": "code",
   "execution_count": 41,
   "id": "adequate-thursday",
   "metadata": {},
   "outputs": [
    {
     "name": "stdout",
     "output_type": "stream",
     "text": [
      "140,62\n",
      "(array([140,  62]), 30)\n"
     ]
    }
   ],
   "source": [
    "def find_beggining(img):\n",
    "    beggining_found=False\n",
    "    beggining_position=None\n",
    "    offset=None\n",
    "    for row_px in range(img.shape[0]):\n",
    "        for col_px in range(img.shape[1]):\n",
    "            position_px_val=img[row_px,col_px,:]\n",
    "            if np.array_equal(position_px_val,white_tile_px_val) and not beggining_found:\n",
    "                beggining_position=np.array([row_px,col_px])\n",
    "                beggining_found=True\n",
    "            \n",
    "            if np.array_equal(position_px_val,black_tile_px_val):\n",
    "                offset=(np.array([row_px,col_px])-beggining_position)[1]\n",
    "                break\n",
    "        if beggining_found:\n",
    "            break\n",
    "    \n",
    "    print(','.join(map(str,beggining_position)))\n",
    "    return beggining_position, offset\n",
    "    \n",
    "img=np.asarray(Image.open(img_pths['input']))\n",
    "print(find_beggining(img))"
   ]
  },
  {
   "cell_type": "code",
   "execution_count": 42,
   "id": "pregnant-bradley",
   "metadata": {},
   "outputs": [],
   "source": [
    "def cut_chessboard(img, begging_position, offset):\n",
    "    return img[begging_position[0]:begging_position[0]+8*offset,\n",
    "              begging_position[1]:begging_position[1]+8*offset,\n",
    "              :]"
   ]
  },
  {
   "cell_type": "code",
   "execution_count": 46,
   "id": "raised-problem",
   "metadata": {},
   "outputs": [
    {
     "data": {
      "image/png": "[encoded data removed]",
      "text/plain": [
       "<PIL.Image.Image image mode=RGB size=240x240 at 0x2AAC885A610>"
      ]
     },
     "execution_count": 46,
     "metadata": {},
     "output_type": "execute_result"
    }
   ],
   "source": [
    "im=Image.fromarray(cut_chessboard(img, [140,62], 30))\n",
    "im"
   ]
  },
  {
   "cell_type": "code",
   "execution_count": 104,
   "id": "local-hands",
   "metadata": {},
   "outputs": [
    {
     "data": {
      "image/png": "[encoded data removed]",
      "text/plain": [
       "<PIL.Image.Image image mode=RGB size=30x30 at 0x2AAC87D8340>"
      ]
     },
     "metadata": {},
     "output_type": "display_data"
    },
    {
     "data": {
      "image/png": "[encoded data removed]",
      "text/plain": [
       "<PIL.Image.Image image mode=RGB size=30x30 at 0x2AAC87D8340>"
      ]
     },
     "metadata": {},
     "output_type": "display_data"
    },
    {
     "data": {
      "image/png": "[encoded data removed]",
      "text/plain": [
       "<PIL.Image.Image image mode=RGB size=30x30 at 0x2AAC87D2970>"
      ]
     },
     "metadata": {},
     "output_type": "display_data"
    },
    {
     "data": {
      "image/png": "[encoded data removed]",
      "text/plain": [
       "<PIL.Image.Image image mode=RGB size=30x30 at 0x2AA6D426C70>"
      ]
     },
     "metadata": {},
     "output_type": "display_data"
    },
    {
     "data": {
      "image/png": "[encoded data removed]",
      "text/plain": [
       "<PIL.Image.Image image mode=RGB size=30x30 at 0x2AAC87D2970>"
      ]
     },
     "metadata": {},
     "output_type": "display_data"
    },
    {
     "data": {
      "image/png": "[encoded data removed]",
      "text/plain": [
       "<PIL.Image.Image image mode=RGB size=30x30 at 0x2AA6D426C70>"
      ]
     },
     "metadata": {},
     "output_type": "display_data"
    },
    {
     "data": {
      "image/png": "[encoded data removed]",
      "text/plain": [
       "<PIL.Image.Image image mode=RGB size=30x30 at 0x2AAC87D2970>"
      ]
     },
     "metadata": {},
     "output_type": "display_data"
    },
    {
     "data": {
      "image/png": "[encoded data removed]",
      "text/plain": [
       "<PIL.Image.Image image mode=RGB size=30x30 at 0x2AA6D426C70>"
      ]
     },
     "metadata": {},
     "output_type": "display_data"
    },
    {
     "data": {
      "image/png": "[encoded data removed]",
      "text/plain": [
       "<PIL.Image.Image image mode=RGB size=30x30 at 0x2AAC87D2970>"
      ]
     },
     "metadata": {},
     "output_type": "display_data"
    },
    {
     "data": {
      "image/png": "[encoded data removed]",
      "text/plain": [
       "<PIL.Image.Image image mode=RGB size=30x30 at 0x2AA6D426C70>"
      ]
     },
     "metadata": {},
     "output_type": "display_data"
    },
    {
     "data": {
      "image/png": "[encoded data removed]",
      "text/plain": [
       "<PIL.Image.Image image mode=RGB size=30x30 at 0x2AAC87D2970>"
      ]
     },
     "metadata": {},
     "output_type": "display_data"
    },
    {
     "data": {
      "image/png": "[encoded data removed]",
      "text/plain": [
       "<PIL.Image.Image image mode=RGB size=30x30 at 0x2AA6D426C70>"
      ]
     },
     "metadata": {},
     "output_type": "display_data"
    },
    {
     "data": {
      "image/png": "[encoded data removed]",
      "text/plain": [
       "<PIL.Image.Image image mode=RGB size=30x30 at 0x2AAC87D2970>"
      ]
     },
     "metadata": {},
     "output_type": "display_data"
    },
    {
     "data": {
      "image/png": "[encoded data removed]",
      "text/plain": [
       "<PIL.Image.Image image mode=RGB size=30x30 at 0x2AA6D426C70>"
      ]
     },
     "metadata": {},
     "output_type": "display_data"
    },
    {
     "data": {
      "image/png": "[encoded data removed]",
      "text/plain": [
       "<PIL.Image.Image image mode=RGB size=30x30 at 0x2AAC87D2970>"
      ]
     },
     "metadata": {},
     "output_type": "display_data"
    },
    {
     "data": {
      "image/png": "[encoded data removed]",
      "text/plain": [
       "<PIL.Image.Image image mode=RGB size=30x30 at 0x2AA6D426C70>"
      ]
     },
     "metadata": {},
     "output_type": "display_data"
    },
    {
     "data": {
      "image/png": "[encoded data removed]",
      "text/plain": [
       "<PIL.Image.Image image mode=RGB size=30x30 at 0x2AAC87D2970>"
      ]
     },
     "metadata": {},
     "output_type": "display_data"
    },
    {
     "data": {
      "image/png": "[encoded data removed]",
      "text/plain": [
       "<PIL.Image.Image image mode=RGB size=30x30 at 0x2AA6D426C70>"
      ]
     },
     "metadata": {},
     "output_type": "display_data"
    },
    {
     "data": {
      "image/png": "[encoded data removed]",
      "text/plain": [
       "<PIL.Image.Image image mode=RGB size=30x30 at 0x2AAC87D2970>"
      ]
     },
     "metadata": {},
     "output_type": "display_data"
    },
    {
     "data": {
      "image/png": "[encoded data removed]",
      "text/plain": [
       "<PIL.Image.Image image mode=RGB size=30x30 at 0x2AA6D426C70>"
      ]
     },
     "metadata": {},
     "output_type": "display_data"
    },
    {
     "data": {
      "image/png": "[encoded data removed]",
      "text/plain": [
       "<PIL.Image.Image image mode=RGB size=30x30 at 0x2AAC87D2970>"
      ]
     },
     "metadata": {},
     "output_type": "display_data"
    },
    {
     "data": {
      "image/png": "[encoded data removed]",
      "text/plain": [
       "<PIL.Image.Image image mode=RGB size=30x30 at 0x2AA6D426C70>"
      ]
     },
     "metadata": {},
     "output_type": "display_data"
    },
    {
     "data": {
      "image/png": "[encoded data removed]",
      "text/plain": [
       "<PIL.Image.Image image mode=RGB size=30x30 at 0x2AAC87D2970>"
      ]
     },
     "metadata": {},
     "output_type": "display_data"
    },
    {
     "data": {
      "image/png": "[encoded data removed]",
      "text/plain": [
       "<PIL.Image.Image image mode=RGB size=30x30 at 0x2AA6D426C70>"
      ]
     },
     "metadata": {},
     "output_type": "display_data"
    },
    {
     "data": {
      "image/png": "[encoded data removed]",
      "text/plain": [
       "<PIL.Image.Image image mode=RGB size=30x30 at 0x2AAC87D2970>"
      ]
     },
     "metadata": {},
     "output_type": "display_data"
    },
    {
     "data": {
      "image/png": "[encoded data removed]",
      "text/plain": [
       "<PIL.Image.Image image mode=RGB size=30x30 at 0x2AA6D426C70>"
      ]
     },
     "metadata": {},
     "output_type": "display_data"
    },
    {
     "data": {
      "image/png": "[encoded data removed]",
      "text/plain": [
       "<PIL.Image.Image image mode=RGB size=30x30 at 0x2AAC87D2970>"
      ]
     },
     "metadata": {},
     "output_type": "display_data"
    },
    {
     "data": {
      "image/png": "[encoded data removed]",
      "text/plain": [
       "<PIL.Image.Image image mode=RGB size=30x30 at 0x2AA6D426C70>"
      ]
     },
     "metadata": {},
     "output_type": "display_data"
    },
    {
     "data": {
      "image/png": "[encoded data removed]",
      "text/plain": [
       "<PIL.Image.Image image mode=RGB size=30x30 at 0x2AAC87D8250>"
      ]
     },
     "metadata": {},
     "output_type": "display_data"
    },
    {
     "data": {
      "image/png": "[encoded data removed]",
      "text/plain": [
       "<PIL.Image.Image image mode=RGB size=30x30 at 0x2AAC87D8250>"
      ]
     },
     "metadata": {},
     "output_type": "display_data"
    },
    {
     "data": {
      "image/png": "[encoded data removed]",
      "text/plain": [
       "<PIL.Image.Image image mode=RGB size=30x30 at 0x2AA6D59B820>"
      ]
     },
     "metadata": {},
     "output_type": "display_data"
    },
    {
     "data": {
      "image/png": "[encoded data removed]",
      "text/plain": [
       "<PIL.Image.Image image mode=RGB size=30x30 at 0x2AA6D426C70>"
      ]
     },
     "metadata": {},
     "output_type": "display_data"
    },
    {
     "data": {
      "image/png": "[encoded data removed]",
      "text/plain": [
       "<PIL.Image.Image image mode=RGB size=30x30 at 0x2AA6D59B820>"
      ]
     },
     "metadata": {},
     "output_type": "display_data"
    },
    {
     "data": {
      "image/png": "[encoded data removed]",
      "text/plain": [
       "<PIL.Image.Image image mode=RGB size=30x30 at 0x2AA6D426C70>"
      ]
     },
     "metadata": {},
     "output_type": "display_data"
    },
    {
     "data": {
      "image/png": "[encoded data removed]",
      "text/plain": [
       "<PIL.Image.Image image mode=RGB size=30x30 at 0x2AA6D59B820>"
      ]
     },
     "metadata": {},
     "output_type": "display_data"
    },
    {
     "data": {
      "image/png": "[encoded data removed]",
      "text/plain": [
       "<PIL.Image.Image image mode=RGB size=30x30 at 0x2AA6D426C70>"
      ]
     },
     "metadata": {},
     "output_type": "display_data"
    },
    {
     "data": {
      "image/png": "[encoded data removed]",
      "text/plain": [
       "<PIL.Image.Image image mode=RGB size=30x30 at 0x2AA6D59B820>"
      ]
     },
     "metadata": {},
     "output_type": "display_data"
    },
    {
     "data": {
      "image/png": "[encoded data removed]",
      "text/plain": [
       "<PIL.Image.Image image mode=RGB size=30x30 at 0x2AA6D426C70>"
      ]
     },
     "metadata": {},
     "output_type": "display_data"
    },
    {
     "data": {
      "image/png": "[encoded data removed]",
      "text/plain": [
       "<PIL.Image.Image image mode=RGB size=30x30 at 0x2AA6D59B820>"
      ]
     },
     "metadata": {},
     "output_type": "display_data"
    },
    {
     "data": {
      "image/png": "[encoded data removed]",
      "text/plain": [
       "<PIL.Image.Image image mode=RGB size=30x30 at 0x2AA6D426C70>"
      ]
     },
     "metadata": {},
     "output_type": "display_data"
    },
    {
     "data": {
      "image/png": "[encoded data removed]",
      "text/plain": [
       "<PIL.Image.Image image mode=RGB size=30x30 at 0x2AA6D59B820>"
      ]
     },
     "metadata": {},
     "output_type": "display_data"
    },
    {
     "data": {
      "image/png": "[encoded data removed]",
      "text/plain": [
       "<PIL.Image.Image image mode=RGB size=30x30 at 0x2AA6D426C70>"
      ]
     },
     "metadata": {},
     "output_type": "display_data"
    },
    {
     "data": {
      "image/png": "[encoded data removed]",
      "text/plain": [
       "<PIL.Image.Image image mode=RGB size=30x30 at 0x2AA6D59B820>"
      ]
     },
     "metadata": {},
     "output_type": "display_data"
    },
    {
     "data": {
      "image/png": "[encoded data removed]",
      "text/plain": [
       "<PIL.Image.Image image mode=RGB size=30x30 at 0x2AA6D426C70>"
      ]
     },
     "metadata": {},
     "output_type": "display_data"
    },
    {
     "data": {
      "image/png": "[encoded data removed]",
      "text/plain": [
       "<PIL.Image.Image image mode=RGB size=30x30 at 0x2AA6D59B820>"
      ]
     },
     "metadata": {},
     "output_type": "display_data"
    },
    {
     "data": {
      "image/png": "[encoded data removed]",
      "text/plain": [
       "<PIL.Image.Image image mode=RGB size=30x30 at 0x2AA6D426C70>"
      ]
     },
     "metadata": {},
     "output_type": "display_data"
    },
    {
     "data": {
      "image/png": "[encoded data removed]",
      "text/plain": [
       "<PIL.Image.Image image mode=RGB size=30x30 at 0x2AA6D59B820>"
      ]
     },
     "metadata": {},
     "output_type": "display_data"
    },
    {
     "data": {
      "image/png": "[encoded data removed]",
      "text/plain": [
       "<PIL.Image.Image image mode=RGB size=30x30 at 0x2AA6D426C70>"
      ]
     },
     "metadata": {},
     "output_type": "display_data"
    },
    {
     "data": {
      "image/png": "[encoded data removed]",
      "text/plain": [
       "<PIL.Image.Image image mode=RGB size=30x30 at 0x2AA6D59B820>"
      ]
     },
     "metadata": {},
     "output_type": "display_data"
    },
    {
     "data": {
      "image/png": "[encoded data removed]",
      "text/plain": [
       "<PIL.Image.Image image mode=RGB size=30x30 at 0x2AA6D426C70>"
      ]
     },
     "metadata": {},
     "output_type": "display_data"
    },
    {
     "data": {
      "image/png": "[encoded data removed]",
      "text/plain": [
       "<PIL.Image.Image image mode=RGB size=30x30 at 0x2AA6D59B820>"
      ]
     },
     "metadata": {},
     "output_type": "display_data"
    },
    {
     "data": {
      "image/png": "[encoded data removed]",
      "text/plain": [
       "<PIL.Image.Image image mode=RGB size=30x30 at 0x2AA6D426C70>"
      ]
     },
     "metadata": {},
     "output_type": "display_data"
    },
    {
     "data": {
      "image/png": "[encoded data removed]",
      "text/plain": [
       "<PIL.Image.Image image mode=RGB size=30x30 at 0x2AA6D59B820>"
      ]
     },
     "metadata": {},
     "output_type": "display_data"
    },
    {
     "data": {
      "image/png": "[encoded data removed]",
      "text/plain": [
       "<PIL.Image.Image image mode=RGB size=30x30 at 0x2AA6D426C70>"
      ]
     },
     "metadata": {},
     "output_type": "display_data"
    },
    {
     "data": {
      "image/png": "[encoded data removed]",
      "text/plain": [
       "<PIL.Image.Image image mode=RGB size=30x30 at 0x2AA6D59B820>"
      ]
     },
     "metadata": {},
     "output_type": "display_data"
    },
    {
     "data": {
      "image/png": "[encoded data removed]",
      "text/plain": [
       "<PIL.Image.Image image mode=RGB size=30x30 at 0x2AA6D426C70>"
      ]
     },
     "metadata": {},
     "output_type": "display_data"
    },
    {
     "data": {
      "image/png": "[encoded data removed]",
      "text/plain": [
       "<PIL.Image.Image image mode=RGB size=30x30 at 0x2AA6D59B820>"
      ]
     },
     "metadata": {},
     "output_type": "display_data"
    },
    {
     "data": {
      "image/png": "[encoded data removed]",
      "text/plain": [
       "<PIL.Image.Image image mode=RGB size=30x30 at 0x2AA6D426C70>"
      ]
     },
     "metadata": {},
     "output_type": "display_data"
    },
    {
     "data": {
      "image/png": "[encoded data removed]",
      "text/plain": [
       "<PIL.Image.Image image mode=RGB size=30x30 at 0x2AA6D59B820>"
      ]
     },
     "metadata": {},
     "output_type": "display_data"
    },
    {
     "data": {
      "image/png": "[encoded data removed]",
      "text/plain": [
       "<PIL.Image.Image image mode=RGB size=30x30 at 0x2AA6D426C70>"
      ]
     },
     "metadata": {},
     "output_type": "display_data"
    },
    {
     "data": {
      "image/png": "[encoded data removed]",
      "text/plain": [
       "<PIL.Image.Image image mode=RGB size=30x30 at 0x2AA6D59B820>"
      ]
     },
     "metadata": {},
     "output_type": "display_data"
    },
    {
     "data": {
      "image/png": "[encoded data removed]",
      "text/plain": [
       "<PIL.Image.Image image mode=RGB size=30x30 at 0x2AA6D426C70>"
      ]
     },
     "metadata": {},
     "output_type": "display_data"
    },
    {
     "data": {
      "image/png": "[encoded data removed]",
      "text/plain": [
       "<PIL.Image.Image image mode=RGB size=30x30 at 0x2AA6D59B820>"
      ]
     },
     "metadata": {},
     "output_type": "display_data"
    },
    {
     "data": {
      "image/png": "[encoded data removed]",
      "text/plain": [
       "<PIL.Image.Image image mode=RGB size=30x30 at 0x2AA6D426C70>"
      ]
     },
     "metadata": {},
     "output_type": "display_data"
    }
   ],
   "source": [
    "fig_to_int={\n",
    "    'bishop':1,\n",
    "    'king':2,\n",
    "    'knight':3,\n",
    "    'pawn':4,\n",
    "    'queen':5,\n",
    "    'rook':6\n",
    "           }\n",
    "\n",
    "def find_figures(img, offset):\n",
    "    \n",
    "    crops=[]\n",
    "    for i in range(0,offset*8, offset):\n",
    "        for j in range(0,offset*8, offset):\n",
    "            crop=img[i:i+offset,j:j+offset]\n",
    "            crops.append(crop)\n",
    "            display(Image.fromarray(crop))\n",
    "    return crops\n",
    "crops=find_figures(cut_chessboard(img,[140,62],30),30)"
   ]
  },
  {
   "cell_type": "code",
   "execution_count": 58,
   "id": "alike-interest",
   "metadata": {},
   "outputs": [
    {
     "data": {
      "text/plain": [
       "[0, 30, 60, 90, 120, 150, 180, 210]"
      ]
     },
     "execution_count": 58,
     "metadata": {},
     "output_type": "execute_result"
    }
   ],
   "source": [
    "list(range(0,30*8, 30))"
   ]
  },
  {
   "cell_type": "code",
   "execution_count": 96,
   "id": "experienced-upgrade",
   "metadata": {},
   "outputs": [],
   "source": [
    "png=Image.open(img_pths['black_bishop']).resize((30,30))"
   ]
  },
  {
   "cell_type": "code",
   "execution_count": 97,
   "id": "expanded-spoke",
   "metadata": {},
   "outputs": [],
   "source": [
    "?Image.open"
   ]
  },
  {
   "cell_type": "code",
   "execution_count": 98,
   "id": "sound-hardware",
   "metadata": {},
   "outputs": [
    {
     "data": {
      "image/png": "[encoded data removed]",
      "text/plain": [
       "<PIL.Image.Image image mode=LA size=30x30 at 0x2AAC7A88190>"
      ]
     },
     "execution_count": 98,
     "metadata": {},
     "output_type": "execute_result"
    }
   ],
   "source": [
    "png"
   ]
  },
  {
   "cell_type": "code",
   "execution_count": 99,
   "id": "respiratory-elephant",
   "metadata": {},
   "outputs": [
    {
     "name": "stdout",
     "output_type": "stream",
     "text": [
      "[  0   3   4   5  11  12  14  15  16  17  21  24  28  34  38  43  56  64\n",
      "  70  71  77  78  81  84  86  87  92  93  94 102 108 109 116 117 119 120\n",
      " 125 130 137 138 148 155 157 158 159 161 162 164 165 169 170 181 182 187\n",
      " 189 190 191 192 195 202 203 204 211 217 218 222 223 224 226 227 228 229\n",
      " 234 235 236 244 249 254 255]\n"
     ]
    }
   ],
   "source": [
    "print(np.unique(np.array(png)))"
   ]
  },
  {
   "cell_type": "code",
   "execution_count": 108,
   "id": "serial-colonial",
   "metadata": {},
   "outputs": [
    {
     "data": {
      "image/png": "[encoded data removed]",
      "text/plain": [
       "<PIL.Image.Image image mode=RGB size=30x30 at 0x2AAC87D2A90>"
      ]
     },
     "metadata": {},
     "output_type": "display_data"
    }
   ],
   "source": [
    "display(Image.fromarray(crops[1]))"
   ]
  },
  {
   "cell_type": "code",
   "execution_count": 134,
   "id": "fantastic-insulin",
   "metadata": {},
   "outputs": [
    {
     "data": {
      "text/plain": [
       "(30, 30, 3)"
      ]
     },
     "execution_count": 134,
     "metadata": {},
     "output_type": "execute_result"
    }
   ],
   "source": [
    "white_queen_on_black=crops[1]\n",
    "print(white_queen_on_black.shape)\n",
    "white_queen_on_black[:1]"
   ]
  },
  {
   "cell_type": "code",
   "execution_count": 146,
   "id": "going-conclusion",
   "metadata": {},
   "outputs": [
    {
     "data": {
      "image/png": "[encoded data removed]",
      "text/plain": [
       "<PIL.Image.Image image mode=RGB size=30x30 at 0x2AA6D5ACCD0>"
      ]
     },
     "execution_count": 146,
     "metadata": {},
     "output_type": "execute_result"
    }
   ],
   "source": [
    "white_queen=Image.open(img_pths['white_queen']).convert('RGB').resize((30,30))\n",
    "white_queen"
   ]
  },
  {
   "cell_type": "code",
   "execution_count": 153,
   "id": "identified-andorra",
   "metadata": {},
   "outputs": [
    {
     "data": {
      "text/plain": [
       "(30, 30, 3)"
      ]
     },
     "execution_count": 153,
     "metadata": {},
     "output_type": "execute_result"
    }
   ],
   "source": [
    "white_queen=np.array(white_queen)\n",
    "white_queen.shape"
   ]
  },
  {
   "cell_type": "code",
   "execution_count": 154,
   "id": "pacific-label",
   "metadata": {},
   "outputs": [
    {
     "data": {
      "text/plain": [
       "array([[[0, 0, 0],\n",
       "        [0, 0, 0],\n",
       "        [0, 0, 0],\n",
       "        [0, 0, 0],\n",
       "        [0, 0, 0],\n",
       "        [0, 0, 0],\n",
       "        [0, 0, 0],\n",
       "        [0, 0, 0],\n",
       "        [0, 0, 0],\n",
       "        [0, 0, 0],\n",
       "        [0, 0, 0],\n",
       "        [0, 0, 0],\n",
       "        [0, 0, 0],\n",
       "        [0, 0, 0],\n",
       "        [0, 0, 0],\n",
       "        [0, 0, 0],\n",
       "        [0, 0, 0],\n",
       "        [0, 0, 0],\n",
       "        [0, 0, 0],\n",
       "        [0, 0, 0],\n",
       "        [0, 0, 0],\n",
       "        [0, 0, 0],\n",
       "        [0, 0, 0],\n",
       "        [0, 0, 0],\n",
       "        [0, 0, 0],\n",
       "        [0, 0, 0],\n",
       "        [0, 0, 0],\n",
       "        [0, 0, 0],\n",
       "        [0, 0, 0],\n",
       "        [0, 0, 0]]], dtype=uint8)"
      ]
     },
     "execution_count": 154,
     "metadata": {},
     "output_type": "execute_result"
    }
   ],
   "source": [
    "white_queen[:1]"
   ]
  },
  {
   "cell_type": "code",
   "execution_count": 157,
   "id": "enormous-candidate",
   "metadata": {},
   "outputs": [],
   "source": [
    "import numpy.ma as ma"
   ]
  },
  {
   "cell_type": "code",
   "execution_count": null,
   "id": "everyday-canberra",
   "metadata": {},
   "outputs": [],
   "source": [
    "ma.masked_greated(a,)"
   ]
  },
  {
   "cell_type": "code",
   "execution_count": null,
   "id": "compliant-challenge",
   "metadata": {},
   "outputs": [],
   "source": []
  },
  {
   "cell_type": "code",
   "execution_count": null,
   "id": "significant-facility",
   "metadata": {},
   "outputs": [],
   "source": []
  },
  {
   "cell_type": "code",
   "execution_count": null,
   "id": "statewide-semiconductor",
   "metadata": {},
   "outputs": [],
   "source": []
  },
  {
   "cell_type": "code",
   "execution_count": null,
   "id": "whole-albany",
   "metadata": {},
   "outputs": [],
   "source": []
  },
  {
   "cell_type": "code",
   "execution_count": 155,
   "id": "knowing-expense",
   "metadata": {},
   "outputs": [],
   "source": [
    "# np.unique(white_queen.reshape(-1, white_queen.shape[2]), axis=0)"
   ]
  },
  {
   "cell_type": "code",
   "execution_count": 156,
   "id": "juvenile-international",
   "metadata": {},
   "outputs": [],
   "source": [
    "# np.unique(white_queen_on_black.reshape(-1, white_queen_on_black.shape[2]), axis=0)"
   ]
  },
  {
   "cell_type": "code",
   "execution_count": null,
   "id": "unlimited-snapshot",
   "metadata": {},
   "outputs": [],
   "source": []
  }
 ],
 "metadata": {
  "kernelspec": {
   "display_name": "Python 3",
   "language": "python",
   "name": "python3"
  },
  "language_info": {
   "codemirror_mode": {
    "name": "ipython",
    "version": 3
   },
   "file_extension": ".py",
   "mimetype": "text/x-python",
   "name": "python",
   "nbconvert_exporter": "python",
   "pygments_lexer": "ipython3",
   "version": "3.8.0"
  }
 },
 "nbformat": 4,
 "nbformat_minor": 5
}
