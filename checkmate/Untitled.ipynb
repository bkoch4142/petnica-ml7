{
 "cells": [
  {
   "cell_type": "markdown",
   "id": "fixed-sport",
   "metadata": {},
   "source": [
    "You need to find a chessboard on an image. Once you do you need to figure out where all the pieces are. After that you need to figure out if either king is in check. For maximum points figure out if that check is a checkmate."
   ]
  },
  {
   "cell_type": "code",
   "execution_count": 1,
   "id": "revised-norfolk",
   "metadata": {},
   "outputs": [
    {
     "ename": "SyntaxError",
     "evalue": "invalid syntax (<ipython-input-1-aea5c79cabc0>, line 1)",
     "output_type": "error",
     "traceback": [
      "\u001b[1;36m  File \u001b[1;32m\"<ipython-input-1-aea5c79cabc0>\"\u001b[1;36m, line \u001b[1;32m1\u001b[0m\n\u001b[1;33m    You are provided with a path to a folder in a form of <prefix>/<test_case_num> where <test_case_num> is the current test case. The folder's structure is as follows:\u001b[0m\n\u001b[1;37m        ^\u001b[0m\n\u001b[1;31mSyntaxError\u001b[0m\u001b[1;31m:\u001b[0m invalid syntax\n"
     ]
    }
   ],
   "source": [
    "You are provided with a path to a folder in a form of <prefix>/<test_case_num> where <test_case_num> is the current test case. The folder's structure is as follows:\n",
    "\n",
    "<test_case_num>:\n",
    "│   <test_case_num>.png\n",
    "│\n",
    "├───pieces\n",
    "│   ├───black\n",
    "│   │       bishop.png\n",
    "│   │       king.png\n",
    "│   │       knight.png\n",
    "│   │       pawn.png\n",
    "│   │       queen.png\n",
    "│   │       rook.png\n",
    "│   │\n",
    "│   └───white\n",
    "│           bishop.png\n",
    "│           king.png\n",
    "│           knight.png\n",
    "│           pawn.png\n",
    "│           queen.png\n",
    "│           rook.png\n",
    "│\n",
    "└───tiles\n",
    "        black.png\n",
    "        white.png"
   ]
  },
  {
   "cell_type": "markdown",
   "id": "guilty-drive",
   "metadata": {},
   "source": [
    "0,0 is at the top left corner of the larger picture. From this point if you move down you increase the first coordinate, and if you move to the right you increase the second coordinate."
   ]
  },
  {
   "cell_type": "code",
   "execution_count": 2,
   "id": "comfortable-generator",
   "metadata": {},
   "outputs": [
    {
     "name": "stdout",
     "output_type": "stream",
     "text": [
      "/e/machine_learning/projects/petnica-ml7/checkmate\n"
     ]
    }
   ],
   "source": [
    "!pwd"
   ]
  },
  {
   "cell_type": "code",
   "execution_count": 3,
   "id": "miniature-humor",
   "metadata": {},
   "outputs": [],
   "source": [
    "import os\n",
    "import PIL\n",
    "from PIL import Image\n",
    "import numpy as np"
   ]
  },
  {
   "cell_type": "code",
   "execution_count": 4,
   "id": "musical-worse",
   "metadata": {},
   "outputs": [],
   "source": [
    "chessboard_dim=8\n",
    "black_tile_px_val=[180, 136, 102]\n",
    "white_tile_px_val=[240, 217, 183]\n",
    "nothing_px_val=[0,0,0]"
   ]
  },
  {
   "cell_type": "code",
   "execution_count": 5,
   "id": "fluid-terrorism",
   "metadata": {},
   "outputs": [],
   "source": [
    "test_case=0\n",
    "\n",
    "data_pth=os.path.join('data\\\\public\\set\\\\',str(test_case))\n",
    "\n",
    "img_pths={}\n",
    "img_pths['input']=os.path.join(data_pth,str(test_case)+'.png')\n",
    "\n",
    "for root, dirs, files in os.walk(data_pth, topdown=False):\n",
    "    for name in files:\n",
    "        if not name.split('.')[0].isnumeric():\n",
    "            desc=os.path.normpath(root).split(os.path.sep)[-1]\n",
    "            dict_key_name=desc+'_'+name.split('.')[0]\n",
    "            img_pths[dict_key_name]=os.path.join(root,name)\n"
   ]
  },
  {
   "cell_type": "code",
   "execution_count": 6,
   "id": "based-likelihood",
   "metadata": {},
   "outputs": [
    {
     "data": {
      "text/plain": [
       "{'input': 'data\\\\public\\\\set\\\\0\\\\0.png',\n",
       " 'black_bishop': 'data\\\\public\\\\set\\\\0\\\\pieces\\\\black\\\\bishop.png',\n",
       " 'black_king': 'data\\\\public\\\\set\\\\0\\\\pieces\\\\black\\\\king.png',\n",
       " 'black_knight': 'data\\\\public\\\\set\\\\0\\\\pieces\\\\black\\\\knight.png',\n",
       " 'black_pawn': 'data\\\\public\\\\set\\\\0\\\\pieces\\\\black\\\\pawn.png',\n",
       " 'black_queen': 'data\\\\public\\\\set\\\\0\\\\pieces\\\\black\\\\queen.png',\n",
       " 'black_rook': 'data\\\\public\\\\set\\\\0\\\\pieces\\\\black\\\\rook.png',\n",
       " 'white_bishop': 'data\\\\public\\\\set\\\\0\\\\pieces\\\\white\\\\bishop.png',\n",
       " 'white_king': 'data\\\\public\\\\set\\\\0\\\\pieces\\\\white\\\\king.png',\n",
       " 'white_knight': 'data\\\\public\\\\set\\\\0\\\\pieces\\\\white\\\\knight.png',\n",
       " 'white_pawn': 'data\\\\public\\\\set\\\\0\\\\pieces\\\\white\\\\pawn.png',\n",
       " 'white_queen': 'data\\\\public\\\\set\\\\0\\\\pieces\\\\white\\\\queen.png',\n",
       " 'white_rook': 'data\\\\public\\\\set\\\\0\\\\pieces\\\\white\\\\rook.png',\n",
       " 'tiles_black': 'data\\\\public\\\\set\\\\0\\\\tiles\\\\black.png',\n",
       " 'tiles_white': 'data\\\\public\\\\set\\\\0\\\\tiles\\\\white.png'}"
      ]
     },
     "execution_count": 6,
     "metadata": {},
     "output_type": "execute_result"
    }
   ],
   "source": [
    "img_pths"
   ]
  },
  {
   "cell_type": "code",
   "execution_count": 7,
   "id": "agricultural-lottery",
   "metadata": {},
   "outputs": [],
   "source": [
    "a=np.asarray(Image.open(img_pths['input']))"
   ]
  },
  {
   "cell_type": "code",
   "execution_count": 8,
   "id": "certified-worship",
   "metadata": {},
   "outputs": [
    {
     "data": {
      "text/plain": [
       "array([[[0, 0, 0],\n",
       "        [0, 0, 0],\n",
       "        [0, 0, 0],\n",
       "        ...,\n",
       "        [0, 0, 0],\n",
       "        [0, 0, 0],\n",
       "        [0, 0, 0]],\n",
       "\n",
       "       [[0, 0, 0],\n",
       "        [0, 0, 0],\n",
       "        [0, 0, 0],\n",
       "        ...,\n",
       "        [0, 0, 0],\n",
       "        [0, 0, 0],\n",
       "        [0, 0, 0]],\n",
       "\n",
       "       [[0, 0, 0],\n",
       "        [0, 0, 0],\n",
       "        [0, 0, 0],\n",
       "        ...,\n",
       "        [0, 0, 0],\n",
       "        [0, 0, 0],\n",
       "        [0, 0, 0]],\n",
       "\n",
       "       ...,\n",
       "\n",
       "       [[0, 0, 0],\n",
       "        [0, 0, 0],\n",
       "        [0, 0, 0],\n",
       "        ...,\n",
       "        [0, 0, 0],\n",
       "        [0, 0, 0],\n",
       "        [0, 0, 0]],\n",
       "\n",
       "       [[0, 0, 0],\n",
       "        [0, 0, 0],\n",
       "        [0, 0, 0],\n",
       "        ...,\n",
       "        [0, 0, 0],\n",
       "        [0, 0, 0],\n",
       "        [0, 0, 0]],\n",
       "\n",
       "       [[0, 0, 0],\n",
       "        [0, 0, 0],\n",
       "        [0, 0, 0],\n",
       "        ...,\n",
       "        [0, 0, 0],\n",
       "        [0, 0, 0],\n",
       "        [0, 0, 0]]], dtype=uint8)"
      ]
     },
     "execution_count": 8,
     "metadata": {},
     "output_type": "execute_result"
    }
   ],
   "source": [
    "a"
   ]
  },
  {
   "cell_type": "code",
   "execution_count": 9,
   "id": "seven-newport",
   "metadata": {},
   "outputs": [
    {
     "data": {
      "text/plain": [
       "(514, 425, 3)"
      ]
     },
     "execution_count": 9,
     "metadata": {},
     "output_type": "execute_result"
    }
   ],
   "source": [
    "a.shape"
   ]
  },
  {
   "cell_type": "code",
   "execution_count": 109,
   "id": "adequate-thursday",
   "metadata": {},
   "outputs": [
    {
     "name": "stdout",
     "output_type": "stream",
     "text": [
      "(array([140,  62]), 30)\n"
     ]
    }
   ],
   "source": [
    "def find_beggining(img):\n",
    "    beggining_found=False\n",
    "    beggining_position=None\n",
    "    offset=None\n",
    "    for row_px in range(img.shape[0]):\n",
    "        for col_px in range(img.shape[1]):\n",
    "            position_px_val=img[row_px,col_px,:]\n",
    "            if np.array_equal(position_px_val,white_tile_px_val) and not beggining_found:\n",
    "                beggining_position=np.array([row_px,col_px])\n",
    "                beggining_found=True\n",
    "            \n",
    "            if np.array_equal(position_px_val,black_tile_px_val):\n",
    "                offset=(np.array([row_px,col_px])-beggining_position)[1]\n",
    "                break\n",
    "        if beggining_found:\n",
    "            break\n",
    "    \n",
    "#     print(','.join(map(str,beggining_position)))\n",
    "    return beggining_position, offset\n",
    "    \n",
    "img=np.asarray(Image.open(img_pths['input']))\n",
    "print(find_beggining(img))"
   ]
  },
  {
   "cell_type": "code",
   "execution_count": 11,
   "id": "pregnant-bradley",
   "metadata": {},
   "outputs": [],
   "source": [
    "def cut_chessboard(img, begging_position, offset):\n",
    "    return img[begging_position[0]:begging_position[0]+8*offset,\n",
    "              begging_position[1]:begging_position[1]+8*offset,\n",
    "              :]"
   ]
  },
  {
   "cell_type": "code",
   "execution_count": 12,
   "id": "raised-problem",
   "metadata": {},
   "outputs": [
    {
     "data": {
      "image/png": "[encoded data removed]",
      "text/plain": [
       "<PIL.Image.Image image mode=RGB size=240x240 at 0x296CCA689D0>"
      ]
     },
     "execution_count": 12,
     "metadata": {},
     "output_type": "execute_result"
    }
   ],
   "source": [
    "im=Image.fromarray(cut_chessboard(img, [140,62], 30))\n",
    "im"
   ]
  },
  {
   "cell_type": "code",
   "execution_count": 104,
   "id": "local-hands",
   "metadata": {},
   "outputs": [
    {
     "data": {
      "image/png": "[encoded data removed]",
      "text/plain": [
       "<PIL.Image.Image image mode=RGB size=30x30 at 0x296CDF94A00>"
      ]
     },
     "metadata": {},
     "output_type": "display_data"
    },
    {
     "data": {
      "image/png": "[encoded data removed]",
      "text/plain": [
       "<PIL.Image.Image image mode=RGB size=30x30 at 0x296CDC4D160>"
      ]
     },
     "metadata": {},
     "output_type": "display_data"
    },
    {
     "data": {
      "image/png": "[encoded data removed]",
      "text/plain": [
       "<PIL.Image.Image image mode=RGB size=30x30 at 0x296CDC4D160>"
      ]
     },
     "metadata": {},
     "output_type": "display_data"
    },
    {
     "data": {
      "image/png": "[encoded data removed]",
      "text/plain": [
       "<PIL.Image.Image image mode=RGB size=30x30 at 0x296CDC4D160>"
      ]
     },
     "metadata": {},
     "output_type": "display_data"
    },
    {
     "data": {
      "image/png": "[encoded data removed]",
      "text/plain": [
       "<PIL.Image.Image image mode=RGB size=30x30 at 0x296CDF749A0>"
      ]
     },
     "metadata": {},
     "output_type": "display_data"
    },
    {
     "data": {
      "image/png": "[encoded data removed]",
      "text/plain": [
       "<PIL.Image.Image image mode=RGB size=30x30 at 0x296733662B0>"
      ]
     },
     "metadata": {},
     "output_type": "display_data"
    },
    {
     "data": {
      "image/png": "[encoded data removed]",
      "text/plain": [
       "<PIL.Image.Image image mode=RGB size=30x30 at 0x296CDF749A0>"
      ]
     },
     "metadata": {},
     "output_type": "display_data"
    },
    {
     "data": {
      "image/png": "[encoded data removed]",
      "text/plain": [
       "<PIL.Image.Image image mode=RGB size=30x30 at 0x296733662B0>"
      ]
     },
     "metadata": {},
     "output_type": "display_data"
    },
    {
     "data": {
      "image/png": "[encoded data removed]",
      "text/plain": [
       "<PIL.Image.Image image mode=RGB size=30x30 at 0x296CDF749A0>"
      ]
     },
     "metadata": {},
     "output_type": "display_data"
    },
    {
     "data": {
      "image/png": "[encoded data removed]",
      "text/plain": [
       "<PIL.Image.Image image mode=RGB size=30x30 at 0x296CDC4DFA0>"
      ]
     },
     "metadata": {},
     "output_type": "display_data"
    },
    {
     "data": {
      "image/png": "[encoded data removed]",
      "text/plain": [
       "<PIL.Image.Image image mode=RGB size=30x30 at 0x296CDC4DFA0>"
      ]
     },
     "metadata": {},
     "output_type": "display_data"
    },
    {
     "data": {
      "image/png": "[encoded data removed]",
      "text/plain": [
       "<PIL.Image.Image image mode=RGB size=30x30 at 0x296CDC4DFA0>"
      ]
     },
     "metadata": {},
     "output_type": "display_data"
    },
    {
     "data": {
      "image/png": "[encoded data removed]",
      "text/plain": [
       "<PIL.Image.Image image mode=RGB size=30x30 at 0x296CDC4DFA0>"
      ]
     },
     "metadata": {},
     "output_type": "display_data"
    },
    {
     "data": {
      "image/png": "[encoded data removed]",
      "text/plain": [
       "<PIL.Image.Image image mode=RGB size=30x30 at 0x296CDC4DFA0>"
      ]
     },
     "metadata": {},
     "output_type": "display_data"
    },
    {
     "data": {
      "image/png": "[encoded data removed]",
      "text/plain": [
       "<PIL.Image.Image image mode=RGB size=30x30 at 0x296CDC4DFA0>"
      ]
     },
     "metadata": {},
     "output_type": "display_data"
    },
    {
     "data": {
      "image/png": "[encoded data removed]",
      "text/plain": [
       "<PIL.Image.Image image mode=RGB size=30x30 at 0x296CDC4DFA0>"
      ]
     },
     "metadata": {},
     "output_type": "display_data"
    },
    {
     "data": {
      "image/png": "[encoded data removed]",
      "text/plain": [
       "<PIL.Image.Image image mode=RGB size=30x30 at 0x296733662B0>"
      ]
     },
     "metadata": {},
     "output_type": "display_data"
    },
    {
     "data": {
      "image/png": "[encoded data removed]",
      "text/plain": [
       "<PIL.Image.Image image mode=RGB size=30x30 at 0x296CDF749A0>"
      ]
     },
     "metadata": {},
     "output_type": "display_data"
    },
    {
     "data": {
      "image/png": "[encoded data removed]",
      "text/plain": [
       "<PIL.Image.Image image mode=RGB size=30x30 at 0x296733662B0>"
      ]
     },
     "metadata": {},
     "output_type": "display_data"
    },
    {
     "data": {
      "image/png": "[encoded data removed]",
      "text/plain": [
       "<PIL.Image.Image image mode=RGB size=30x30 at 0x296CDF749A0>"
      ]
     },
     "metadata": {},
     "output_type": "display_data"
    },
    {
     "data": {
      "image/png": "[encoded data removed]",
      "text/plain": [
       "<PIL.Image.Image image mode=RGB size=30x30 at 0x296733662B0>"
      ]
     },
     "metadata": {},
     "output_type": "display_data"
    },
    {
     "data": {
      "image/png": "[encoded data removed]",
      "text/plain": [
       "<PIL.Image.Image image mode=RGB size=30x30 at 0x296CDF749A0>"
      ]
     },
     "metadata": {},
     "output_type": "display_data"
    },
    {
     "data": {
      "image/png": "[encoded data removed]",
      "text/plain": [
       "<PIL.Image.Image image mode=RGB size=30x30 at 0x296733662B0>"
      ]
     },
     "metadata": {},
     "output_type": "display_data"
    },
    {
     "data": {
      "image/png": "[encoded data removed]",
      "text/plain": [
       "<PIL.Image.Image image mode=RGB size=30x30 at 0x296CDF749A0>"
      ]
     },
     "metadata": {},
     "output_type": "display_data"
    },
    {
     "data": {
      "image/png": "[encoded data removed]",
      "text/plain": [
       "<PIL.Image.Image image mode=RGB size=30x30 at 0x296733662B0>"
      ]
     },
     "metadata": {},
     "output_type": "display_data"
    },
    {
     "data": {
      "image/png": "[encoded data removed]",
      "text/plain": [
       "<PIL.Image.Image image mode=RGB size=30x30 at 0x296CDF749A0>"
      ]
     },
     "metadata": {},
     "output_type": "display_data"
    },
    {
     "data": {
      "image/png": "[encoded data removed]",
      "text/plain": [
       "<PIL.Image.Image image mode=RGB size=30x30 at 0x296733662B0>"
      ]
     },
     "metadata": {},
     "output_type": "display_data"
    },
    {
     "data": {
      "image/png": "[encoded data removed]",
      "text/plain": [
       "<PIL.Image.Image image mode=RGB size=30x30 at 0x296CDF749A0>"
      ]
     },
     "metadata": {},
     "output_type": "display_data"
    },
    {
     "data": {
      "image/png": "[encoded data removed]",
      "text/plain": [
       "<PIL.Image.Image image mode=RGB size=30x30 at 0x296733662B0>"
      ]
     },
     "metadata": {},
     "output_type": "display_data"
    },
    {
     "data": {
      "image/png": "[encoded data removed]",
      "text/plain": [
       "<PIL.Image.Image image mode=RGB size=30x30 at 0x296CDF749A0>"
      ]
     },
     "metadata": {},
     "output_type": "display_data"
    },
    {
     "data": {
      "image/png": "[encoded data removed]",
      "text/plain": [
       "<PIL.Image.Image image mode=RGB size=30x30 at 0x296733662B0>"
      ]
     },
     "metadata": {},
     "output_type": "display_data"
    },
    {
     "data": {
      "image/png": "[encoded data removed]",
      "text/plain": [
       "<PIL.Image.Image image mode=RGB size=30x30 at 0x296CDF749A0>"
      ]
     },
     "metadata": {},
     "output_type": "display_data"
    },
    {
     "data": {
      "image/png": "[encoded data removed]",
      "text/plain": [
       "<PIL.Image.Image image mode=RGB size=30x30 at 0x296733662B0>"
      ]
     },
     "metadata": {},
     "output_type": "display_data"
    },
    {
     "data": {
      "image/png": "[encoded data removed]",
      "text/plain": [
       "<PIL.Image.Image image mode=RGB size=30x30 at 0x296CDF749A0>"
      ]
     },
     "metadata": {},
     "output_type": "display_data"
    },
    {
     "data": {
      "image/png": "[encoded data removed]",
      "text/plain": [
       "<PIL.Image.Image image mode=RGB size=30x30 at 0x296733662B0>"
      ]
     },
     "metadata": {},
     "output_type": "display_data"
    },
    {
     "data": {
      "image/png": "[encoded data removed]",
      "text/plain": [
       "<PIL.Image.Image image mode=RGB size=30x30 at 0x296CDF749A0>"
      ]
     },
     "metadata": {},
     "output_type": "display_data"
    },
    {
     "data": {
      "image/png": "[encoded data removed]",
      "text/plain": [
       "<PIL.Image.Image image mode=RGB size=30x30 at 0x296733662B0>"
      ]
     },
     "metadata": {},
     "output_type": "display_data"
    },
    {
     "data": {
      "image/png": "[encoded data removed]",
      "text/plain": [
       "<PIL.Image.Image image mode=RGB size=30x30 at 0x296CDF749A0>"
      ]
     },
     "metadata": {},
     "output_type": "display_data"
    },
    {
     "data": {
      "image/png": "[encoded data removed]",
      "text/plain": [
       "<PIL.Image.Image image mode=RGB size=30x30 at 0x296733662B0>"
      ]
     },
     "metadata": {},
     "output_type": "display_data"
    },
    {
     "data": {
      "image/png": "[encoded data removed]",
      "text/plain": [
       "<PIL.Image.Image image mode=RGB size=30x30 at 0x296CDF749A0>"
      ]
     },
     "metadata": {},
     "output_type": "display_data"
    },
    {
     "data": {
      "image/png": "[encoded data removed]",
      "text/plain": [
       "<PIL.Image.Image image mode=RGB size=30x30 at 0x296733662B0>"
      ]
     },
     "metadata": {},
     "output_type": "display_data"
    },
    {
     "data": {
      "image/png": "[encoded data removed]",
      "text/plain": [
       "<PIL.Image.Image image mode=RGB size=30x30 at 0x296CDF749A0>"
      ]
     },
     "metadata": {},
     "output_type": "display_data"
    },
    {
     "data": {
      "image/png": "[encoded data removed]",
      "text/plain": [
       "<PIL.Image.Image image mode=RGB size=30x30 at 0x296733662B0>"
      ]
     },
     "metadata": {},
     "output_type": "display_data"
    },
    {
     "data": {
      "image/png": "[encoded data removed]",
      "text/plain": [
       "<PIL.Image.Image image mode=RGB size=30x30 at 0x296CDF749A0>"
      ]
     },
     "metadata": {},
     "output_type": "display_data"
    },
    {
     "data": {
      "image/png": "[encoded data removed]",
      "text/plain": [
       "<PIL.Image.Image image mode=RGB size=30x30 at 0x296733662B0>"
      ]
     },
     "metadata": {},
     "output_type": "display_data"
    },
    {
     "data": {
      "image/png": "[encoded data removed]",
      "text/plain": [
       "<PIL.Image.Image image mode=RGB size=30x30 at 0x296CDF749A0>"
      ]
     },
     "metadata": {},
     "output_type": "display_data"
    },
    {
     "data": {
      "image/png": "[encoded data removed]",
      "text/plain": [
       "<PIL.Image.Image image mode=RGB size=30x30 at 0x296733662B0>"
      ]
     },
     "metadata": {},
     "output_type": "display_data"
    },
    {
     "data": {
      "image/png": "[encoded data removed]",
      "text/plain": [
       "<PIL.Image.Image image mode=RGB size=30x30 at 0x296CDF749A0>"
      ]
     },
     "metadata": {},
     "output_type": "display_data"
    },
    {
     "data": {
      "image/png": "[encoded data removed]",
      "text/plain": [
       "<PIL.Image.Image image mode=RGB size=30x30 at 0x296733662B0>"
      ]
     },
     "metadata": {},
     "output_type": "display_data"
    },
    {
     "data": {
      "image/png": "[encoded data removed]",
      "text/plain": [
       "<PIL.Image.Image image mode=RGB size=30x30 at 0x296CDF749A0>"
      ]
     },
     "metadata": {},
     "output_type": "display_data"
    },
    {
     "data": {
      "image/png": "[encoded data removed]",
      "text/plain": [
       "<PIL.Image.Image image mode=RGB size=30x30 at 0x296733662B0>"
      ]
     },
     "metadata": {},
     "output_type": "display_data"
    },
    {
     "data": {
      "image/png": "[encoded data removed]",
      "text/plain": [
       "<PIL.Image.Image image mode=RGB size=30x30 at 0x296CDF749A0>"
      ]
     },
     "metadata": {},
     "output_type": "display_data"
    },
    {
     "data": {
      "image/png": "[encoded data removed]",
      "text/plain": [
       "<PIL.Image.Image image mode=RGB size=30x30 at 0x296733662B0>"
      ]
     },
     "metadata": {},
     "output_type": "display_data"
    },
    {
     "data": {
      "image/png": "[encoded data removed]",
      "text/plain": [
       "<PIL.Image.Image image mode=RGB size=30x30 at 0x296CDF749A0>"
      ]
     },
     "metadata": {},
     "output_type": "display_data"
    },
    {
     "data": {
      "image/png": "[encoded data removed]",
      "text/plain": [
       "<PIL.Image.Image image mode=RGB size=30x30 at 0x296733662B0>"
      ]
     },
     "metadata": {},
     "output_type": "display_data"
    },
    {
     "data": {
      "image/png": "[encoded data removed]",
      "text/plain": [
       "<PIL.Image.Image image mode=RGB size=30x30 at 0x296CDF749A0>"
      ]
     },
     "metadata": {},
     "output_type": "display_data"
    },
    {
     "data": {
      "image/png": "[encoded data removed]",
      "text/plain": [
       "<PIL.Image.Image image mode=RGB size=30x30 at 0x296733662B0>"
      ]
     },
     "metadata": {},
     "output_type": "display_data"
    },
    {
     "data": {
      "image/png": "[encoded data removed]",
      "text/plain": [
       "<PIL.Image.Image image mode=RGB size=30x30 at 0x296CDF749A0>"
      ]
     },
     "metadata": {},
     "output_type": "display_data"
    },
    {
     "data": {
      "image/png": "[encoded data removed]",
      "text/plain": [
       "<PIL.Image.Image image mode=RGB size=30x30 at 0x296733662B0>"
      ]
     },
     "metadata": {},
     "output_type": "display_data"
    },
    {
     "data": {
      "image/png": "[encoded data removed]",
      "text/plain": [
       "<PIL.Image.Image image mode=RGB size=30x30 at 0x296CDF749A0>"
      ]
     },
     "metadata": {},
     "output_type": "display_data"
    },
    {
     "data": {
      "image/png": "[encoded data removed]",
      "text/plain": [
       "<PIL.Image.Image image mode=RGB size=30x30 at 0x296733662B0>"
      ]
     },
     "metadata": {},
     "output_type": "display_data"
    },
    {
     "data": {
      "image/png": "[encoded data removed]",
      "text/plain": [
       "<PIL.Image.Image image mode=RGB size=30x30 at 0x296CDF749A0>"
      ]
     },
     "metadata": {},
     "output_type": "display_data"
    },
    {
     "data": {
      "image/png": "[encoded data removed]",
      "text/plain": [
       "<PIL.Image.Image image mode=RGB size=30x30 at 0x296733662B0>"
      ]
     },
     "metadata": {},
     "output_type": "display_data"
    },
    {
     "data": {
      "image/png": "[encoded data removed]",
      "text/plain": [
       "<PIL.Image.Image image mode=RGB size=30x30 at 0x296CDF749A0>"
      ]
     },
     "metadata": {},
     "output_type": "display_data"
    }
   ],
   "source": [
    "fig_to_int={\n",
    "    'bishop':1,\n",
    "    'king':2,\n",
    "    'knight':3,\n",
    "    'pawn':4,\n",
    "    'queen':5,\n",
    "    'rook':6\n",
    "           }\n",
    "\n",
    "def get_tiles(img, offset):\n",
    "    \n",
    "    crops=[]\n",
    "    for i in range(0,offset*8, offset):\n",
    "        for j in range(0,offset*8, offset):\n",
    "            crop=img[i:i+offset,j:j+offset]\n",
    "            crops.append(crop)\n",
    "            display(Image.fromarray(crop))\n",
    "    return crops\n",
    "crops=get_tiles(cut_chessboard(img,[140,62],30),30)"
   ]
  },
  {
   "cell_type": "code",
   "execution_count": 97,
   "id": "million-chemistry",
   "metadata": {},
   "outputs": [],
   "source": [
    "def get_figure_array(img_pth):\n",
    "    return np.asarray((Image.open(img_pth).convert('RGB').resize((30,30))))"
   ]
  },
  {
   "cell_type": "code",
   "execution_count": 99,
   "id": "obvious-occasions",
   "metadata": {},
   "outputs": [],
   "source": [
    "def get_background_masks(img_pths):\n",
    "    # in order to neutralize background from image we set the backgroud mask of that figure to 0\n",
    "    \n",
    "    background_masks={}\n",
    "    \n",
    "    #for background mask extraction color doesnt matter\n",
    "    background_masks['king']=get_figure_array(img_pths['white_king'])==0\n",
    "    background_masks['knight']=get_figure_array(img_pths['white_knight'])==0\n",
    "    background_masks['pawn']=get_figure_array(img_pths['white_pawn'])==0\n",
    "    background_masks['queen']=get_figure_array(img_pths['white_queen'])==0\n",
    "    background_masks['rook']=get_figure_array(img_pths['white_rook'])==0         \n",
    "    background_masks['bishop']=get_figure_array(img_pths['white_bishop'])==0\n",
    "    return background_masks\n",
    "\n",
    "background_masks=get_background_masks(img_pths)"
   ]
  },
  {
   "cell_type": "code",
   "execution_count": 103,
   "id": "elementary-level",
   "metadata": {},
   "outputs": [
    {
     "data": {
      "image/png": "[encoded data removed]",
      "text/plain": [
       "<PIL.Image.Image image mode=RGB size=30x30 at 0x296CDE894F0>"
      ]
     },
     "metadata": {},
     "output_type": "display_data"
    },
    {
     "data": {
      "image/png": "[encoded data removed]",
      "text/plain": [
       "<PIL.Image.Image image mode=RGB size=30x30 at 0x296CDA21460>"
      ]
     },
     "metadata": {},
     "output_type": "display_data"
    },
    {
     "data": {
      "image/png": "[encoded data removed]",
      "text/plain": [
       "<PIL.Image.Image image mode=RGB size=30x30 at 0x296CDA21DF0>"
      ]
     },
     "metadata": {},
     "output_type": "display_data"
    }
   ],
   "source": [
    "# Unit test\n",
    "white_queen=get_figure_array(img_pths['white_queen'])\n",
    "white_queen_on_black=crops[1]\n",
    "display(Image.fromarray(white_queen))\n",
    "display(Image.fromarray(white_queen_on_black))\n",
    "\n",
    "queen_background_mask=background_masks['queen']\n",
    "\n",
    "white_queen_on_black_no_background=white_queen_on_black.copy()\n",
    "white_queen_on_black_no_background[queen_background_mask]=0\n",
    "display(Image.fromarray(white_queen_on_black_no_background))"
   ]
  },
  {
   "cell_type": "code",
   "execution_count": 119,
   "id": "reserved-secretariat",
   "metadata": {},
   "outputs": [
    {
     "data": {
      "image/png": "[encoded data removed]",
      "text/plain": [
       "<PIL.Image.Image image mode=RGB size=30x30 at 0x296CDA180D0>"
      ]
     },
     "metadata": {},
     "output_type": "display_data"
    },
    {
     "data": {
      "image/png": "[encoded data removed]",
      "text/plain": [
       "<PIL.Image.Image image mode=RGB size=30x30 at 0x296CDFA2670>"
      ]
     },
     "metadata": {},
     "output_type": "display_data"
    },
    {
     "data": {
      "image/png": "[encoded data removed]",
      "text/plain": [
       "<PIL.Image.Image image mode=RGB size=30x30 at 0x29673387220>"
      ]
     },
     "metadata": {},
     "output_type": "display_data"
    },
    {
     "data": {
      "image/png": "[encoded data removed]",
      "text/plain": [
       "<PIL.Image.Image image mode=RGB size=30x30 at 0x296CDFA2670>"
      ]
     },
     "metadata": {},
     "output_type": "display_data"
    },
    {
     "name": "stdout",
     "output_type": "stream",
     "text": [
      "king\n",
      "rmse w  4.903891123194738\n",
      "rmse b  5.5456021948661\n"
     ]
    },
    {
     "data": {
      "image/png": "[encoded data removed]",
      "text/plain": [
       "<PIL.Image.Image image mode=RGB size=30x30 at 0x296CDF92EB0>"
      ]
     },
     "metadata": {},
     "output_type": "display_data"
    },
    {
     "data": {
      "image/png": "[encoded data removed]",
      "text/plain": [
       "<PIL.Image.Image image mode=RGB size=30x30 at 0x296CDF92EB0>"
      ]
     },
     "metadata": {},
     "output_type": "display_data"
    },
    {
     "data": {
      "image/png": "[encoded data removed]",
      "text/plain": [
       "<PIL.Image.Image image mode=RGB size=30x30 at 0x296CDF92EB0>"
      ]
     },
     "metadata": {},
     "output_type": "display_data"
    },
    {
     "name": "stdout",
     "output_type": "stream",
     "text": [
      "knight\n",
      "rmse w  5.0351358067675385\n",
      "rmse b  4.520652198112159\n"
     ]
    },
    {
     "data": {
      "image/png": "[encoded data removed]",
      "text/plain": [
       "<PIL.Image.Image image mode=RGB size=30x30 at 0x296CDFA2670>"
      ]
     },
     "metadata": {},
     "output_type": "display_data"
    },
    {
     "data": {
      "image/png": "[encoded data removed]",
      "text/plain": [
       "<PIL.Image.Image image mode=RGB size=30x30 at 0x296CDC482E0>"
      ]
     },
     "metadata": {},
     "output_type": "display_data"
    },
    {
     "data": {
      "image/png": "[encoded data removed]",
      "text/plain": [
       "<PIL.Image.Image image mode=RGB size=30x30 at 0x296CDFA2670>"
      ]
     },
     "metadata": {},
     "output_type": "display_data"
    },
    {
     "name": "stdout",
     "output_type": "stream",
     "text": [
      "pawn\n",
      "rmse w  3.9663865447308866\n",
      "rmse b  2.879171691585903\n"
     ]
    },
    {
     "data": {
      "image/png": "[encoded data removed]",
      "text/plain": [
       "<PIL.Image.Image image mode=RGB size=30x30 at 0x296CDFA2670>"
      ]
     },
     "metadata": {},
     "output_type": "display_data"
    },
    {
     "data": {
      "image/png": "[encoded data removed]",
      "text/plain": [
       "<PIL.Image.Image image mode=RGB size=30x30 at 0x296CDC482E0>"
      ]
     },
     "metadata": {},
     "output_type": "display_data"
    },
    {
     "data": {
      "image/png": "[encoded data removed]",
      "text/plain": [
       "<PIL.Image.Image image mode=RGB size=30x30 at 0x296CDFA2670>"
      ]
     },
     "metadata": {},
     "output_type": "display_data"
    },
    {
     "name": "stdout",
     "output_type": "stream",
     "text": [
      "queen\n",
      "rmse w  5.196152422706632\n",
      "rmse b  4.845157949495099\n"
     ]
    },
    {
     "data": {
      "image/png": "[encoded data removed]",
      "text/plain": [
       "<PIL.Image.Image image mode=RGB size=30x30 at 0x296CDF92EB0>"
      ]
     },
     "metadata": {},
     "output_type": "display_data"
    },
    {
     "data": {
      "image/png": "[encoded data removed]",
      "text/plain": [
       "<PIL.Image.Image image mode=RGB size=30x30 at 0x296CDF92EB0>"
      ]
     },
     "metadata": {},
     "output_type": "display_data"
    },
    {
     "data": {
      "image/png": "[encoded data removed]",
      "text/plain": [
       "<PIL.Image.Image image mode=RGB size=30x30 at 0x296CDF92EB0>"
      ]
     },
     "metadata": {},
     "output_type": "display_data"
    },
    {
     "name": "stdout",
     "output_type": "stream",
     "text": [
      "rook\n",
      "rmse w  4.8530250207321055\n",
      "rmse b  4.511138478296845\n"
     ]
    },
    {
     "data": {
      "image/png": "[encoded data removed]",
      "text/plain": [
       "<PIL.Image.Image image mode=RGB size=30x30 at 0x296CDC482E0>"
      ]
     },
     "metadata": {},
     "output_type": "display_data"
    },
    {
     "data": {
      "image/png": "[encoded data removed]",
      "text/plain": [
       "<PIL.Image.Image image mode=RGB size=30x30 at 0x296CDFA2670>"
      ]
     },
     "metadata": {},
     "output_type": "display_data"
    },
    {
     "data": {
      "image/png": "[encoded data removed]",
      "text/plain": [
       "<PIL.Image.Image image mode=RGB size=30x30 at 0x296CDC482E0>"
      ]
     },
     "metadata": {},
     "output_type": "display_data"
    },
    {
     "name": "stdout",
     "output_type": "stream",
     "text": [
      "bishop\n",
      "rmse w  4.556801997502683\n",
      "rmse b  3.8205584234070633\n"
     ]
    },
    {
     "data": {
      "text/plain": [
       "'black_pawn'"
      ]
     },
     "execution_count": 119,
     "metadata": {},
     "output_type": "execute_result"
    }
   ],
   "source": [
    "def calculate_match(arr1,arr2):\n",
    "    return np.sqrt(np.mean((arr1-arr2)**2))\n",
    "\n",
    "def recognize_figure(tile, background_masks, img_pths):\n",
    "    display(Image.fromarray(tile))\n",
    "    min_rmse=10000\n",
    "    figure_name=None\n",
    "    \n",
    "    # finding mask for which the rmse in minimal\n",
    "    for fig_name, mask in background_masks.items():\n",
    "        tile_cp=tile.copy()\n",
    "        tile_cp[mask]=0\n",
    "        \n",
    "        \n",
    "        white_figure_pth=img_pths['white_'+fig_name]\n",
    "        white_figure=get_figure_array(white_figure_pth)\n",
    "        \n",
    "        black_figure_pth=img_pths['black_'+fig_name]\n",
    "        black_figure=get_figure_array(black_figure_pth)\n",
    "        \n",
    "        display(Image.fromarray(tile_cp))\n",
    "        display(Image.fromarray(black_figure))\n",
    "        display(Image.fromarray(white_figure))\n",
    "        \n",
    "        rmse_white=calculate_match(tile_cp,white_figure)\n",
    "        rmse_black=calculate_match(tile_cp,black_figure)\n",
    "        \n",
    "        print(fig_name)\n",
    "        print('rmse w ', rmse_white)\n",
    "        print('rmse b ', rmse_black)\n",
    "        \n",
    "        \n",
    "        if rmse_white<=rmse_black:\n",
    "            if rmse_white < min_rmse:\n",
    "                min_rmse=rmse_white\n",
    "                figure_name='white_'+fig_name\n",
    "        else:\n",
    "            if rmse_black < min_rmse:\n",
    "                min_rmse=rmse_black\n",
    "                figure_name='black_'+fig_name\n",
    "                \n",
    "    return figure_name\n",
    "\n",
    "recognize_figure(crops[1], background_masks, img_pths)\n",
    "        \n",
    "\n",
    "                \n",
    "\n"
   ]
  },
  {
   "cell_type": "code",
   "execution_count": 114,
   "id": "premier-georgia",
   "metadata": {},
   "outputs": [
    {
     "data": {
      "image/png": "[encoded data removed]",
      "text/plain": [
       "<PIL.Image.Image image mode=RGB size=30x30 at 0x296CDA1A160>"
      ]
     },
     "metadata": {},
     "output_type": "display_data"
    }
   ],
   "source": [
    "display(Image.fromarray(crops[1]))"
   ]
  },
  {
   "cell_type": "code",
   "execution_count": null,
   "id": "dressed-spelling",
   "metadata": {},
   "outputs": [],
   "source": []
  },
  {
   "cell_type": "code",
   "execution_count": null,
   "id": "phantom-aurora",
   "metadata": {},
   "outputs": [],
   "source": []
  },
  {
   "cell_type": "code",
   "execution_count": null,
   "id": "athletic-teacher",
   "metadata": {},
   "outputs": [],
   "source": []
  },
  {
   "cell_type": "code",
   "execution_count": 108,
   "id": "constant-announcement",
   "metadata": {},
   "outputs": [
    {
     "name": "stdout",
     "output_type": "stream",
     "text": [
      "140,62\n"
     ]
    },
    {
     "data": {
      "text/plain": [
       "0"
      ]
     },
     "execution_count": 108,
     "metadata": {},
     "output_type": "execute_result"
    }
   ],
   "source": [
    "def numericalize_chessboard(img, img_pths):\n",
    "    beggining_position, offset= find_beggining(img)\n",
    "    chessboard=Image.fromarray(cut_chessboard(img, beggining_position, offset))\n",
    "    tiles=get_tiles(chessboard, offset)\n",
    "    background_masks=get_background_masks(img_pths)\n",
    "    \n",
    "    chessboard_num=np.zeros((8,8))\n",
    "    \n",
    "    for tile in tiles:\n",
    "        \n",
    "    \n",
    "    \n",
    "    \n",
    "    \n",
    "    return 0\n",
    "\n",
    "\n",
    "\n",
    "\n",
    "img=np.asarray(Image.open(img_pths['input']))\n",
    "numericalize_chessboard(img, img_pths)"
   ]
  },
  {
   "cell_type": "code",
   "execution_count": 110,
   "id": "everyday-fancy",
   "metadata": {},
   "outputs": [
    {
     "data": {
      "text/plain": [
       "array([[0., 0., 0., 0., 0., 0., 0., 0.],\n",
       "       [0., 0., 0., 0., 0., 0., 0., 0.],\n",
       "       [0., 0., 0., 0., 0., 0., 0., 0.],\n",
       "       [0., 0., 0., 0., 0., 0., 0., 0.],\n",
       "       [0., 0., 0., 0., 0., 0., 0., 0.],\n",
       "       [0., 0., 0., 0., 0., 0., 0., 0.],\n",
       "       [0., 0., 0., 0., 0., 0., 0., 0.],\n",
       "       [0., 0., 0., 0., 0., 0., 0., 0.]])"
      ]
     },
     "execution_count": 110,
     "metadata": {},
     "output_type": "execute_result"
    }
   ],
   "source": [
    "np.zeros((8,8))"
   ]
  },
  {
   "cell_type": "code",
   "execution_count": null,
   "id": "imported-mortality",
   "metadata": {},
   "outputs": [],
   "source": []
  },
  {
   "cell_type": "code",
   "execution_count": null,
   "id": "dynamic-wrong",
   "metadata": {},
   "outputs": [],
   "source": []
  },
  {
   "cell_type": "code",
   "execution_count": null,
   "id": "criminal-foster",
   "metadata": {},
   "outputs": [],
   "source": []
  },
  {
   "cell_type": "code",
   "execution_count": null,
   "id": "present-southeast",
   "metadata": {},
   "outputs": [],
   "source": []
  },
  {
   "cell_type": "code",
   "execution_count": null,
   "id": "designing-headline",
   "metadata": {},
   "outputs": [],
   "source": []
  },
  {
   "cell_type": "code",
   "execution_count": null,
   "id": "therapeutic-trade",
   "metadata": {},
   "outputs": [],
   "source": []
  },
  {
   "cell_type": "code",
   "execution_count": null,
   "id": "numerous-bosnia",
   "metadata": {},
   "outputs": [],
   "source": []
  },
  {
   "cell_type": "code",
   "execution_count": null,
   "id": "statutory-textbook",
   "metadata": {},
   "outputs": [],
   "source": []
  }
 ],
 "metadata": {
  "kernelspec": {
   "display_name": "Python 3",
   "language": "python",
   "name": "python3"
  },
  "language_info": {
   "codemirror_mode": {
    "name": "ipython",
    "version": 3
   },
   "file_extension": ".py",
   "mimetype": "text/x-python",
   "name": "python",
   "nbconvert_exporter": "python",
   "pygments_lexer": "ipython3",
   "version": "3.8.0"
  }
 },
 "nbformat": 4,
 "nbformat_minor": 5
}
