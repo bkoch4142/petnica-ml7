{
 "cells": [
  {
   "cell_type": "code",
   "execution_count": 21,
   "id": "communist-motor",
   "metadata": {},
   "outputs": [
    {
     "name": "stderr",
     "output_type": "stream",
     "text": [
      "[nltk_data] Downloading package stopwords to /home/bkoch/nltk_data...\n",
      "[nltk_data]   Package stopwords is already up-to-date!\n",
      "[nltk_data] Downloading package punkt to /home/bkoch/nltk_data...\n",
      "[nltk_data]   Package punkt is already up-to-date!\n"
     ]
    },
    {
     "ename": "AttributeError",
     "evalue": "'OutStream' object has no attribute 'reconfigure'",
     "output_type": "error",
     "traceback": [
      "\u001b[0;31m---------------------------------------------------------------------------\u001b[0m",
      "\u001b[0;31mAttributeError\u001b[0m                            Traceback (most recent call last)",
      "\u001b[0;32m<ipython-input-21-5a2e6b8820f0>\u001b[0m in \u001b[0;36m<module>\u001b[0;34m\u001b[0m\n\u001b[1;32m     10\u001b[0m \u001b[0;34m\u001b[0m\u001b[0m\n\u001b[1;32m     11\u001b[0m \u001b[0;32mimport\u001b[0m \u001b[0msys\u001b[0m\u001b[0;34m\u001b[0m\u001b[0;34m\u001b[0m\u001b[0m\n\u001b[0;32m---> 12\u001b[0;31m \u001b[0msys\u001b[0m\u001b[0;34m.\u001b[0m\u001b[0mstdout\u001b[0m\u001b[0;34m.\u001b[0m\u001b[0mreconfigure\u001b[0m\u001b[0;34m(\u001b[0m\u001b[0mencoding\u001b[0m\u001b[0;34m=\u001b[0m\u001b[0;34m'utf-8'\u001b[0m\u001b[0;34m)\u001b[0m\u001b[0;34m\u001b[0m\u001b[0;34m\u001b[0m\u001b[0m\n\u001b[0m",
      "\u001b[0;31mAttributeError\u001b[0m: 'OutStream' object has no attribute 'reconfigure'"
     ]
    }
   ],
   "source": [
    "from nltk.stem import SnowballStemmer \n",
    "from nltk.tokenize import word_tokenize, sent_tokenize\n",
    "from collections import Counter\n",
    "import math\n",
    "import string \n",
    "string.punctuation\n",
    "import nltk\n",
    "nltk.download('stopwords')\n",
    "nltk.download('punkt')\n",
    "\n",
    "# import sys\n",
    "# sys.stdout.reconfigure(encoding='utf-8')"
   ]
  },
  {
   "cell_type": "code",
   "execution_count": 30,
   "id": "higher-obligation",
   "metadata": {},
   "outputs": [],
   "source": [
    "# data_pth='data'\n",
    "corpus_pth='data/corpus'\n",
    "input_pth='data/corpus/goose/Chinese goose.txt'"
   ]
  },
  {
   "cell_type": "code",
   "execution_count": 3,
   "id": "exempt-gnome",
   "metadata": {},
   "outputs": [],
   "source": [
    "import os\n",
    "txt_file_pths=[]\n",
    "for root, dirs, files in os.walk(corpus_pth, topdown=False):\n",
    "   for name in files:\n",
    "      txt_file_pths.append(os.path.join(root, name))\n"
   ]
  },
  {
   "cell_type": "code",
   "execution_count": 4,
   "id": "valued-grass",
   "metadata": {},
   "outputs": [],
   "source": [
    "texts=[open(pth,'r').read() for pth in txt_file_pths]"
   ]
  },
  {
   "cell_type": "code",
   "execution_count": 5,
   "id": "adapted-bubble",
   "metadata": {},
   "outputs": [],
   "source": [
    "tokenizer=word_tokenize\n",
    "stemmer=SnowballStemmer(language='english', ignore_stopwords=False)\n",
    "punctuation='!\"#$%&\\'()*+,-./:;<=>?@[\\\\]^_`{|}~'"
   ]
  },
  {
   "cell_type": "code",
   "execution_count": 41,
   "id": "canadian-artist",
   "metadata": {},
   "outputs": [
    {
     "data": {
      "text/plain": [
       "['hello', 'my', 'friend', 'run']"
      ]
     },
     "execution_count": 41,
     "metadata": {},
     "output_type": "execute_result"
    }
   ],
   "source": [
    "def preprocessor(txt):\n",
    "    tokens=[stemmer.stem(token.lower()) for token in tokenizer(txt) if token.isalnum()]\n",
    "    return tokens\n",
    "\n",
    "preprocessor('hello ( ) my friend running. ')"
   ]
  },
  {
   "cell_type": "code",
   "execution_count": 7,
   "id": "occupational-notice",
   "metadata": {},
   "outputs": [],
   "source": [
    "tok_corpus=[preprocessor(text) for text in texts]"
   ]
  },
  {
   "cell_type": "code",
   "execution_count": 8,
   "id": "innocent-helena",
   "metadata": {},
   "outputs": [],
   "source": [
    "def tfidf(tok_doc, tok_corpus):\n",
    "    doc_length=len(tok_doc)\n",
    "    corpus_length=len(tok_corpus)\n",
    "\n",
    "    #tf\n",
    "    term_count=Counter(tok_doc)\n",
    "    term_frequency={key:value/doc_length for key, value in term_count.items()}\n",
    "    \n",
    "    #idf\n",
    "    inverse_doc_frequency={}\n",
    "    for key in tok_doc:\n",
    "        doc_frequency=0\n",
    "        for doc in tok_corpus:\n",
    "            if key in doc:\n",
    "                doc_frequency+=1\n",
    "        inverse_doc_frequency[key]=math.log(corpus_length/doc_frequency)\n",
    "    \n",
    "    #tfidf\n",
    "    tfidf={}\n",
    "    for key in tok_doc:\n",
    "        tfidf[key]=term_frequency[key] * inverse_doc_frequency[key]\n",
    "        \n",
    "    return tfidf\n",
    "    \n"
   ]
  },
  {
   "cell_type": "code",
   "execution_count": 9,
   "id": "constitutional-survival",
   "metadata": {},
   "outputs": [
    {
     "data": {
      "text/plain": [
       "{'joseph': 0.056622301538734765,\n",
       " 'jame': 0.04874267560326042,\n",
       " 'rogan': 0.1468906415754751,\n",
       " 'born': 0.04095551389721024,\n",
       " 'august': 0.04095551389721024,\n",
       " '11': 0.04874267560326042,\n",
       " '1967': 0.07757592351948057,\n",
       " 'is': 0.00040900308639381334,\n",
       " 'an': 0.007750653741057468,\n",
       " 'american': 0.02744001029360477,\n",
       " 'comedian': 0.11027023195320478,\n",
       " 'podcast': 0.11027023195320478,\n",
       " 'host': 0.10108983262453923,\n",
       " 'and': 0.0016461741726914276,\n",
       " 'mix': 0.0382874236414257,\n",
       " 'martial': 0.12378573555681026,\n",
       " 'art': 0.04095551389721024,\n",
       " 'color': 0.03959478074653508,\n",
       " 'comment': 0.05245019677360123,\n",
       " 'he': 0.019269261692505268,\n",
       " 'has': 0.008261205463486042,\n",
       " 'also': 0.007235483507927586,\n",
       " 'work': 0.015829787151330914,\n",
       " 'as': 0.0020971275136856394,\n",
       " 'a': 0.0,\n",
       " 'televis': 0.050544916312269615,\n",
       " 'actor': 0.09324271116100509}"
      ]
     },
     "execution_count": 9,
     "metadata": {},
     "output_type": "execute_result"
    }
   ],
   "source": [
    "# Unit test\n",
    "text='Joseph James Rogan (born August 11, 1967) is an American comedian, podcast host, and mixed martial arts color commentator. He has also worked as a television host and an actor.'\n",
    "tok_text=preprocessor(text)\n",
    "tfidf(tok_text, tok_corpus)"
   ]
  },
  {
   "cell_type": "code",
   "execution_count": 10,
   "id": "reduced-identification",
   "metadata": {},
   "outputs": [],
   "source": [
    "tok_text=preprocessor(open(input_pth,'r').read())"
   ]
  },
  {
   "cell_type": "code",
   "execution_count": 11,
   "id": "forty-marks",
   "metadata": {},
   "outputs": [],
   "source": [
    "result=tfidf(tok_text, tok_corpus)"
   ]
  },
  {
   "cell_type": "code",
   "execution_count": 12,
   "id": "parental-schema",
   "metadata": {},
   "outputs": [
    {
     "data": {
      "text/plain": [
       "[('chines', 0.07214946602648957),\n",
       " ('goos', 0.06933343045559359),\n",
       " ('breed', 0.06763759193657246),\n",
       " ('gees', 0.061494611463241304),\n",
       " ('knob', 0.05684038877608635),\n",
       " ('swan', 0.0428155306351554),\n",
       " ('lay', 0.03381879596828623),\n",
       " ('femal', 0.026000036420847597),\n",
       " ('wild', 0.025012201913639877),\n",
       " ('descend', 0.023747731689636908)]"
      ]
     },
     "execution_count": 12,
     "metadata": {},
     "output_type": "execute_result"
    }
   ],
   "source": [
    "result=[(k,v) for k, v in sorted(result.items(), key=lambda item: item[1], reverse=True)][:10]\n",
    "result"
   ]
  },
  {
   "cell_type": "code",
   "execution_count": 13,
   "id": "sporting-underwear",
   "metadata": {},
   "outputs": [
    {
     "data": {
      "text/plain": [
       "'chines, goos, breed, gees, knob, swan, lay, femal, wild, descend'"
      ]
     },
     "execution_count": 13,
     "metadata": {},
     "output_type": "execute_result"
    }
   ],
   "source": [
    "', '.join([k for k,v in result])"
   ]
  },
  {
   "cell_type": "code",
   "execution_count": 43,
   "id": "desperate-appointment",
   "metadata": {},
   "outputs": [],
   "source": [
    "def task1(corpus_pth, input_pth):\n",
    "    \n",
    "    #find all txt files\n",
    "    txt_file_pths=[]\n",
    "    for root, dirs, files in os.walk(corpus_pth, topdown=False):\n",
    "       for name in files:\n",
    "          txt_file_pths.append(os.path.join(root, name))\n",
    "    \n",
    "    #read them\n",
    "    texts=[open(pth,'r').read() for pth in txt_file_pths]\n",
    "    \n",
    "    #preprocess them\n",
    "    tok_corpus=[preprocessor(text) for text in texts]\n",
    "    \n",
    "    #read input doc\n",
    "    tok_text=preprocessor(open(input_pth,'r').read())\n",
    "    \n",
    "    #calculate tfidf for each term\n",
    "    tfidf_scores=tfidf(tok_text,tok_corpus)\n",
    "    \n",
    "    # extract top 10\n",
    "    top_10=[(k,v) for k, v in sorted(tfidf_scores.items(), key=lambda item: item[1], reverse=True)][:10]\n",
    "    \n",
    "    #print top 10\n",
    "    print(', '.join([k for k,v in top_10]))\n",
    "    \n",
    "    return tfidf_scores\n",
    "    \n",
    "\n",
    "    "
   ]
  },
  {
   "cell_type": "code",
   "execution_count": 44,
   "id": "collected-calcium",
   "metadata": {},
   "outputs": [
    {
     "name": "stdout",
     "output_type": "stream",
     "text": [
      "chines, goos, breed, gees, knob, swan, lay, femal, wild, descend\n"
     ]
    }
   ],
   "source": [
    "tfidf_scores=task1(corpus_pth,input_pth)"
   ]
  },
  {
   "cell_type": "code",
   "execution_count": null,
   "id": "absolute-rebate",
   "metadata": {},
   "outputs": [],
   "source": []
  },
  {
   "cell_type": "code",
   "execution_count": null,
   "id": "thirty-mustang",
   "metadata": {},
   "outputs": [],
   "source": []
  },
  {
   "cell_type": "markdown",
   "id": "lesser-exception",
   "metadata": {},
   "source": [
    "Extract the summary of a document using a technique based on TF-IDF. For each sentence, the sentence relevance score is defined as the sum of the TF-IDF scores of the most important 10 words in the sentence. The summary is then obtained by taking the 5 sentences with the greatest relevance scores, in the same order in which they appear in the original document. (If a sentence has fewer than 10 words, its sentence score is simply the sum of TF-IDF scores of all its words. If the document consists of 5 or fewer sentences, the summary is simply the entire document.)"
   ]
  },
  {
   "cell_type": "code",
   "execution_count": 46,
   "id": "celtic-broad",
   "metadata": {},
   "outputs": [
    {
     "name": "stdout",
     "output_type": "stream",
     "text": [
      "9\n",
      "The Chinese goose is a breed of domesticated goose descended from the wild swan goose.\n",
      "Chinese geese differ from the wild birds in much larger size (up to 5–10 kg in males, 4–9 kg in females), and in having an often strongly developed basal knob on the upper side of the bill.\n",
      "Chinese geese are a close cousin of the African goose, a heavier breed also descended from the swan goose.\n",
      "While many domestic Chinese geese have a similar body type to other breeds, the breed standards as defined in the American Poultry Association's Standard of Perfection and other sources call for a slimmer, taller fowl.\n",
      "A female Chinese goose can lay 50–60 eggs over the course of the breeding season (February to June), although there are reports of Chinese geese laying up to 100 eggs during that time.\n"
     ]
    }
   ],
   "source": [
    "def task2(text,tok_corpus):\n",
    "    sentences=sent_tokenize(text)\n",
    "    print(len(sentences))\n",
    "    if len(sentences)<6:\n",
    "        return text # da li treba spojit s razmakom ili samo text vratit \n",
    "    \n",
    "    sent_scores=[]\n",
    "    tok_text=preprocessor(text)\n",
    "    tfidf_score=tfidf(tok_text, tok_corpus)\n",
    "    \n",
    "    for sent in sentences:\n",
    "        tok_sent=preprocessor(sent)\n",
    "        tfidfs=[tfidf_score[tok] for tok in tok_sent]\n",
    "        tfidfs_top_10=sorted(tfidfs,reverse=True)[:10]\n",
    "        sent_score=sum(tfidfs_top_10)\n",
    "\n",
    "        sent_scores.append((sent,sent_score))\n",
    "    \n",
    "    sentences_result=[]\n",
    "    for sent,val in sorted(sent_scores, key=lambda item: item[1], reverse=True)[:5]:\n",
    "        sentences_result.append(sent)\n",
    "        \n",
    "    sentences_sorted=[]\n",
    "    for sent in sentences:\n",
    "        if sent in sentences_result:\n",
    "            sentences_sorted.append(sent)\n",
    "        \n",
    "    print('\\n'.join(sentences_sorted))\n",
    "    \n",
    "task2(open(input_pth,'r').read(), tok_corpus)   "
   ]
  },
  {
   "cell_type": "markdown",
   "id": "outdoor-module",
   "metadata": {},
   "source": [
    "The Chinese goose is a breed of domesticated goose descended from the wild swan goose.\n",
    "\n",
    "Chinese geese differ from the wild birds in much larger size (up to 5–10 kg in males, 4–9 kg in females), and in having an often strongly developed basal knob on the upper side of the bill.\n",
    "\n",
    "Chinese geese are a close cousin of the African goose, a heavier breed also descended from the swan goose.\n",
    "\n",
    "While many domestic Chinese geese have a similar body type to other breeds, the breed standards as defined in the American Poultry Association's Standard of Perfection and other sources call for a slimmer, taller fowl.\n",
    "\n",
    "A female Chinese goose can lay 50–60 eggs over the course of the breeding season (February to June), although there are reports of Chinese geese laying up to 100 eggs during that time.\n"
   ]
  },
  {
   "cell_type": "code",
   "execution_count": 19,
   "id": "transsexual-three",
   "metadata": {},
   "outputs": [],
   "source": [
    "?sent_tokenize"
   ]
  },
  {
   "cell_type": "code",
   "execution_count": null,
   "id": "successful-renewal",
   "metadata": {},
   "outputs": [],
   "source": []
  }
 ],
 "metadata": {
  "kernelspec": {
   "display_name": "Python 3",
   "language": "python",
   "name": "python3"
  },
  "language_info": {
   "codemirror_mode": {
    "name": "ipython",
    "version": 3
   },
   "file_extension": ".py",
   "mimetype": "text/x-python",
   "name": "python",
   "nbconvert_exporter": "python",
   "pygments_lexer": "ipython3",
   "version": "3.6.13"
  }
 },
 "nbformat": 4,
 "nbformat_minor": 5
}
