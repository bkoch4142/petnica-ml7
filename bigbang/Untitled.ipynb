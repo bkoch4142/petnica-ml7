{
 "cells": [
  {
   "cell_type": "markdown",
   "id": "compound-brunei",
   "metadata": {},
   "source": [
    "# Big Bang"
   ]
  },
  {
   "cell_type": "markdown",
   "id": "subtle-satellite",
   "metadata": {},
   "source": [
    "A) How many seconds ago (K, integer) was the beginning of time, given the particles at input as the final position? Assume that all particles were moving in a straight line along their velocity vectors since the beginning of time and nothing had changed their direction.\n",
    "\n",
    "B) All particles exist in an 2S x 2S unit square which has center at origin (0,0). In other words particles are bound by [-S, S] around each axis. Particles cannot exit the square, but when they hit the square they reflect off its inner sides without any momentum loss. Given the particles at input as the starting position, how many times have all particles hit the sides of the square in the following T seconds?\n",
    "\n",
    "Particles reflect off the wall such that the incoming angle of the particle with the wall is the same as its outgoing angle: Image of reflection or text describing it\n",
    "\n",
    "C) Each time a particle reflects off the square, it has a probability P of NOT being absorbed by the square. What is the expected number of remaining particles after T seconds?"
   ]
  },
  {
   "cell_type": "code",
   "execution_count": 1,
   "id": "educational-priest",
   "metadata": {},
   "outputs": [
    {
     "ename": "SyntaxError",
     "evalue": "invalid syntax (<ipython-input-1-5ee80a5b4d8c>, line 1)",
     "output_type": "error",
     "traceback": [
      "\u001b[0;36m  File \u001b[0;32m\"<ipython-input-1-5ee80a5b4d8c>\"\u001b[0;36m, line \u001b[0;32m1\u001b[0m\n\u001b[0;31m    Input:\u001b[0m\n\u001b[0m          ^\u001b[0m\n\u001b[0;31mSyntaxError\u001b[0m\u001b[0;31m:\u001b[0m invalid syntax\n"
     ]
    }
   ],
   "source": [
    "Input:\n",
    "\n",
    "2 10 2 0.5\n",
    "9.1 2.9 3.0 1.0\n",
    "-6.1 -6.2 -2.0 -2.0\n",
    "Output:\n",
    "\n",
    "3 3 0.75"
   ]
  },
  {
   "cell_type": "code",
   "execution_count": 2,
   "id": "gothic-utilization",
   "metadata": {},
   "outputs": [],
   "source": [
    "data_pth='data'"
   ]
  },
  {
   "cell_type": "code",
   "execution_count": 3,
   "id": "sunset-aquatic",
   "metadata": {},
   "outputs": [],
   "source": [
    "test_setting=[2, 10, 2, 0.5]\n",
    "p1=[9.1, 2.9, 3.0, 1.0]\n",
    "p2=[-6.1, -6.2, -2.0, -2.0]"
   ]
  },
  {
   "cell_type": "markdown",
   "id": "loving-apartment",
   "metadata": {},
   "source": [
    "# A) \n",
    "How many seconds ago (K, integer) was the beginning of time, given the particles at input as the final position? Assume that all particles were moving in a straight line along their velocity vectors since the beginning of time and nothing had changed their direction.\n",
    "Moramo to nekako izracunat za sve particles odjednom"
   ]
  },
  {
   "cell_type": "code",
   "execution_count": 10,
   "id": "driving-cookie",
   "metadata": {},
   "outputs": [],
   "source": [
    "import math"
   ]
  },
  {
   "cell_type": "code",
   "execution_count": 32,
   "id": "bibliographic-piano",
   "metadata": {},
   "outputs": [
    {
     "name": "stdout",
     "output_type": "stream",
     "text": [
      "part1\n",
      "3.0 4.0\n",
      "0.09999999999999964 -1.9000000000000004\n",
      "3.0\n",
      "part2\n",
      "3.0 4.0\n",
      "0.20000000000000018 -1.7999999999999998\n",
      "3.0\n"
     ]
    },
    {
     "data": {
      "text/plain": [
       "3.0"
      ]
     },
     "execution_count": 32,
     "metadata": {},
     "output_type": "execute_result"
    }
   ],
   "source": [
    "def calculate_beggining(px,py,vx,vy):\n",
    "#     assert da predznaci odgovaraju\n",
    "    px=abs(px)\n",
    "    py=abs(py)\n",
    "    vx=abs(vx)\n",
    "    vy=abs(vy)\n",
    "    \n",
    "    opt1=0\n",
    "    opt2=0\n",
    "    \n",
    "    # see how many times to subtract in order to obtain minimum distance from origin \n",
    "    #for x\n",
    "    print('part1')\n",
    "    px_opt1=px//vx\n",
    "    px_opt2=px//vx+1\n",
    "    px_rez1=px-(px_opt1)*vx\n",
    "    px_rez2=px-(px_opt2)*vx\n",
    "    print(px_opt1,px_opt2)\n",
    "    print(px_rez1, px_rez2)\n",
    "    if abs(px_rez1) < abs(px_rez2):\n",
    "        print(px_opt1)\n",
    "        opt1=px_opt1\n",
    "    else:\n",
    "        print(px_opt2)\n",
    "        opt1=px_opt2\n",
    "        \n",
    "    #for y\n",
    "    print('part2')\n",
    "    py_opt1=py//vy\n",
    "    py_opt2=py//vy+1\n",
    "    py_rez1=py-(py_opt1)*vy\n",
    "    py_rez2=py-(py_opt2)*vy\n",
    "    print(py_opt1,py_opt2)\n",
    "    print(py_rez1, py_rez2)\n",
    "    if abs(py_rez1) < abs(py_rez2):\n",
    "        print(py_opt1)\n",
    "        opt2=py_opt1\n",
    "    else:\n",
    "        print(py_opt2)\n",
    "        opt2=py_opt2\n",
    "    \n",
    "    #this will generate 2 suggestions from which one has to be choosen by comparing \n",
    "    opt1_rezx=px-opt1*vx\n",
    "    opt2_rezx=px-opt2*vx\n",
    "    opt1_rezy=py-opt1*vy\n",
    "    opt2_rezy=py-opt2*vy\n",
    "    \n",
    "    if (opt1_rezx + opt1_rezy) < (opt2_rezx + opt2_rezy):\n",
    "        return opt1\n",
    "    else:\n",
    "        return opt2\n",
    "    \n",
    "        \n",
    "    \n",
    "calculate_beggining(-6.1,-6.2,-2.0,-2.0)"
   ]
  },
  {
   "cell_type": "code",
   "execution_count": 8,
   "id": "behavioral-freeware",
   "metadata": {},
   "outputs": [
    {
     "data": {
      "text/plain": [
       "3.0"
      ]
     },
     "execution_count": 8,
     "metadata": {},
     "output_type": "execute_result"
    }
   ],
   "source": [
    "-9.1//-3.0"
   ]
  },
  {
   "cell_type": "markdown",
   "id": "knowing-accent",
   "metadata": {},
   "source": [
    "# B)\n",
    "All particles exist in an 2S x 2S unit square which has center at origin (0,0). In other words particles are bound by [-S, S] around each axis. Particles cannot exit the square, but when they hit the square they reflect off its inner sides without any momentum loss. Given the particles at input as the starting position, how many times have all particles hit the sides of the square in the following T seconds?"
   ]
  },
  {
   "cell_type": "code",
   "execution_count": 115,
   "id": "inside-boring",
   "metadata": {},
   "outputs": [
    {
     "name": "stdout",
     "output_type": "stream",
     "text": [
      "px < -27\n",
      "-28\n",
      "-18\n",
      "-26\n",
      "state\n",
      "-26 -23 2 -1 1\n",
      "state\n",
      "-24 -24 2 -1 0\n",
      "state\n",
      "-22 -25 2 -1 0\n",
      "state\n",
      "-20 -26 2 -1 0\n",
      "state\n",
      "-18 -27 2 -1 0\n",
      "1\n"
     ]
    }
   ],
   "source": [
    "def simulate_second(px,py,vx, vy, bound, debug=False):\n",
    "    px_nb,py_nb=px+vx, py+vy\n",
    "    vx_new=0\n",
    "    vy_new=0\n",
    "    \n",
    "    hit_cnt=0\n",
    "    \n",
    "    if px_nb>bound:\n",
    "        \n",
    "        px_b= bound - (px_nb -bound)\n",
    "        \n",
    "        if debug:\n",
    "            print(f'px > {bound}')\n",
    "            print(px_nb)\n",
    "            print(px_nb-10)\n",
    "            print(px_b)\n",
    "        vx_new=-vx\n",
    "        hit_cnt+=1\n",
    "    elif px_nb<-bound:\n",
    "\n",
    "        px_b= -bound + (abs(px_nb) - abs(bound)) # ovo stavljeno u +\n",
    "        \n",
    "        if debug:\n",
    "            print(f'px < {-bound}')\n",
    "            print(px_nb)\n",
    "            print(px_nb+10) # +\n",
    "            print(px_b)\n",
    "        vx_new=-vx\n",
    "        hit_cnt+=1\n",
    "    else:\n",
    "        px_b=px_nb\n",
    "        vx_new=vx\n",
    "    \n",
    "    if py_nb>bound:\n",
    "\n",
    "        py_b= bound - (py_nb -bound )\n",
    "        \n",
    "        if debug:\n",
    "            print(f'py > {bound}')\n",
    "            print(py_nb)\n",
    "            print(py_nb-10)\n",
    "            print(py_b)\n",
    "        vy_new=-vy\n",
    "        hit_cnt+=1\n",
    "    elif py_nb<-bound:\n",
    "\n",
    "#         py_b= -bound + (py_nb -bound)\n",
    "        py_b= -bound + (abs(py_nb) - abs(bound))\n",
    "        \n",
    "        if debug:\n",
    "            print(f'py < {-bound}')\n",
    "            print(py_nb)\n",
    "            print(py_nb-10)\n",
    "            print(py_b)\n",
    "        vy_new=-vy\n",
    "        hit_cnt+=1\n",
    "    else:\n",
    "        py_b=py_nb\n",
    "        vy_new=vy\n",
    "        \n",
    "    return px_b, py_b, vx_new, vy_new, hit_cnt\n",
    "\n",
    "px,py,vx,vy,bound=-26, -22, -2, -1, 27,\n",
    "hit_result=0\n",
    "for i in range(5):\n",
    "    px,py,vx,vy,hit_cnt=simulate_second(px,py,vx,vy,bound, debug=True)\n",
    "    print('state')\n",
    "    print(px,py,vx,vy,hit_cnt)\n",
    "    hit_result+=hit_cnt\n",
    "print(hit_result)\n",
    "    \n",
    "    "
   ]
  },
  {
   "cell_type": "markdown",
   "id": "premium-treaty",
   "metadata": {},
   "source": [
    "### testing"
   ]
  },
  {
   "cell_type": "code",
   "execution_count": 67,
   "id": "subsequent-bacteria",
   "metadata": {},
   "outputs": [
    {
     "ename": "SyntaxError",
     "evalue": "invalid syntax (<ipython-input-67-ef218741de23>, line 1)",
     "output_type": "error",
     "traceback": [
      "\u001b[0;36m  File \u001b[0;32m\"<ipython-input-67-ef218741de23>\"\u001b[0;36m, line \u001b[0;32m1\u001b[0m\n\u001b[0;31m    4 27 21 0.81\u001b[0m\n\u001b[0m       ^\u001b[0m\n\u001b[0;31mSyntaxError\u001b[0m\u001b[0;31m:\u001b[0m invalid syntax\n"
     ]
    }
   ],
   "source": [
    "4 27 21 0.81\n",
    "12.447807 -4.372556 1.005432 -0.310954\n",
    "-26.766525 -22.208550 -2.157566 -1.893244\n",
    "-16.719295 -0.962478 -1.447866 0.006471\n",
    "4.423596 15.304557 0.391357 1.182638"
   ]
  },
  {
   "cell_type": "code",
   "execution_count": 93,
   "id": "earned-armstrong",
   "metadata": {},
   "outputs": [
    {
     "name": "stdout",
     "output_type": "stream",
     "text": [
      "4 27 21 0.81\n",
      "12.447807 -4.372556 1.005432 -0.310954\n",
      "-26.766525 -22.208550 -2.157566 -1.893244\n",
      "-16.719295 -0.962478 -1.447866 0.006471\n",
      "4.423596 15.304557 0.391357 1.182638\n"
     ]
    }
   ],
   "source": [
    "def read_input():\n",
    "    setting=input()\n",
    "    particle_cnt, bound, time_of_ref, ref_prob=(float(x) for x in setting.split(' '))\n",
    "    \n",
    "    particles=[]\n",
    "    for i in range(int(particle_cnt)):\n",
    "        particle=input()\n",
    "        px,py,vx,vy=(float(x) for x in particle.split(' '))\n",
    "        particles.append((px,py,vx,vy))\n",
    "    \n",
    "    return particle_cnt, bound, time_of_ref, ref_prob, particles\n",
    "\n",
    "\n",
    "particle_cnt, bound, time_of_ref, ref_prob, particles=read_input()"
   ]
  },
  {
   "cell_type": "code",
   "execution_count": 117,
   "id": "electrical-panic",
   "metadata": {},
   "outputs": [],
   "source": [
    "def read_file(fpth):\n",
    "    with open(fpth, 'r') as f:\n",
    "        lines=f.readlines()\n",
    "    particle_cnt, bound, time_of_ref, ref_prob=(float(x) for x in lines[0].split(' '))\n",
    "    \n",
    "    particles=[]\n",
    "    for i in range(int(particle_cnt)):\n",
    "        particle=lines[i+1]\n",
    "        px,py,vx,vy=(float(x) for x in particle.split(' '))\n",
    "        particles.append((px,py,vx,vy))\n",
    "    \n",
    "    return particle_cnt, bound, time_of_ref, ref_prob, particles\n"
   ]
  },
  {
   "cell_type": "code",
   "execution_count": 139,
   "id": "blessed-salvation",
   "metadata": {},
   "outputs": [],
   "source": [
    "particle_cnt, bound, time_of_ref, ref_prob, particles=read_file(fpth='data/09.in')"
   ]
  },
  {
   "cell_type": "code",
   "execution_count": 129,
   "id": "graduate-belle",
   "metadata": {},
   "outputs": [
    {
     "name": "stdout",
     "output_type": "stream",
     "text": [
      "691\n"
     ]
    }
   ],
   "source": [
    "def task_b(particles, bound, time):\n",
    "#     print('bound ',bound)\n",
    "    hit_result=0\n",
    "    \n",
    "    for idx,particle in enumerate(particles):\n",
    "#         print('particle ',idx)\n",
    "        px,py,vx,vy= particle\n",
    "#         print(f\"{px:.2f}\\t {py:.2f}\\t {vx:.2f}\\t {vy:.2f}\")\n",
    "        for i in range(int(time)):\n",
    "            px,py,vx,vy,hit_cnt=simulate_second(px,py,vx,vy,bound)\n",
    "#             print(f\"{px:.2f}\\t {py:.2f}\\t {vx:.2f}\\t {vy:.2f}\\t {hit_cnt:.2f}\")\n",
    "            hit_result+=hit_cnt\n",
    "    return hit_result\n",
    "    \n",
    "print(task_b(particles, bound, time_of_ref))"
   ]
  },
  {
   "cell_type": "code",
   "execution_count": null,
   "id": "duplicate-petroleum",
   "metadata": {},
   "outputs": [],
   "source": []
  },
  {
   "cell_type": "code",
   "execution_count": 132,
   "id": "third-somewhere",
   "metadata": {},
   "outputs": [
    {
     "data": {
      "text/plain": [
       "(4.0,\n",
       " 27.0,\n",
       " 21.0,\n",
       " 0.81,\n",
       " [(12.447807, -4.372556, 1.005432, -0.310954),\n",
       "  (-26.766525, -22.20855, -2.157566, -1.893244),\n",
       "  (-16.719295, -0.962478, -1.447866, 0.006471),\n",
       "  (4.423596, 15.304557, 0.391357, 1.182638)])"
      ]
     },
     "execution_count": 132,
     "metadata": {},
     "output_type": "execute_result"
    }
   ],
   "source": [
    "particle_cnt, bound, time_of_ref, ref_prob, particles"
   ]
  },
  {
   "cell_type": "markdown",
   "id": "confidential-fishing",
   "metadata": {},
   "source": [
    "# B AND C"
   ]
  },
  {
   "cell_type": "code",
   "execution_count": 145,
   "id": "medical-patrick",
   "metadata": {},
   "outputs": [
    {
     "name": "stdout",
     "output_type": "stream",
     "text": [
      "(685, 1294.8102999999903)\n"
     ]
    }
   ],
   "source": [
    "def task_b_and_c(particles, bound, time, ref_prob):\n",
    "#     print('bound ',bound)\n",
    "    hit_result=0\n",
    "    probas=[]\n",
    "    \n",
    "    for idx,particle in enumerate(particles):\n",
    "#         print('particle ',idx)\n",
    "        px,py,vx,vy= particle\n",
    "#         print(f\"{px:.2f}\\t {py:.2f}\\t {vx:.2f}\\t {vy:.2f}\")\n",
    "        this_particle_hit=0\n",
    "        for i in range(int(time)):\n",
    "            px,py,vx,vy,hit_cnt=simulate_second(px,py,vx,vy,bound)\n",
    "#             print(f\"{px:.2f}\\t {py:.2f}\\t {vx:.2f}\\t {vy:.2f}\\t {hit_cnt:.2f}\")\n",
    "            this_particle_hit+=hit_cnt\n",
    "            hit_result+=hit_cnt\n",
    "#         print(this_particle_hit)\n",
    "        proba=pow(ref_prob,this_particle_hit)\n",
    "#         print(proba)\n",
    "        probas.append(proba)\n",
    "    return hit_result, sum(probas)\n",
    "    \n",
    "print(task_b_and_c(particles, bound, time_of_ref, ref_prob))"
   ]
  },
  {
   "cell_type": "code",
   "execution_count": 185,
   "id": "apart-prediction",
   "metadata": {},
   "outputs": [
    {
     "data": {
      "text/plain": [
       "(45.0,\n",
       " 36.0,\n",
       " 736.0,\n",
       " 0.85,\n",
       " [(-18.473674, 7.252591, -1.371891, 0.439668),\n",
       "  (13.378372, 2.583132, 0.828806, 0.298619),\n",
       "  (0.233224, 10.621285, 0.090513, 0.76184),\n",
       "  (12.229613, 12.000748, 0.905848, 0.876062),\n",
       "  (3.595805, 0.665346, 0.281696, 0.021201),\n",
       "  (4.678635, 3.277429, 0.301174, 0.222721),\n",
       "  (33.46165, -11.049605, 2.299807, -0.857335),\n",
       "  (10.369276, -6.835163, 0.642016, -0.611066),\n",
       "  (-2.317814, 4.760111, -0.009381, 0.295628),\n",
       "  (17.487865, 9.123485, 1.333851, 0.616586),\n",
       "  (12.422941, -23.302329, 0.903359, -1.694831),\n",
       "  (5.860212, -28.116337, 0.299612, -2.054816),\n",
       "  (-14.809576, 33.845557, -1.081804, 2.483546),\n",
       "  (19.135647, 0.198325, 1.452703, -0.054034),\n",
       "  (4.95407, -2.577897, 0.364016, -0.215301),\n",
       "  (-11.106147, 9.737951, -0.869658, 0.743541),\n",
       "  (-13.355547, -7.560301, -0.835617, -0.494891),\n",
       "  (8.615337, -0.911682, 0.460221, -0.107659),\n",
       "  (-6.737381, 13.84338, -0.398808, 1.119655),\n",
       "  (-6.448151, 15.693549, -0.395458, 1.127616),\n",
       "  (7.17988, 10.496473, 0.467007, 0.695841),\n",
       "  (-5.905835, 8.304431, -0.379595, 0.566864),\n",
       "  (-27.70192, 12.663627, -2.041029, 0.814351),\n",
       "  (8.540005, 1.127879, 0.670047, 0.142149),\n",
       "  (11.406508, 17.805265, 0.936564, 1.292407),\n",
       "  (-22.31244, -14.640052, -1.503758, -1.02024),\n",
       "  (-1.010751, 20.962677, -0.154124, 1.500688),\n",
       "  (-10.017196, -7.084939, -0.746622, -0.6173),\n",
       "  (-0.05317, 11.977967, -0.056654, 0.737168),\n",
       "  (-5.244351, 11.627644, -0.346428, 0.835462),\n",
       "  (-3.159817, 18.236223, -0.1908, 1.305588),\n",
       "  (-5.667832, 2.065934, -0.44353, 0.21202),\n",
       "  (5.014004, 14.707465, 0.339964, 0.948522),\n",
       "  (16.57683, -0.022582, 1.105749, -0.011693),\n",
       "  (24.271799, -4.426292, 1.763567, -0.324644),\n",
       "  (6.309704, -0.201466, 0.306946, 0.027459),\n",
       "  (2.376459, -8.810657, 0.136029, -0.580856),\n",
       "  (3.922823, 5.418143, 0.245798, 0.481479),\n",
       "  (-10.558422, -8.66606, -0.785617, -0.590444),\n",
       "  (5.496853, -20.072612, 0.330783, -1.376778),\n",
       "  (30.045082, 13.86288, 2.098341, 0.908623),\n",
       "  (-12.355045, 5.237906, -0.86277, 0.264944),\n",
       "  (11.980117, -5.816744, 0.894589, -0.52887),\n",
       "  (-12.334909, -30.910415, -0.963034, -2.222318),\n",
       "  (-1.500158, -4.475124, 0.024369, -0.363497)])"
      ]
     },
     "execution_count": 185,
     "metadata": {},
     "output_type": "execute_result"
    }
   ],
   "source": [
    "particle_cnt, bound, time_of_ref, ref_prob, particles=read_file(fpth='data/04.in')\n",
    "particle_cnt, bound, time_of_ref, ref_prob, particles"
   ]
  },
  {
   "cell_type": "code",
   "execution_count": 186,
   "id": "fiscal-watch",
   "metadata": {},
   "outputs": [],
   "source": [
    "x_sum=sum([particle[0] for particle in particles])\n",
    "y_sum=sum([particle[1] for particle in particles])\n",
    "vx_sum=sum([particle[2] for particle in particles])\n",
    "vy_sum=sum([particle[3] for particle in particles])\n",
    "\n"
   ]
  },
  {
   "cell_type": "code",
   "execution_count": 187,
   "id": "several-subscriber",
   "metadata": {},
   "outputs": [
    {
     "data": {
      "text/plain": [
       "1.9660572222222221"
      ]
     },
     "execution_count": 187,
     "metadata": {},
     "output_type": "execute_result"
    }
   ],
   "source": [
    "x_sum/particle_cnt"
   ]
  },
  {
   "cell_type": "code",
   "execution_count": 188,
   "id": "intimate-victim",
   "metadata": {},
   "outputs": [
    {
     "data": {
      "text/plain": [
       "0.13437326666666666"
      ]
     },
     "execution_count": 188,
     "metadata": {},
     "output_type": "execute_result"
    }
   ],
   "source": [
    "vx_sum/particle_cnt"
   ]
  },
  {
   "cell_type": "code",
   "execution_count": 189,
   "id": "sapphire-tolerance",
   "metadata": {},
   "outputs": [
    {
     "data": {
      "text/plain": [
       "2.058158800000001"
      ]
     },
     "execution_count": 189,
     "metadata": {},
     "output_type": "execute_result"
    }
   ],
   "source": [
    "y_sum/particle_cnt"
   ]
  },
  {
   "cell_type": "code",
   "execution_count": 190,
   "id": "paperback-chart",
   "metadata": {},
   "outputs": [
    {
     "data": {
      "text/plain": [
       "0.1336372222222223"
      ]
     },
     "execution_count": 190,
     "metadata": {},
     "output_type": "execute_result"
    }
   ],
   "source": [
    "vy_sum/particle_cnt"
   ]
  },
  {
   "cell_type": "code",
   "execution_count": 191,
   "id": "foster-holder",
   "metadata": {},
   "outputs": [
    {
     "data": {
      "text/plain": [
       "14.631312246797767"
      ]
     },
     "execution_count": 191,
     "metadata": {},
     "output_type": "execute_result"
    }
   ],
   "source": [
    "(x_sum/particle_cnt)/(vx_sum/particle_cnt)"
   ]
  },
  {
   "cell_type": "code",
   "execution_count": 192,
   "id": "declared-playlist",
   "metadata": {},
   "outputs": [
    {
     "data": {
      "text/plain": [
       "15.016200798659852"
      ]
     },
     "execution_count": 192,
     "metadata": {},
     "output_type": "execute_result"
    }
   ],
   "source": [
    "((x_sum/particle_cnt)/(vx_sum/particle_cnt) + (y_sum/particle_cnt)/(vy_sum/particle_cnt))/2"
   ]
  },
  {
   "cell_type": "code",
   "execution_count": 425,
   "id": "scheduled-advocate",
   "metadata": {},
   "outputs": [],
   "source": [
    "def task_a(particles, particle_cnt):\n",
    "    \n",
    "\n",
    "    particles=np.array(particles)\n",
    "    means=np.sum(particles,axis=0)\n",
    "    x_sum=means[0]\n",
    "    y_sum=means[1]\n",
    "    vx_sum=means[2]\n",
    "    vy_sum=means[3]\n",
    "    aprox=int(((x_sum/particle_cnt)/(vx_sum/particle_cnt) + (y_sum/particle_cnt)/(vy_sum/particle_cnt)))/2\n",
    "#     print('aprox',aprox)\n",
    "    \n",
    "\n",
    "    start_subs=aprox-3\n",
    "    before_n_secs=start_subs\n",
    "    \n",
    "    min_x_std=np.std(particles[:,0]-start_subs*particles[:,2])\n",
    "    min_y_std=np.std(particles[:,1]-start_subs*particles[:,3])\n",
    "#     print('min ', min_x_std, min_y_std)\n",
    "    \n",
    "    for i in range(int(start_subs)+1, int(aprox)+5, 1):\n",
    "#         print(i)\n",
    "        x_std=np.std(particles[:,0]-i*particles[:,2])\n",
    "        y_std=np.std(particles[:,0]-i*particles[:,2])\n",
    "\n",
    "#         print('x_dif ',x_dif)\n",
    "#         print('y_dif ',y_dif)\n",
    "#         print('x_std', x_std)\n",
    "#         print('y_std', y_std)\n",
    "#         print()\n",
    "        if (abs(x_std)+abs(y_std))<(abs(min_x_std)+abs(min_y_std)):\n",
    "            min_x_std=x_std\n",
    "            min_y_std=y_std\n",
    "            before_n_secs=i\n",
    "        else:\n",
    "#             print('breaking')\n",
    "            break\n",
    "            \n",
    "    return before_n_secs\n",
    "    \n"
   ]
  },
  {
   "cell_type": "code",
   "execution_count": null,
   "id": "hazardous-basics",
   "metadata": {},
   "outputs": [],
   "source": []
  },
  {
   "cell_type": "code",
   "execution_count": 426,
   "id": "minus-queue",
   "metadata": {},
   "outputs": [],
   "source": [
    "particle_cnt, bound, time_of_ref, ref_prob, particles=read_file(fpth='data/01.in')"
   ]
  },
  {
   "cell_type": "code",
   "execution_count": 427,
   "id": "infinite-democrat",
   "metadata": {},
   "outputs": [
    {
     "name": "stdout",
     "output_type": "stream",
     "text": [
      "17 0 4.0\n",
      "\n"
     ]
    }
   ],
   "source": [
    "print(open('data/01.out').read())"
   ]
  },
  {
   "cell_type": "code",
   "execution_count": 428,
   "id": "eight-laugh",
   "metadata": {},
   "outputs": [
    {
     "data": {
      "text/plain": [
       "17"
      ]
     },
     "execution_count": 428,
     "metadata": {},
     "output_type": "execute_result"
    }
   ],
   "source": [
    "task_a(particles, particle_cnt)"
   ]
  },
  {
   "cell_type": "code",
   "execution_count": 433,
   "id": "patient-palace",
   "metadata": {},
   "outputs": [
    {
     "name": "stdout",
     "output_type": "stream",
     "text": [
      "17 0 4.0\n",
      "17\n",
      "(0, 4.0)\n",
      "\n",
      "12 5 3.0861000000000005\n",
      "12\n",
      "(5, 3.0861000000000005)\n",
      "\n",
      "18 37 26.813613\n",
      "18\n",
      "(37, 26.813612999999997)\n",
      "\n",
      "14 691 7.475906454777942\n",
      "14\n",
      "(691, 7.475906454777943)\n",
      "\n",
      "131 621 263.34976\n",
      "131\n",
      "(621, 263.34976000000063)\n",
      "\n",
      "198 404 387.74200000000013\n",
      "198\n",
      "(404, 387.74199999999905)\n",
      "\n",
      "268 326 1056.972703\n",
      "268\n",
      "(326, 1056.972703)\n",
      "\n",
      "359 833 814.78656\n",
      "359\n",
      "(833, 814.7865599999933)\n",
      "\n",
      "966 685 1294.8103\n",
      "966\n",
      "(685, 1294.8102999999903)\n",
      "\n",
      "983 592 1300.4135999999999\n",
      "983\n",
      "(592, 1300.413599999994)\n",
      "\n"
     ]
    }
   ],
   "source": [
    "for i in range(1,11,1):\n",
    "    if i < 10:\n",
    "        i_str='0'+str(i)\n",
    "    else:\n",
    "        i_str=str(i)\n",
    "        \n",
    "    particle_cnt, bound, time_of_ref, ref_prob, particles=read_file(fpth=f'data/{i_str}.in')\n",
    "    print(open(f'data/{i_str}.out').read().strip())\n",
    "    print(task_a(particles, particle_cnt))\n",
    "    print(task_b_and_c(particles, bound, time_of_ref, ref_prob))\n",
    "    print()"
   ]
  },
  {
   "cell_type": "code",
   "execution_count": null,
   "id": "saving-speech",
   "metadata": {},
   "outputs": [],
   "source": []
  },
  {
   "cell_type": "code",
   "execution_count": 394,
   "id": "serious-ready",
   "metadata": {},
   "outputs": [
    {
     "data": {
      "text/plain": [
       "(1382, 4)"
      ]
     },
     "execution_count": 394,
     "metadata": {},
     "output_type": "execute_result"
    }
   ],
   "source": [
    "np.array(particles).shape"
   ]
  },
  {
   "cell_type": "code",
   "execution_count": 395,
   "id": "drawn-intention",
   "metadata": {},
   "outputs": [
    {
     "data": {
      "text/plain": [
       "array([-5500.093478,  5554.466791,    -5.582325,     5.641955])"
      ]
     },
     "execution_count": 395,
     "metadata": {},
     "output_type": "execute_result"
    }
   ],
   "source": [
    "np.sum(np.array(particles), axis=0)"
   ]
  },
  {
   "cell_type": "code",
   "execution_count": 196,
   "id": "muslim-insulin",
   "metadata": {},
   "outputs": [],
   "source": [
    "import numpy as np"
   ]
  },
  {
   "cell_type": "code",
   "execution_count": 207,
   "id": "answering-israel",
   "metadata": {},
   "outputs": [],
   "source": [
    "particless=np.array(particles)"
   ]
  },
  {
   "cell_type": "code",
   "execution_count": 219,
   "id": "sustained-render",
   "metadata": {},
   "outputs": [
    {
     "data": {
      "text/plain": [
       "-2.2293799999999973"
      ]
     },
     "execution_count": 219,
     "metadata": {},
     "output_type": "execute_result"
    }
   ],
   "source": [
    "np.sum(particless[:,0]-15*particless[:,2])"
   ]
  },
  {
   "cell_type": "code",
   "execution_count": 226,
   "id": "concerned-chrome",
   "metadata": {},
   "outputs": [
    {
     "name": "stdout",
     "output_type": "stream",
     "text": [
      "13\n",
      "14\n",
      "15\n"
     ]
    }
   ],
   "source": [
    "for i in range(15-2,16,1):\n",
    "    print(i)"
   ]
  },
  {
   "cell_type": "code",
   "execution_count": 326,
   "id": "radical-order",
   "metadata": {},
   "outputs": [
    {
     "ename": "ModuleNotFoundError",
     "evalue": "No module named 'scipy'",
     "output_type": "error",
     "traceback": [
      "\u001b[0;31m---------------------------------------------------------------------------\u001b[0m",
      "\u001b[0;31mModuleNotFoundError\u001b[0m                       Traceback (most recent call last)",
      "\u001b[0;32m<ipython-input-326-d4e05c900bd7>\u001b[0m in \u001b[0;36m<module>\u001b[0;34m\u001b[0m\n\u001b[1;32m      1\u001b[0m \u001b[0;32mfrom\u001b[0m \u001b[0mnumpy\u001b[0m\u001b[0;34m.\u001b[0m\u001b[0mrandom\u001b[0m \u001b[0;32mimport\u001b[0m \u001b[0mseed\u001b[0m\u001b[0;34m\u001b[0m\u001b[0;34m\u001b[0m\u001b[0m\n\u001b[1;32m      2\u001b[0m \u001b[0;32mfrom\u001b[0m \u001b[0mnumpy\u001b[0m\u001b[0;34m.\u001b[0m\u001b[0mrandom\u001b[0m \u001b[0;32mimport\u001b[0m \u001b[0mrandn\u001b[0m\u001b[0;34m\u001b[0m\u001b[0;34m\u001b[0m\u001b[0m\n\u001b[0;32m----> 3\u001b[0;31m \u001b[0;32mfrom\u001b[0m \u001b[0mscipy\u001b[0m\u001b[0;34m.\u001b[0m\u001b[0mstats\u001b[0m \u001b[0;32mimport\u001b[0m \u001b[0mshapiro\u001b[0m\u001b[0;34m\u001b[0m\u001b[0;34m\u001b[0m\u001b[0m\n\u001b[0m\u001b[1;32m      4\u001b[0m \u001b[0;31m# seed the random number generator\u001b[0m\u001b[0;34m\u001b[0m\u001b[0;34m\u001b[0m\u001b[0;34m\u001b[0m\u001b[0m\n\u001b[1;32m      5\u001b[0m \u001b[0mseed\u001b[0m\u001b[0;34m(\u001b[0m\u001b[0;36m1\u001b[0m\u001b[0;34m)\u001b[0m\u001b[0;34m\u001b[0m\u001b[0;34m\u001b[0m\u001b[0m\n",
      "\u001b[0;31mModuleNotFoundError\u001b[0m: No module named 'scipy'"
     ]
    }
   ],
   "source": [
    "from numpy.random import seed\n",
    "from numpy.random import randn\n",
    "from scipy.stats import shapiro\n",
    "# seed the random number generator\n",
    "seed(1)\n",
    "# generate univariate observations\n",
    "data = 5 * randn(100) + 50\n",
    "# normality test\n",
    "stat, p = shapiro(data)\n",
    "print('Statistics=%.3f, p=%.3f' % (stat, p))\n",
    "# interpret\n",
    "alpha = 0.05\n",
    "if p > alpha:\n",
    "\tprint('Sample looks Gaussian (fail to reject H0)')\n",
    "else:\n",
    "\tprint('Sample does not look Gaussian (reject H0)')"
   ]
  },
  {
   "cell_type": "code",
   "execution_count": null,
   "id": "affecting-shopping",
   "metadata": {},
   "outputs": [],
   "source": []
  }
 ],
 "metadata": {
  "kernelspec": {
   "display_name": "Python 3",
   "language": "python",
   "name": "python3"
  },
  "language_info": {
   "codemirror_mode": {
    "name": "ipython",
    "version": 3
   },
   "file_extension": ".py",
   "mimetype": "text/x-python",
   "name": "python",
   "nbconvert_exporter": "python",
   "pygments_lexer": "ipython3",
   "version": "3.6.13"
  }
 },
 "nbformat": 4,
 "nbformat_minor": 5
}
